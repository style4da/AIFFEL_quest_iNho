{
  "nbformat": 4,
  "nbformat_minor": 0,
  "metadata": {
    "colab": {
      "provenance": [],
      "authorship_tag": "ABX9TyOVudGDvNRzTRVWm1hPgB4a",
      "include_colab_link": true
    },
    "kernelspec": {
      "name": "python3",
      "display_name": "Python 3"
    },
    "language_info": {
      "name": "python"
    }
  },
  "cells": [
    {
      "cell_type": "markdown",
      "metadata": {
        "id": "view-in-github",
        "colab_type": "text"
      },
      "source": [
        "<a href=\"https://colab.research.google.com/github/penguinhouse/AIFFEL_quest_iNho/blob/main/Node_project/CR6_DL_10/DL_project_boston_reuters_cifar10.ipynb\" target=\"_parent\"><img src=\"https://colab.research.google.com/assets/colab-badge.svg\" alt=\"Open In Colab\"/></a>"
      ]
    },
    {
      "cell_type": "markdown",
      "source": [
        "## 10-2. Boston 주택 가격 예측 모델"
      ],
      "metadata": {
        "id": "dU6JMwU9i1XG"
      }
    },
    {
      "cell_type": "markdown",
      "source": [
        "## 데이터 로드 및 전처리"
      ],
      "metadata": {
        "id": "QvEIaiN0jaaq"
      }
    },
    {
      "cell_type": "code",
      "execution_count": 19,
      "metadata": {
        "id": "Xjf-9FiRihWB"
      },
      "outputs": [],
      "source": [
        "from tensorflow.keras import models, layers\n",
        "import matplotlib.pyplot as plt"
      ]
    },
    {
      "cell_type": "code",
      "source": [
        "# keras.datasets 안에 boston_housing 데이터셋을 로드합니다.\n",
        "from keras.datasets import boston_housing\n",
        "\n",
        "(train_data, train_labels), (test_data, test_labels) = boston_housing.load_data()\n",
        "\n",
        "# 데이터셋의 크기를 확인합니다.\n",
        "print(len(train_data))\n",
        "print(len(test_data))"
      ],
      "metadata": {
        "colab": {
          "base_uri": "https://localhost:8080/"
        },
        "id": "7UNxlZNti9QS",
        "outputId": "ecf59e68-5c1f-4f70-834d-9926b1da7ff5"
      },
      "execution_count": 20,
      "outputs": [
        {
          "output_type": "stream",
          "name": "stdout",
          "text": [
            "404\n",
            "102\n"
          ]
        }
      ]
    },
    {
      "cell_type": "code",
      "source": [
        "# 문제 1-1: 데이터셋의 전처리를 위해 표준화 작업을 수행합니다.\n",
        "# 먼저 입력 데이터의 각 특성의 평균을 뺍니다.\n",
        "mean = train_data.mean(axis=0)\n",
        "train_data -= mean\n",
        "\n",
        "# 평균을 뺀 입력 데이터에서 표준편차를 나눕니다.\n",
        "# 데이터 특성의 중앙이 0에 가깝게 만들고, 표준편차가 1이 되게 만듭니다.\n",
        "std = train_data.std(axis=0)\n",
        "train_data /= std\n",
        "\n",
        "# 테스트 데이터셋도 마찬가지로 평균을 빼고, 표준편차로 나눕니다.\n",
        "test_data -= mean\n",
        "test_data /= std"
      ],
      "metadata": {
        "id": "ZpcU97A7jU67"
      },
      "execution_count": 21,
      "outputs": []
    },
    {
      "cell_type": "markdown",
      "source": [
        "## 모델 구성 및 컴파일"
      ],
      "metadata": {
        "id": "8FCjsWN0jhPU"
      }
    },
    {
      "cell_type": "code",
      "source": [
        "# 문제 1-2: 주택 가격 예측을 위한 딥러닝 모델 구성 및 컴파일합니다.\n",
        "# input_shape은 (train_data.shape[1], )으로 구성합니다.\n",
        "model = models.Sequential()\n",
        "model.add(layers.Dense(64, activation='relu', input_shape=(train_data.shape[1],)))\n",
        "model.add(layers.Dense(64, activation='relu'))\n",
        "model.add(layers.Dense(1))\n",
        "\n",
        "# 회귀(예측)을 위한 모델이므로 loss를 mse, metrics를 mae로 사용합니다.\n",
        "model.compile(optimizer='rmsprop', loss='mse', metrics=['mae'])"
      ],
      "metadata": {
        "id": "764M6czxjV9P"
      },
      "execution_count": 22,
      "outputs": []
    },
    {
      "cell_type": "markdown",
      "source": [
        "## 모델학습"
      ],
      "metadata": {
        "id": "-Vu4139Yj5_O"
      }
    },
    {
      "cell_type": "code",
      "source": [
        "# 문제 1-3: 예측을 위한 딥러닝 모델을 학습합니다.\n",
        "history = model.fit(train_data, train_labels, epochs=100, batch_size=16, validation_split=0.2)"
      ],
      "metadata": {
        "colab": {
          "base_uri": "https://localhost:8080/"
        },
        "id": "MjuT-P6Bjwxc",
        "outputId": "b14127d0-dc03-4a6c-fd25-f2b63ad9597c"
      },
      "execution_count": 23,
      "outputs": [
        {
          "output_type": "stream",
          "name": "stdout",
          "text": [
            "Epoch 1/100\n",
            "21/21 [==============================] - 1s 11ms/step - loss: 505.9928 - mae: 20.6635 - val_loss: 503.4684 - val_mae: 20.7112\n",
            "Epoch 2/100\n",
            "21/21 [==============================] - 0s 4ms/step - loss: 384.3806 - mae: 17.5773 - val_loss: 359.6723 - val_mae: 17.0569\n",
            "Epoch 3/100\n",
            "21/21 [==============================] - 0s 4ms/step - loss: 248.4316 - mae: 13.5193 - val_loss: 208.7923 - val_mae: 12.2542\n",
            "Epoch 4/100\n",
            "21/21 [==============================] - 0s 4ms/step - loss: 127.4183 - mae: 9.0922 - val_loss: 98.6554 - val_mae: 7.6154\n",
            "Epoch 5/100\n",
            "21/21 [==============================] - 0s 4ms/step - loss: 65.5200 - mae: 6.2192 - val_loss: 56.8265 - val_mae: 5.7937\n",
            "Epoch 6/100\n",
            "21/21 [==============================] - 0s 4ms/step - loss: 44.9338 - mae: 5.0479 - val_loss: 43.7281 - val_mae: 4.9382\n",
            "Epoch 7/100\n",
            "21/21 [==============================] - 0s 4ms/step - loss: 34.9839 - mae: 4.2682 - val_loss: 32.6484 - val_mae: 4.3975\n",
            "Epoch 8/100\n",
            "21/21 [==============================] - 0s 4ms/step - loss: 28.6748 - mae: 3.7701 - val_loss: 27.7290 - val_mae: 3.8743\n",
            "Epoch 9/100\n",
            "21/21 [==============================] - 0s 4ms/step - loss: 24.8449 - mae: 3.4697 - val_loss: 23.7910 - val_mae: 3.6376\n",
            "Epoch 10/100\n",
            "21/21 [==============================] - 0s 4ms/step - loss: 22.3732 - mae: 3.2352 - val_loss: 21.7234 - val_mae: 3.4830\n",
            "Epoch 11/100\n",
            "21/21 [==============================] - 0s 4ms/step - loss: 20.8023 - mae: 3.1354 - val_loss: 21.7487 - val_mae: 3.4087\n",
            "Epoch 12/100\n",
            "21/21 [==============================] - 0s 4ms/step - loss: 19.8364 - mae: 3.0039 - val_loss: 18.9422 - val_mae: 3.2774\n",
            "Epoch 13/100\n",
            "21/21 [==============================] - 0s 4ms/step - loss: 17.9225 - mae: 2.8935 - val_loss: 18.3855 - val_mae: 3.2003\n",
            "Epoch 14/100\n",
            "21/21 [==============================] - 0s 4ms/step - loss: 17.1726 - mae: 2.7900 - val_loss: 16.3125 - val_mae: 3.0899\n",
            "Epoch 15/100\n",
            "21/21 [==============================] - 0s 4ms/step - loss: 16.2089 - mae: 2.7301 - val_loss: 15.9690 - val_mae: 3.0782\n",
            "Epoch 16/100\n",
            "21/21 [==============================] - 0s 4ms/step - loss: 15.4194 - mae: 2.6721 - val_loss: 15.5179 - val_mae: 3.0576\n",
            "Epoch 17/100\n",
            "21/21 [==============================] - 0s 4ms/step - loss: 14.6188 - mae: 2.6564 - val_loss: 14.7708 - val_mae: 2.9341\n",
            "Epoch 18/100\n",
            "21/21 [==============================] - 0s 3ms/step - loss: 13.9444 - mae: 2.5340 - val_loss: 14.0340 - val_mae: 2.8644\n",
            "Epoch 19/100\n",
            "21/21 [==============================] - 0s 4ms/step - loss: 13.4025 - mae: 2.5576 - val_loss: 13.2239 - val_mae: 2.8308\n",
            "Epoch 20/100\n",
            "21/21 [==============================] - 0s 4ms/step - loss: 12.9770 - mae: 2.5356 - val_loss: 13.1287 - val_mae: 2.7926\n",
            "Epoch 21/100\n",
            "21/21 [==============================] - 0s 3ms/step - loss: 12.5028 - mae: 2.4470 - val_loss: 13.5518 - val_mae: 2.9237\n",
            "Epoch 22/100\n",
            "21/21 [==============================] - 0s 4ms/step - loss: 12.2232 - mae: 2.4397 - val_loss: 12.8066 - val_mae: 2.8078\n",
            "Epoch 23/100\n",
            "21/21 [==============================] - 0s 4ms/step - loss: 11.8056 - mae: 2.4210 - val_loss: 12.4870 - val_mae: 2.8036\n",
            "Epoch 24/100\n",
            "21/21 [==============================] - 0s 4ms/step - loss: 11.7152 - mae: 2.3600 - val_loss: 12.0046 - val_mae: 2.6921\n",
            "Epoch 25/100\n",
            "21/21 [==============================] - 0s 4ms/step - loss: 11.0164 - mae: 2.3018 - val_loss: 13.5203 - val_mae: 2.9128\n",
            "Epoch 26/100\n",
            "21/21 [==============================] - 0s 3ms/step - loss: 10.8953 - mae: 2.2953 - val_loss: 12.2771 - val_mae: 2.7163\n",
            "Epoch 27/100\n",
            "21/21 [==============================] - 0s 3ms/step - loss: 10.7371 - mae: 2.3042 - val_loss: 12.1749 - val_mae: 2.7096\n",
            "Epoch 28/100\n",
            "21/21 [==============================] - 0s 3ms/step - loss: 10.3579 - mae: 2.2714 - val_loss: 13.0409 - val_mae: 2.8374\n",
            "Epoch 29/100\n",
            "21/21 [==============================] - 0s 4ms/step - loss: 9.9822 - mae: 2.2675 - val_loss: 12.1345 - val_mae: 2.6573\n",
            "Epoch 30/100\n",
            "21/21 [==============================] - 0s 4ms/step - loss: 9.7912 - mae: 2.1936 - val_loss: 11.9787 - val_mae: 2.6048\n",
            "Epoch 31/100\n",
            "21/21 [==============================] - 0s 4ms/step - loss: 9.5876 - mae: 2.2101 - val_loss: 11.9405 - val_mae: 2.6539\n",
            "Epoch 32/100\n",
            "21/21 [==============================] - 0s 3ms/step - loss: 9.6165 - mae: 2.1685 - val_loss: 12.1983 - val_mae: 2.6819\n",
            "Epoch 33/100\n",
            "21/21 [==============================] - 0s 4ms/step - loss: 9.6125 - mae: 2.1501 - val_loss: 12.2338 - val_mae: 2.5241\n",
            "Epoch 34/100\n",
            "21/21 [==============================] - 0s 4ms/step - loss: 9.2361 - mae: 2.1439 - val_loss: 12.1404 - val_mae: 2.6020\n",
            "Epoch 35/100\n",
            "21/21 [==============================] - 0s 4ms/step - loss: 9.3018 - mae: 2.1337 - val_loss: 12.5030 - val_mae: 2.6142\n",
            "Epoch 36/100\n",
            "21/21 [==============================] - 0s 4ms/step - loss: 8.8531 - mae: 2.1104 - val_loss: 13.4152 - val_mae: 2.8443\n",
            "Epoch 37/100\n",
            "21/21 [==============================] - 0s 5ms/step - loss: 8.8768 - mae: 2.0964 - val_loss: 13.1917 - val_mae: 2.6471\n",
            "Epoch 38/100\n",
            "21/21 [==============================] - 0s 4ms/step - loss: 8.7724 - mae: 2.0951 - val_loss: 12.7914 - val_mae: 2.5798\n",
            "Epoch 39/100\n",
            "21/21 [==============================] - 0s 4ms/step - loss: 8.6183 - mae: 2.0831 - val_loss: 13.4601 - val_mae: 2.6718\n",
            "Epoch 40/100\n",
            "21/21 [==============================] - 0s 4ms/step - loss: 8.4821 - mae: 2.0508 - val_loss: 12.9300 - val_mae: 2.5632\n",
            "Epoch 41/100\n",
            "21/21 [==============================] - 0s 4ms/step - loss: 8.5675 - mae: 2.0721 - val_loss: 13.8873 - val_mae: 2.5962\n",
            "Epoch 42/100\n",
            "21/21 [==============================] - 0s 4ms/step - loss: 8.4962 - mae: 2.0309 - val_loss: 14.6874 - val_mae: 2.7395\n",
            "Epoch 43/100\n",
            "21/21 [==============================] - 0s 4ms/step - loss: 8.1544 - mae: 2.0456 - val_loss: 13.6117 - val_mae: 2.7201\n",
            "Epoch 44/100\n",
            "21/21 [==============================] - 0s 4ms/step - loss: 8.2393 - mae: 2.0348 - val_loss: 12.9610 - val_mae: 2.5509\n",
            "Epoch 45/100\n",
            "21/21 [==============================] - 0s 5ms/step - loss: 8.0389 - mae: 1.9850 - val_loss: 13.9782 - val_mae: 2.5974\n",
            "Epoch 46/100\n",
            "21/21 [==============================] - 0s 5ms/step - loss: 8.0088 - mae: 2.0009 - val_loss: 13.0965 - val_mae: 2.7178\n",
            "Epoch 47/100\n",
            "21/21 [==============================] - 0s 8ms/step - loss: 7.9019 - mae: 1.9665 - val_loss: 13.1136 - val_mae: 2.5181\n",
            "Epoch 48/100\n",
            "21/21 [==============================] - 0s 5ms/step - loss: 7.6906 - mae: 1.9404 - val_loss: 14.3557 - val_mae: 2.5967\n",
            "Epoch 49/100\n",
            "21/21 [==============================] - 0s 6ms/step - loss: 7.9181 - mae: 1.9777 - val_loss: 13.7175 - val_mae: 2.5840\n",
            "Epoch 50/100\n",
            "21/21 [==============================] - 0s 5ms/step - loss: 7.5428 - mae: 1.9842 - val_loss: 12.7787 - val_mae: 2.5274\n",
            "Epoch 51/100\n",
            "21/21 [==============================] - 0s 6ms/step - loss: 7.5649 - mae: 1.9369 - val_loss: 13.6626 - val_mae: 2.7136\n",
            "Epoch 52/100\n",
            "21/21 [==============================] - 0s 6ms/step - loss: 7.6857 - mae: 1.9433 - val_loss: 15.2473 - val_mae: 2.6014\n",
            "Epoch 53/100\n",
            "21/21 [==============================] - 0s 6ms/step - loss: 7.5631 - mae: 1.9421 - val_loss: 13.2725 - val_mae: 2.5779\n",
            "Epoch 54/100\n",
            "21/21 [==============================] - 0s 6ms/step - loss: 7.5519 - mae: 1.9219 - val_loss: 13.9400 - val_mae: 2.6520\n",
            "Epoch 55/100\n",
            "21/21 [==============================] - 0s 5ms/step - loss: 7.3334 - mae: 1.9167 - val_loss: 14.4107 - val_mae: 2.6377\n",
            "Epoch 56/100\n",
            "21/21 [==============================] - 0s 6ms/step - loss: 7.3961 - mae: 1.8982 - val_loss: 13.7139 - val_mae: 2.6026\n",
            "Epoch 57/100\n",
            "21/21 [==============================] - 0s 6ms/step - loss: 7.3896 - mae: 1.9098 - val_loss: 14.5360 - val_mae: 2.7445\n",
            "Epoch 58/100\n",
            "21/21 [==============================] - 0s 6ms/step - loss: 7.2589 - mae: 1.8840 - val_loss: 15.2268 - val_mae: 2.6222\n",
            "Epoch 59/100\n",
            "21/21 [==============================] - 0s 6ms/step - loss: 7.2207 - mae: 1.8807 - val_loss: 14.5808 - val_mae: 2.5787\n",
            "Epoch 60/100\n",
            "21/21 [==============================] - 0s 6ms/step - loss: 7.3061 - mae: 1.9093 - val_loss: 14.0897 - val_mae: 2.6034\n",
            "Epoch 61/100\n",
            "21/21 [==============================] - 0s 6ms/step - loss: 7.0288 - mae: 1.8424 - val_loss: 15.0899 - val_mae: 2.6709\n",
            "Epoch 62/100\n",
            "21/21 [==============================] - 0s 6ms/step - loss: 7.1201 - mae: 1.8700 - val_loss: 14.0994 - val_mae: 2.6275\n",
            "Epoch 63/100\n",
            "21/21 [==============================] - 0s 6ms/step - loss: 6.9113 - mae: 1.8618 - val_loss: 15.5841 - val_mae: 2.5721\n",
            "Epoch 64/100\n",
            "21/21 [==============================] - 0s 6ms/step - loss: 6.6963 - mae: 1.8392 - val_loss: 13.5042 - val_mae: 2.5594\n",
            "Epoch 65/100\n",
            "21/21 [==============================] - 0s 5ms/step - loss: 6.7350 - mae: 1.8450 - val_loss: 13.4951 - val_mae: 2.5581\n",
            "Epoch 66/100\n",
            "21/21 [==============================] - 0s 6ms/step - loss: 6.9504 - mae: 1.8537 - val_loss: 14.6756 - val_mae: 2.6703\n",
            "Epoch 67/100\n",
            "21/21 [==============================] - 0s 5ms/step - loss: 6.8029 - mae: 1.7981 - val_loss: 14.8753 - val_mae: 2.5832\n",
            "Epoch 68/100\n",
            "21/21 [==============================] - 0s 5ms/step - loss: 6.7258 - mae: 1.8022 - val_loss: 14.8872 - val_mae: 2.5734\n",
            "Epoch 69/100\n",
            "21/21 [==============================] - 0s 3ms/step - loss: 6.6953 - mae: 1.7874 - val_loss: 13.9646 - val_mae: 2.5761\n",
            "Epoch 70/100\n",
            "21/21 [==============================] - 0s 3ms/step - loss: 6.4979 - mae: 1.8002 - val_loss: 16.8887 - val_mae: 2.7540\n",
            "Epoch 71/100\n",
            "21/21 [==============================] - 0s 4ms/step - loss: 6.3629 - mae: 1.8291 - val_loss: 15.4216 - val_mae: 2.7500\n",
            "Epoch 72/100\n",
            "21/21 [==============================] - 0s 4ms/step - loss: 6.3672 - mae: 1.7951 - val_loss: 15.8657 - val_mae: 2.5446\n",
            "Epoch 73/100\n",
            "21/21 [==============================] - 0s 4ms/step - loss: 6.3503 - mae: 1.7677 - val_loss: 13.8669 - val_mae: 2.6518\n",
            "Epoch 74/100\n",
            "21/21 [==============================] - 0s 5ms/step - loss: 6.5268 - mae: 1.7515 - val_loss: 13.7048 - val_mae: 2.5304\n",
            "Epoch 75/100\n",
            "21/21 [==============================] - 0s 4ms/step - loss: 6.4718 - mae: 1.7866 - val_loss: 15.3039 - val_mae: 2.8374\n",
            "Epoch 76/100\n",
            "21/21 [==============================] - 0s 4ms/step - loss: 6.5118 - mae: 1.7866 - val_loss: 14.2805 - val_mae: 2.5900\n",
            "Epoch 77/100\n",
            "21/21 [==============================] - 0s 4ms/step - loss: 6.4417 - mae: 1.7972 - val_loss: 13.8910 - val_mae: 2.5069\n",
            "Epoch 78/100\n",
            "21/21 [==============================] - 0s 4ms/step - loss: 6.2643 - mae: 1.7203 - val_loss: 15.0892 - val_mae: 2.5377\n",
            "Epoch 79/100\n",
            "21/21 [==============================] - 0s 3ms/step - loss: 6.1346 - mae: 1.7543 - val_loss: 14.9279 - val_mae: 2.5675\n",
            "Epoch 80/100\n",
            "21/21 [==============================] - 0s 4ms/step - loss: 6.1616 - mae: 1.7177 - val_loss: 14.1798 - val_mae: 2.5214\n",
            "Epoch 81/100\n",
            "21/21 [==============================] - 0s 4ms/step - loss: 6.1314 - mae: 1.7199 - val_loss: 15.6962 - val_mae: 2.5351\n",
            "Epoch 82/100\n",
            "21/21 [==============================] - 0s 3ms/step - loss: 6.0702 - mae: 1.7383 - val_loss: 15.4522 - val_mae: 2.6797\n",
            "Epoch 83/100\n",
            "21/21 [==============================] - 0s 3ms/step - loss: 6.1598 - mae: 1.7057 - val_loss: 15.7878 - val_mae: 2.6241\n",
            "Epoch 84/100\n",
            "21/21 [==============================] - 0s 4ms/step - loss: 5.9427 - mae: 1.6828 - val_loss: 15.1977 - val_mae: 2.5252\n",
            "Epoch 85/100\n",
            "21/21 [==============================] - 0s 4ms/step - loss: 5.9416 - mae: 1.7401 - val_loss: 15.1382 - val_mae: 2.5234\n",
            "Epoch 86/100\n",
            "21/21 [==============================] - 0s 4ms/step - loss: 5.7617 - mae: 1.7110 - val_loss: 14.6787 - val_mae: 2.6671\n",
            "Epoch 87/100\n",
            "21/21 [==============================] - 0s 3ms/step - loss: 5.7869 - mae: 1.6762 - val_loss: 15.5637 - val_mae: 2.5821\n",
            "Epoch 88/100\n",
            "21/21 [==============================] - 0s 4ms/step - loss: 5.6586 - mae: 1.6766 - val_loss: 16.2001 - val_mae: 2.8545\n",
            "Epoch 89/100\n",
            "21/21 [==============================] - 0s 4ms/step - loss: 5.8715 - mae: 1.7075 - val_loss: 14.5349 - val_mae: 2.5451\n",
            "Epoch 90/100\n",
            "21/21 [==============================] - 0s 3ms/step - loss: 5.6098 - mae: 1.6328 - val_loss: 14.1677 - val_mae: 2.5170\n",
            "Epoch 91/100\n",
            "21/21 [==============================] - 0s 3ms/step - loss: 5.5917 - mae: 1.6222 - val_loss: 14.0352 - val_mae: 2.5136\n",
            "Epoch 92/100\n",
            "21/21 [==============================] - 0s 4ms/step - loss: 5.8834 - mae: 1.6804 - val_loss: 15.2337 - val_mae: 2.7065\n",
            "Epoch 93/100\n",
            "21/21 [==============================] - 0s 4ms/step - loss: 5.5441 - mae: 1.6500 - val_loss: 14.1945 - val_mae: 2.5635\n",
            "Epoch 94/100\n",
            "21/21 [==============================] - 0s 4ms/step - loss: 5.7771 - mae: 1.6547 - val_loss: 14.7055 - val_mae: 2.6821\n",
            "Epoch 95/100\n",
            "21/21 [==============================] - 0s 4ms/step - loss: 5.6226 - mae: 1.6497 - val_loss: 16.9398 - val_mae: 2.7910\n",
            "Epoch 96/100\n",
            "21/21 [==============================] - 0s 4ms/step - loss: 5.6315 - mae: 1.6573 - val_loss: 15.2318 - val_mae: 2.6539\n",
            "Epoch 97/100\n",
            "21/21 [==============================] - 0s 4ms/step - loss: 5.5312 - mae: 1.6411 - val_loss: 15.5120 - val_mae: 2.5569\n",
            "Epoch 98/100\n",
            "21/21 [==============================] - 0s 3ms/step - loss: 5.5280 - mae: 1.6282 - val_loss: 16.3593 - val_mae: 2.5958\n",
            "Epoch 99/100\n",
            "21/21 [==============================] - 0s 4ms/step - loss: 5.4253 - mae: 1.6174 - val_loss: 15.4244 - val_mae: 2.5463\n",
            "Epoch 100/100\n",
            "21/21 [==============================] - 0s 4ms/step - loss: 5.4228 - mae: 1.6592 - val_loss: 14.9685 - val_mae: 2.5439\n"
          ]
        }
      ]
    },
    {
      "cell_type": "code",
      "source": [
        "# 모델 학습 히스토리에서 loss, val_loss, mae, val_mae를 차트로 보여줍니다.\n",
        "plt.style.use('seaborn-white')\n",
        "\n",
        "history_dict = history.history\n",
        "\n",
        "loss = history_dict['loss']\n",
        "val_loss = history_dict['val_loss']\n",
        "\n",
        "epochs = range(1, len(loss) + 1)\n",
        "fig = plt.figure(figsize=(12, 5))\n",
        "\n",
        "ax1 = fig.add_subplot(1, 2, 1)\n",
        "ax1.plot(epochs, loss, 'b-', label='train_loss')\n",
        "ax1.plot(epochs, val_loss, 'r-', label='val_loss')\n",
        "ax1.set_title('Train and Validation Loss')\n",
        "ax1.set_xlabel('Epochs')\n",
        "ax1.set_ylabel('Loss')\n",
        "ax1.grid()\n",
        "ax1.legend()\n",
        "\n",
        "mae = history_dict['mae']\n",
        "val_mae = history_dict['val_mae']\n",
        "\n",
        "ax2 = fig.add_subplot(1, 2, 2)\n",
        "ax2.plot(epochs, mae, 'b-', label='train_mae')\n",
        "ax2.plot(epochs, val_mae, 'r-', label='val_mae')\n",
        "ax2.set_title('Train and Validation MAE')\n",
        "ax2.set_xlabel('Epochs')\n",
        "ax2.set_ylabel('Accuracy')\n",
        "ax2.grid()\n",
        "ax2.legend()\n",
        "\n",
        "plt.show()"
      ],
      "metadata": {
        "colab": {
          "base_uri": "https://localhost:8080/",
          "height": 492
        },
        "id": "r4yzaqr1kBnA",
        "outputId": "800c78be-adbb-462d-c914-8ae6ceb4c9ec"
      },
      "execution_count": 24,
      "outputs": [
        {
          "output_type": "stream",
          "name": "stderr",
          "text": [
            "<ipython-input-24-eee1a1311e5a>:2: MatplotlibDeprecationWarning: The seaborn styles shipped by Matplotlib are deprecated since 3.6, as they no longer correspond to the styles shipped by seaborn. However, they will remain available as 'seaborn-v0_8-<style>'. Alternatively, directly use the seaborn API instead.\n",
            "  plt.style.use('seaborn-white')\n"
          ]
        },
        {
          "output_type": "display_data",
          "data": {
            "text/plain": [
              "<Figure size 1200x500 with 2 Axes>"
            ],
            "image/png": "[encoded data removed]"
          },
          "metadata": {}
        }
      ]
    },
    {
      "cell_type": "markdown",
      "source": [
        "## 모델 평가 및 예측"
      ],
      "metadata": {
        "id": "XqGFxsV3kN9S"
      }
    },
    {
      "cell_type": "code",
      "source": [
        "# 문제 1-4: 테스트 데이터셋을 이용해 모델을 평가합니다.\n",
        "test_mse_score, test_mae_score = model.evaluate(test_data, test_labels)"
      ],
      "metadata": {
        "colab": {
          "base_uri": "https://localhost:8080/"
        },
        "id": "YUG7tktJkKKx",
        "outputId": "715c3c5d-21ec-4af1-98ce-2d4882fa07c1"
      },
      "execution_count": 25,
      "outputs": [
        {
          "output_type": "stream",
          "name": "stdout",
          "text": [
            "4/4 [==============================] - 0s 3ms/step - loss: 24.5711 - mae: 3.0182\n"
          ]
        }
      ]
    },
    {
      "cell_type": "code",
      "source": [
        "test_mae_score"
      ],
      "metadata": {
        "colab": {
          "base_uri": "https://localhost:8080/"
        },
        "id": "uwSye1RZeEfn",
        "outputId": "c34b55ac-89b2-4255-d9ce-45f562c506d6"
      },
      "execution_count": 26,
      "outputs": [
        {
          "output_type": "execute_result",
          "data": {
            "text/plain": [
              "3.0181779861450195"
            ]
          },
          "metadata": {},
          "execution_count": 26
        }
      ]
    },
    {
      "cell_type": "markdown",
      "source": [
        "## 10-3. Reuters 딥러닝 모델\n"
      ],
      "metadata": {
        "id": "sIjB2pCOkc5H"
      }
    },
    {
      "cell_type": "markdown",
      "source": [
        "## 데이터 로드 및 전처리"
      ],
      "metadata": {
        "id": "tymd1Hw9klOd"
      }
    },
    {
      "cell_type": "code",
      "source": [
        "import numpy as np\n",
        "import matplotlib.pyplot as plt\n",
        "from sklearn.model_selection import train_test_split\n",
        "\n",
        "from tensorflow.keras import models, layers\n",
        "from tensorflow.keras import callbacks\n",
        "from tensorflow.keras import utils\n",
        "from keras.datasets import reuters"
      ],
      "metadata": {
        "id": "w1NI0ZookTca"
      },
      "execution_count": 27,
      "outputs": []
    },
    {
      "cell_type": "code",
      "source": [
        "# 문제 2-1: reuters 데이터셋을 로드하고, 훈련 데이터셋에서 25%를 검증 데이터셋으로 분리합니다.\n",
        "\n",
        "(train_data, train_labels), (test_data, test_labels) = reuters.load_data(num_words=10000)\n",
        "train_data, val_data, train_labels, val_labels = train_test_split(train_data, train_labels, test_size=0.25, stratify=train_labels, random_state=42)\n",
        "\n",
        "\n",
        "# 훈련, 검증, 테스트 데이터와 레이블 종류가 몇 개인지 출력합니다.\n",
        "print(len(train_data))\n",
        "print(len(val_data))\n",
        "print(len(test_data))\n",
        "print(len(set(train_labels)))"
      ],
      "metadata": {
        "colab": {
          "base_uri": "https://localhost:8080/"
        },
        "id": "BEUwB37uksAP",
        "outputId": "e9ab92a6-cdf4-4294-c602-835ebfc7b6d5"
      },
      "execution_count": 28,
      "outputs": [
        {
          "output_type": "stream",
          "name": "stdout",
          "text": [
            "Downloading data from https://storage.googleapis.com/tensorflow/tf-keras-datasets/reuters.npz\n",
            "2110848/2110848 [==============================] - 0s 0us/step\n",
            "6736\n",
            "2246\n",
            "2246\n",
            "46\n"
          ]
        }
      ]
    },
    {
      "cell_type": "code",
      "source": [
        "# 문제 2-2: 텍스트 데이터의 전처리를 위해서 각 데이터셋마다 원-핫 인코딩을 수행합니다.\n",
        "\n",
        "def one_hot_encoding(data, dim=10000):\n",
        "  results = np.zeros((len(data), dim))\n",
        "  for i, d in enumerate(data):\n",
        "    results[i, d] = 1.\n",
        "  return results\n",
        "\n",
        "x_train = one_hot_encoding(train_data)\n",
        "x_val = one_hot_encoding(val_data)\n",
        "x_test = one_hot_encoding(test_data)\n",
        "\n",
        "# 레이블 데이터들은 범주형 형태로 to_categorical() 함수를 사용해 변환합니다.\n",
        "y_train = utils.to_categorical(train_labels)\n",
        "y_val = utils.to_categorical(val_labels)\n",
        "y_test = utils.to_categorical(test_labels)"
      ],
      "metadata": {
        "id": "iGQrcBoDku_h"
      },
      "execution_count": 29,
      "outputs": []
    },
    {
      "cell_type": "markdown",
      "source": [
        "## 모델 구성 및 컴파일"
      ],
      "metadata": {
        "id": "Vb5Uwa2yk2Yq"
      }
    },
    {
      "cell_type": "code",
      "source": [
        "# 문제 2-3: 빠른 학습과 과대적합을 방지하기 위해 BatchNormalization과 Dropout을 적용한 딥러닝 모델을 구성합니다.\n",
        "import tensorflow as tf\n",
        "from tensorflow.keras import models, layers\n",
        "\n",
        "model = models.Sequential()\n",
        "model.add(layers.Dense(128, activation='relu', input_shape=(10000, ), name='input'))\n",
        "model.add(layers.BatchNormalization())\n",
        "model.add(layers.Dropout(0.5))\n",
        "model.add(layers.Dense(64, activation='relu'))\n",
        "model.add(layers.BatchNormalization())\n",
        "model.add(layers.Dropout(0.5))\n",
        "model.add(layers.Dense(46, activation='softmax'))"
      ],
      "metadata": {
        "id": "lnjdqPlNk6qP"
      },
      "execution_count": 30,
      "outputs": []
    },
    {
      "cell_type": "code",
      "source": [
        "model.summary()"
      ],
      "metadata": {
        "colab": {
          "base_uri": "https://localhost:8080/"
        },
        "id": "DkYsgkujk-KZ",
        "outputId": "0940d0a7-9fce-47b9-9007-f408030477c0"
      },
      "execution_count": 31,
      "outputs": [
        {
          "output_type": "stream",
          "name": "stdout",
          "text": [
            "Model: \"sequential_10\"\n",
            "_________________________________________________________________\n",
            " Layer (type)                Output Shape              Param #   \n",
            "=================================================================\n",
            " input (Dense)               (None, 128)               1280128   \n",
            "                                                                 \n",
            " batch_normalization (Batch  (None, 128)               512       \n",
            " Normalization)                                                  \n",
            "                                                                 \n",
            " dropout (Dropout)           (None, 128)               0         \n",
            "                                                                 \n",
            " dense_30 (Dense)            (None, 64)                8256      \n",
            "                                                                 \n",
            " batch_normalization_1 (Bat  (None, 64)                256       \n",
            " chNormalization)                                                \n",
            "                                                                 \n",
            " dropout_1 (Dropout)         (None, 64)                0         \n",
            "                                                                 \n",
            " dense_31 (Dense)            (None, 46)                2990      \n",
            "                                                                 \n",
            "=================================================================\n",
            "Total params: 1292142 (4.93 MB)\n",
            "Trainable params: 1291758 (4.93 MB)\n",
            "Non-trainable params: 384 (1.50 KB)\n",
            "_________________________________________________________________\n"
          ]
        }
      ]
    },
    {
      "cell_type": "markdown",
      "source": [
        "## 모델 학습"
      ],
      "metadata": {
        "id": "0yW1ksTqlHKt"
      }
    },
    {
      "cell_type": "code",
      "source": [
        "# 문제 2-4: ModelCheckpoint와 EarlyStopping 콜백 함수를 적용하여 모델 학습을 진행합니다.\n",
        "from keras import models, layers, callbacks\n",
        "\n",
        "# 이전 코드 (모델 컴파일)\n",
        "model.compile(optimizer='adam', loss='categorical_crossentropy', metrics=['accuracy'])\n",
        "\n",
        "# EarlyStopping 추가\n",
        "early_stopping = callbacks.EarlyStopping(\n",
        "    monitor='val_loss', # 검증 손실 기준 선택\n",
        "    patience=10, # 중지까지 기다리는 에포크 매개변수\n",
        "    restore_best_weights=True, # 가장 좋은 가중치 복원 여부 설정\n",
        "    verbose=1 # 진행 사항 표시\n",
        ")\n",
        "\n",
        "# 모델 학습시 콜백 추가\n",
        "history = model.fit(x_train, y_train,\n",
        "                    epochs=40,\n",
        "                    batch_size=512,\n",
        "                    validation_data=(x_test, y_test),\n",
        "                    callbacks=[early_stopping]) # 콜백 추가"
      ],
      "metadata": {
        "colab": {
          "base_uri": "https://localhost:8080/"
        },
        "id": "FdQkNoi6lDEg",
        "outputId": "ac3b9d5f-3ace-4885-d6c4-dd11533c11b4"
      },
      "execution_count": 32,
      "outputs": [
        {
          "output_type": "stream",
          "name": "stdout",
          "text": [
            "Epoch 1/40\n",
            "14/14 [==============================] - 3s 151ms/step - loss: 3.5022 - accuracy: 0.2645 - val_loss: 3.4614 - val_accuracy: 0.5770\n",
            "Epoch 2/40\n",
            "14/14 [==============================] - 2s 142ms/step - loss: 2.1150 - accuracy: 0.5606 - val_loss: 3.0353 - val_accuracy: 0.6794\n",
            "Epoch 3/40\n",
            "14/14 [==============================] - 1s 105ms/step - loss: 1.6049 - accuracy: 0.6731 - val_loss: 2.7128 - val_accuracy: 0.6959\n",
            "Epoch 4/40\n",
            "14/14 [==============================] - 1s 103ms/step - loss: 1.3175 - accuracy: 0.7306 - val_loss: 2.4556 - val_accuracy: 0.7075\n",
            "Epoch 5/40\n",
            "14/14 [==============================] - 1s 100ms/step - loss: 1.1428 - accuracy: 0.7598 - val_loss: 2.2688 - val_accuracy: 0.7199\n",
            "Epoch 6/40\n",
            "14/14 [==============================] - 1s 91ms/step - loss: 0.9815 - accuracy: 0.7885 - val_loss: 2.1159 - val_accuracy: 0.7235\n",
            "Epoch 7/40\n",
            "14/14 [==============================] - 1s 89ms/step - loss: 0.8665 - accuracy: 0.8156 - val_loss: 1.9908 - val_accuracy: 0.7182\n",
            "Epoch 8/40\n",
            "14/14 [==============================] - 1s 90ms/step - loss: 0.7761 - accuracy: 0.8319 - val_loss: 1.8600 - val_accuracy: 0.7240\n",
            "Epoch 9/40\n",
            "14/14 [==============================] - 1s 100ms/step - loss: 0.7095 - accuracy: 0.8438 - val_loss: 1.7477 - val_accuracy: 0.7297\n",
            "Epoch 10/40\n",
            "14/14 [==============================] - 2s 117ms/step - loss: 0.6379 - accuracy: 0.8609 - val_loss: 1.6495 - val_accuracy: 0.7306\n",
            "Epoch 11/40\n",
            "14/14 [==============================] - 2s 136ms/step - loss: 0.5773 - accuracy: 0.8737 - val_loss: 1.5514 - val_accuracy: 0.7297\n",
            "Epoch 12/40\n",
            "14/14 [==============================] - 1s 101ms/step - loss: 0.5496 - accuracy: 0.8762 - val_loss: 1.4597 - val_accuracy: 0.7364\n",
            "Epoch 13/40\n",
            "14/14 [==============================] - 1s 101ms/step - loss: 0.4965 - accuracy: 0.8891 - val_loss: 1.3736 - val_accuracy: 0.7449\n",
            "Epoch 14/40\n",
            "14/14 [==============================] - 1s 90ms/step - loss: 0.4539 - accuracy: 0.9014 - val_loss: 1.3242 - val_accuracy: 0.7422\n",
            "Epoch 15/40\n",
            "14/14 [==============================] - 1s 86ms/step - loss: 0.4219 - accuracy: 0.9020 - val_loss: 1.2663 - val_accuracy: 0.7493\n",
            "Epoch 16/40\n",
            "14/14 [==============================] - 1s 88ms/step - loss: 0.3974 - accuracy: 0.9108 - val_loss: 1.1907 - val_accuracy: 0.7578\n",
            "Epoch 17/40\n",
            "14/14 [==============================] - 1s 90ms/step - loss: 0.3957 - accuracy: 0.9161 - val_loss: 1.1533 - val_accuracy: 0.7600\n",
            "Epoch 18/40\n",
            "14/14 [==============================] - 1s 100ms/step - loss: 0.3715 - accuracy: 0.9195 - val_loss: 1.0997 - val_accuracy: 0.7725\n",
            "Epoch 19/40\n",
            "14/14 [==============================] - 2s 109ms/step - loss: 0.3555 - accuracy: 0.9215 - val_loss: 1.0792 - val_accuracy: 0.7729\n",
            "Epoch 20/40\n",
            "14/14 [==============================] - 2s 147ms/step - loss: 0.3489 - accuracy: 0.9215 - val_loss: 1.0714 - val_accuracy: 0.7720\n",
            "Epoch 21/40\n",
            "14/14 [==============================] - 1s 90ms/step - loss: 0.3198 - accuracy: 0.9256 - val_loss: 1.0512 - val_accuracy: 0.7792\n",
            "Epoch 22/40\n",
            "14/14 [==============================] - 1s 88ms/step - loss: 0.3015 - accuracy: 0.9313 - val_loss: 1.0321 - val_accuracy: 0.7827\n",
            "Epoch 23/40\n",
            "14/14 [==============================] - 1s 99ms/step - loss: 0.2900 - accuracy: 0.9339 - val_loss: 1.0272 - val_accuracy: 0.7858\n",
            "Epoch 24/40\n",
            "14/14 [==============================] - 1s 101ms/step - loss: 0.2857 - accuracy: 0.9345 - val_loss: 1.0209 - val_accuracy: 0.7903\n",
            "Epoch 25/40\n",
            "14/14 [==============================] - 1s 92ms/step - loss: 0.2769 - accuracy: 0.9376 - val_loss: 1.0256 - val_accuracy: 0.7983\n",
            "Epoch 26/40\n",
            "14/14 [==============================] - 1s 91ms/step - loss: 0.2574 - accuracy: 0.9411 - val_loss: 1.0410 - val_accuracy: 0.7939\n",
            "Epoch 27/40\n",
            "14/14 [==============================] - 1s 103ms/step - loss: 0.2525 - accuracy: 0.9411 - val_loss: 1.0601 - val_accuracy: 0.7876\n",
            "Epoch 28/40\n",
            "14/14 [==============================] - 2s 115ms/step - loss: 0.2573 - accuracy: 0.9397 - val_loss: 1.0665 - val_accuracy: 0.7881\n",
            "Epoch 29/40\n",
            "14/14 [==============================] - 2s 141ms/step - loss: 0.2305 - accuracy: 0.9469 - val_loss: 1.0794 - val_accuracy: 0.7907\n",
            "Epoch 30/40\n",
            "14/14 [==============================] - 1s 89ms/step - loss: 0.2339 - accuracy: 0.9480 - val_loss: 1.0983 - val_accuracy: 0.7965\n",
            "Epoch 31/40\n",
            "14/14 [==============================] - 1s 90ms/step - loss: 0.2198 - accuracy: 0.9488 - val_loss: 1.1085 - val_accuracy: 0.7983\n",
            "Epoch 32/40\n",
            "14/14 [==============================] - 1s 90ms/step - loss: 0.2355 - accuracy: 0.9449 - val_loss: 1.1250 - val_accuracy: 0.7961\n",
            "Epoch 33/40\n",
            "14/14 [==============================] - 1s 101ms/step - loss: 0.2144 - accuracy: 0.9488 - val_loss: 1.1459 - val_accuracy: 0.7970\n",
            "Epoch 34/40\n",
            "13/14 [==========================>...] - ETA: 0s - loss: 0.2121 - accuracy: 0.9482Restoring model weights from the end of the best epoch: 24.\n",
            "14/14 [==============================] - 1s 93ms/step - loss: 0.2123 - accuracy: 0.9482 - val_loss: 1.1675 - val_accuracy: 0.7983\n",
            "Epoch 34: early stopping\n"
          ]
        }
      ]
    },
    {
      "cell_type": "code",
      "source": [
        "# 학습 히스토리의 `loss`, `val_loss`, `accuracy`, `val_accuracy`를 차트로 시각화합니다.\n",
        "plt.style.use('seaborn-white')\n",
        "\n",
        "history_dict = history.history\n",
        "\n",
        "loss = history_dict['loss']\n",
        "val_loss = history_dict['val_loss']\n",
        "\n",
        "epochs = range(1, len(loss) + 1)\n",
        "fig = plt.figure(figsize=(12, 5))\n",
        "\n",
        "ax1 = fig.add_subplot(1, 2, 1)\n",
        "ax1.plot(epochs, loss, 'b-', label='train_loss')\n",
        "ax1.plot(epochs, val_loss, 'r-', label='val_loss')\n",
        "ax1.set_title('Train and Validation Loss')\n",
        "ax1.set_xlabel('Epochs')\n",
        "ax1.set_ylabel('Loss')\n",
        "ax1.grid()\n",
        "ax1.legend()\n",
        "\n",
        "accuracy = history_dict['accuracy']\n",
        "val_accuracy = history_dict['val_accuracy']\n",
        "\n",
        "ax2 = fig.add_subplot(1, 2, 2)\n",
        "ax2.plot(epochs, accuracy, 'b-', label='train_accuracy')\n",
        "ax2.plot(epochs, val_accuracy, 'r-', label='val_accuracy')\n",
        "ax2.set_title('Train and Validation Accuracy')\n",
        "ax2.set_xlabel('Epochs')\n",
        "ax2.set_ylabel('Accuracy')\n",
        "ax2.grid()\n",
        "ax2.legend()\n",
        "\n",
        "plt.show()"
      ],
      "metadata": {
        "colab": {
          "base_uri": "https://localhost:8080/",
          "height": 493
        },
        "id": "k088dW0QlLsI",
        "outputId": "0e504a33-1709-4403-c9f9-9d16337e3df8"
      },
      "execution_count": 33,
      "outputs": [
        {
          "output_type": "stream",
          "name": "stderr",
          "text": [
            "<ipython-input-33-ef4da0309378>:2: MatplotlibDeprecationWarning: The seaborn styles shipped by Matplotlib are deprecated since 3.6, as they no longer correspond to the styles shipped by seaborn. However, they will remain available as 'seaborn-v0_8-<style>'. Alternatively, directly use the seaborn API instead.\n",
            "  plt.style.use('seaborn-white')\n"
          ]
        },
        {
          "output_type": "display_data",
          "data": {
            "text/plain": [
              "<Figure size 1200x500 with 2 Axes>"
            ],
            "image/png": "[encoded data removed]"
          },
          "metadata": {}
        }
      ]
    },
    {
      "cell_type": "markdown",
      "source": [
        "## 모델 평가 및 예측"
      ],
      "metadata": {
        "id": "Fu4yVw0dlUAB"
      }
    },
    {
      "cell_type": "code",
      "source": [
        "# 문제 2-5: 테스트 데이터셋을 이용해 모델을 평가합니다.\n",
        "results = model.evaluate(x_test, y_test)"
      ],
      "metadata": {
        "colab": {
          "base_uri": "https://localhost:8080/"
        },
        "id": "3SoqCHdakznu",
        "outputId": "a7502dd8-5c66-43a2-f2a3-ecff63b0858f"
      },
      "execution_count": 34,
      "outputs": [
        {
          "output_type": "stream",
          "name": "stdout",
          "text": [
            "71/71 [==============================] - 0s 5ms/step - loss: 1.0209 - accuracy: 0.7903\n"
          ]
        }
      ]
    },
    {
      "cell_type": "markdown",
      "source": [
        "## 10-4. CIFAR10 딥러닝 모델"
      ],
      "metadata": {
        "id": "rEMn46MAldbr"
      }
    },
    {
      "cell_type": "markdown",
      "source": [
        "## 데이터 로드 및 전처리"
      ],
      "metadata": {
        "id": "pVYjtRLBljA3"
      }
    },
    {
      "cell_type": "code",
      "source": [
        "import matplotlib.pyplot as plt\n",
        "from sklearn.model_selection import train_test_split\n",
        "\n",
        "from tensorflow.keras import models, layers\n",
        "from tensorflow.keras.datasets import cifar10"
      ],
      "metadata": {
        "id": "CVsyaN_6lkJZ"
      },
      "execution_count": 35,
      "outputs": []
    },
    {
      "cell_type": "code",
      "source": [
        "# 문제 3-1: cifar10 데이터셋을 로드하고, 훈련 데이터셋에서 20%를 검증 데이터셋으로 분리합니다.\n",
        "(x_train_full, y_train_full), (x_test, y_test) = cifar10.load_data()\n",
        "#20%를 검증 데이터셋으로 분리\n",
        "x_train, x_val, y_train, y_val = train_test_split(x_train_full, y_train_full, test_size=0.2, random_state=42)\n",
        "\n",
        "# 훈련, 검증, 테스트 데이터와 레이블 종류가 몇개인지 출력합니다.\n",
        "print(\"전체 학습 데이터: {} 레이블: {}\".format(x_train_full.shape, y_train_full.shape))\n",
        "print(\"학습 데이터: {} 레이블: {}\".format(x_train.shape, y_train.shape))\n",
        "print(\"검증 데이터: {} 레이블: {}\".format(x_val.shape, y_val.shape))\n",
        "print(\"테스트 데이터: {} 레이블: {}\".format(x_test.shape, y_test.shape))"
      ],
      "metadata": {
        "colab": {
          "base_uri": "https://localhost:8080/"
        },
        "id": "HNDznbf2le5H",
        "outputId": "2795e5c0-8fbc-4f61-ac09-78117aa1c05e"
      },
      "execution_count": 36,
      "outputs": [
        {
          "output_type": "stream",
          "name": "stdout",
          "text": [
            "Downloading data from https://www.cs.toronto.edu/~kriz/cifar-10-python.tar.gz\n",
            "170498071/170498071 [==============================] - 3s 0us/step\n",
            "전체 학습 데이터: (50000, 32, 32, 3) 레이블: (50000, 1)\n",
            "학습 데이터: (40000, 32, 32, 3) 레이블: (40000, 1)\n",
            "검증 데이터: (10000, 32, 32, 3) 레이블: (10000, 1)\n",
            "테스트 데이터: (10000, 32, 32, 3) 레이블: (10000, 1)\n"
          ]
        }
      ]
    },
    {
      "cell_type": "code",
      "source": [
        "# cifar10의 분류에 해당하는 'airplane', 'automobile', 'bird', 'cat', 'deer',\n",
        "# 'dog', 'frog', 'horse', 'ship', 'truck'를 class_name으로 정의합니다.\n",
        "class_names = ['airplane', 'automobile', 'bird', 'cat', 'deer',\n",
        "               'dog', 'frog', 'horse', 'ship', 'truck']\n"
      ],
      "metadata": {
        "id": "sVYJ2svTltZU"
      },
      "execution_count": 37,
      "outputs": []
    },
    {
      "cell_type": "code",
      "source": [
        "# 훈련 데이터의 0번째인 x_train[0]를 이미지로 시각화합니다.\n",
        "plt.style.use('seaborn-white')\n",
        "\n",
        "plt.figure()\n",
        "plt.imshow(x_train[0])\n",
        "plt.colorbar()\n",
        "plt.show()"
      ],
      "metadata": {
        "colab": {
          "base_uri": "https://localhost:8080/",
          "height": 481
        },
        "id": "q8I5_UIalw5B",
        "outputId": "1f1d45eb-8685-4d04-f998-b3d3d9050521"
      },
      "execution_count": 38,
      "outputs": [
        {
          "output_type": "stream",
          "name": "stderr",
          "text": [
            "<ipython-input-38-6d8a43ba86bc>:2: MatplotlibDeprecationWarning: The seaborn styles shipped by Matplotlib are deprecated since 3.6, as they no longer correspond to the styles shipped by seaborn. However, they will remain available as 'seaborn-v0_8-<style>'. Alternatively, directly use the seaborn API instead.\n",
            "  plt.style.use('seaborn-white')\n"
          ]
        },
        {
          "output_type": "display_data",
          "data": {
            "text/plain": [
              "<Figure size 640x480 with 2 Axes>"
            ],
            "image/png": "[encoded data removed]"
          },
          "metadata": {}
        }
      ]
    },
    {
      "cell_type": "code",
      "source": [
        "# 훈련, 검증, 테스트 데이터의 형태(shape)을 출력합니다.\n",
        "print(x_train.shape)\n",
        "print(x_val.shape)\n",
        "print(x_test.shape)"
      ],
      "metadata": {
        "colab": {
          "base_uri": "https://localhost:8080/"
        },
        "id": "YJ8ozoyhl0WH",
        "outputId": "b0a89fba-5b48-4598-a5e4-4b8bee472fa3"
      },
      "execution_count": 39,
      "outputs": [
        {
          "output_type": "stream",
          "name": "stdout",
          "text": [
            "(40000, 32, 32, 3)\n",
            "(10000, 32, 32, 3)\n",
            "(10000, 32, 32, 3)\n"
          ]
        }
      ]
    },
    {
      "cell_type": "code",
      "source": [
        "# 문제 3-2: 훈련, 검증, 테스트 데이터의 형태(shape)을 32 * 32 * 3 = 3072로 변형합니다.\n",
        "x_train = x_train.reshape((40000, 32 * 32 * 3))\n",
        "x_val = x_val.reshape((10000, 32 * 32 * 3))\n",
        "x_test = x_test.reshape((10000, 32 * 32 * 3))\n",
        "\n",
        "\n",
        "print(x_train.shape)\n",
        "print(x_val.shape)\n",
        "print(x_test.shape)"
      ],
      "metadata": {
        "colab": {
          "base_uri": "https://localhost:8080/"
        },
        "id": "P06CNrm7l3z_",
        "outputId": "7b1e49f3-8d18-4157-9f16-2193f0539d9b"
      },
      "execution_count": 40,
      "outputs": [
        {
          "output_type": "stream",
          "name": "stdout",
          "text": [
            "(40000, 3072)\n",
            "(10000, 3072)\n",
            "(10000, 3072)\n"
          ]
        }
      ]
    },
    {
      "cell_type": "code",
      "source": [
        "# 훈련, 검증, 테스트 데이터를 255로 나누어 0~1 사이의 값으로 변환합니다.\n",
        "x_train = x_train / 255.\n",
        "x_val = x_val / 255.\n",
        "x_test = x_test / 255."
      ],
      "metadata": {
        "id": "IKY5L1Ytl7na"
      },
      "execution_count": 41,
      "outputs": []
    },
    {
      "cell_type": "markdown",
      "source": [
        "## 모델 구성 및 컴파일"
      ],
      "metadata": {
        "id": "METyMQzdmBWG"
      }
    },
    {
      "cell_type": "code",
      "source": [
        "# 문제 3-3: BatchNormalization과 Dropout을 적용하여 빠른 학습과 과대적합을 방지하고,\n",
        "# 10개의 이미지를 분류하는 딥러닝 모델을 구성합니다.\n",
        "model = models.Sequential()\n",
        "model.add(layers.Dense(512, activation='relu', input_shape=(32 * 32 * 3,)))\n",
        "model.add(layers.BatchNormalization())\n",
        "model.add(layers.Dropout(0.5))\n",
        "model.add(layers.Dense(256, activation='relu'))\n",
        "model.add(layers.BatchNormalization())\n",
        "model.add(layers.Dropout(0.5))\n",
        "model.add(layers.Dense(128, activation='relu'))\n",
        "model.add(layers.BatchNormalization())\n",
        "model.add(layers.Dropout(0.5))\n",
        "model.add(layers.Dense(10, activation='softmax'))"
      ],
      "metadata": {
        "id": "SsfNWSd9l-g6"
      },
      "execution_count": 42,
      "outputs": []
    },
    {
      "cell_type": "code",
      "source": [
        "model.summary()"
      ],
      "metadata": {
        "colab": {
          "base_uri": "https://localhost:8080/"
        },
        "id": "sBm5NnWmmGJd",
        "outputId": "2d26149d-8f9e-449f-c8f3-f0cc88b1c260"
      },
      "execution_count": 43,
      "outputs": [
        {
          "output_type": "stream",
          "name": "stdout",
          "text": [
            "Model: \"sequential_11\"\n",
            "_________________________________________________________________\n",
            " Layer (type)                Output Shape              Param #   \n",
            "=================================================================\n",
            " dense_32 (Dense)            (None, 512)               1573376   \n",
            "                                                                 \n",
            " batch_normalization_2 (Bat  (None, 512)               2048      \n",
            " chNormalization)                                                \n",
            "                                                                 \n",
            " dropout_2 (Dropout)         (None, 512)               0         \n",
            "                                                                 \n",
            " dense_33 (Dense)            (None, 256)               131328    \n",
            "                                                                 \n",
            " batch_normalization_3 (Bat  (None, 256)               1024      \n",
            " chNormalization)                                                \n",
            "                                                                 \n",
            " dropout_3 (Dropout)         (None, 256)               0         \n",
            "                                                                 \n",
            " dense_34 (Dense)            (None, 128)               32896     \n",
            "                                                                 \n",
            " batch_normalization_4 (Bat  (None, 128)               512       \n",
            " chNormalization)                                                \n",
            "                                                                 \n",
            " dropout_4 (Dropout)         (None, 128)               0         \n",
            "                                                                 \n",
            " dense_35 (Dense)            (None, 10)                1290      \n",
            "                                                                 \n",
            "=================================================================\n",
            "Total params: 1742474 (6.65 MB)\n",
            "Trainable params: 1740682 (6.64 MB)\n",
            "Non-trainable params: 1792 (7.00 KB)\n",
            "_________________________________________________________________\n"
          ]
        }
      ]
    },
    {
      "cell_type": "markdown",
      "source": [
        "## 모델 학습"
      ],
      "metadata": {
        "id": "q3DGX8qnmOHH"
      }
    },
    {
      "cell_type": "code",
      "source": [
        "# 문제 3-4: ModelCheckpoint와 EarlyStopping 콜백 함수를 적용하여 모델 학습을 진행합니다.\n",
        "import tensorflow as tf\n",
        "from tensorflow import keras\n",
        "\n",
        "model.compile(optimizer='adam',\n",
        "              loss='sparse_categorical_crossentropy',\n",
        "              metrics=['accuracy'])\n",
        "#EarlyStopping 콜백 함수를 적용하여 모델 학습을 진행합니다.\n",
        "early_stopping = keras.callbacks.EarlyStopping(monitor='val_loss', patience=10)\n",
        "\n",
        "#ModelCheckpoint 콜백 함수를 적용하여 모델 학습을 진행합니다.\n",
        "checkpoint_cb = keras.callbacks.ModelCheckpoint(\"my_keras_model.h5\", save_best_only=True)"
      ],
      "metadata": {
        "id": "YRu2qViSmNTR"
      },
      "execution_count": 44,
      "outputs": []
    },
    {
      "cell_type": "code",
      "source": [
        "history = model.fit(x_train, y_train, epochs=100, batch_size=64,\n",
        "                    validation_data=(x_val, y_val),\n",
        "                    callbacks=[checkpoint_cb, early_stopping])"
      ],
      "metadata": {
        "colab": {
          "base_uri": "https://localhost:8080/"
        },
        "id": "mjbjVuNamJ_j",
        "outputId": "337b1739-8f93-41e9-8949-9d24815ac220"
      },
      "execution_count": 45,
      "outputs": [
        {
          "output_type": "stream",
          "name": "stdout",
          "text": [
            "Epoch 1/100\n",
            "625/625 [==============================] - 34s 50ms/step - loss: 2.2817 - accuracy: 0.2488 - val_loss: 1.8762 - val_accuracy: 0.3333\n",
            "Epoch 2/100\n",
            "  3/625 [..............................] - ETA: 20s - loss: 1.9162 - accuracy: 0.3229"
          ]
        },
        {
          "output_type": "stream",
          "name": "stderr",
          "text": [
            "/usr/local/lib/python3.10/dist-packages/keras/src/engine/training.py:3079: UserWarning: You are saving your model as an HDF5 file via `model.save()`. This file format is considered legacy. We recommend using instead the native Keras format, e.g. `model.save('my_model.keras')`.\n",
            "  saving_api.save_model(\n"
          ]
        },
        {
          "output_type": "stream",
          "name": "stdout",
          "text": [
            "625/625 [==============================] - 22s 35ms/step - loss: 1.8840 - accuracy: 0.3185 - val_loss: 1.7718 - val_accuracy: 0.3588\n",
            "Epoch 3/100\n",
            "625/625 [==============================] - 22s 36ms/step - loss: 1.8281 - accuracy: 0.3417 - val_loss: 1.7540 - val_accuracy: 0.3567\n",
            "Epoch 4/100\n",
            "625/625 [==============================] - 22s 36ms/step - loss: 1.8118 - accuracy: 0.3480 - val_loss: 1.7076 - val_accuracy: 0.3878\n",
            "Epoch 5/100\n",
            "625/625 [==============================] - 23s 37ms/step - loss: 1.8146 - accuracy: 0.3472 - val_loss: 1.7093 - val_accuracy: 0.3750\n",
            "Epoch 6/100\n",
            "625/625 [==============================] - 22s 35ms/step - loss: 1.8073 - accuracy: 0.3505 - val_loss: 1.6983 - val_accuracy: 0.3826\n",
            "Epoch 7/100\n",
            "625/625 [==============================] - 21s 34ms/step - loss: 1.8133 - accuracy: 0.3495 - val_loss: 1.7736 - val_accuracy: 0.3642\n",
            "Epoch 8/100\n",
            "625/625 [==============================] - 22s 35ms/step - loss: 1.8118 - accuracy: 0.3487 - val_loss: 1.6942 - val_accuracy: 0.3871\n",
            "Epoch 9/100\n",
            "625/625 [==============================] - 22s 36ms/step - loss: 1.7962 - accuracy: 0.3503 - val_loss: 1.7027 - val_accuracy: 0.3870\n",
            "Epoch 10/100\n",
            "625/625 [==============================] - 21s 34ms/step - loss: 1.7896 - accuracy: 0.3567 - val_loss: 1.7903 - val_accuracy: 0.3734\n",
            "Epoch 11/100\n",
            "625/625 [==============================] - 23s 37ms/step - loss: 1.8016 - accuracy: 0.3512 - val_loss: 1.6816 - val_accuracy: 0.4038\n",
            "Epoch 12/100\n",
            "625/625 [==============================] - 22s 36ms/step - loss: 1.7945 - accuracy: 0.3519 - val_loss: 1.6980 - val_accuracy: 0.3823\n",
            "Epoch 13/100\n",
            "625/625 [==============================] - 22s 35ms/step - loss: 1.7882 - accuracy: 0.3560 - val_loss: 1.6442 - val_accuracy: 0.4078\n",
            "Epoch 14/100\n",
            "625/625 [==============================] - 22s 35ms/step - loss: 1.7730 - accuracy: 0.3634 - val_loss: 1.6427 - val_accuracy: 0.4103\n",
            "Epoch 15/100\n",
            "625/625 [==============================] - 21s 34ms/step - loss: 1.7617 - accuracy: 0.3672 - val_loss: 1.6273 - val_accuracy: 0.4165\n",
            "Epoch 16/100\n",
            "625/625 [==============================] - 22s 35ms/step - loss: 1.7492 - accuracy: 0.3733 - val_loss: 1.6049 - val_accuracy: 0.4268\n",
            "Epoch 17/100\n",
            "625/625 [==============================] - 21s 34ms/step - loss: 1.7447 - accuracy: 0.3735 - val_loss: 1.5979 - val_accuracy: 0.4308\n",
            "Epoch 18/100\n",
            "625/625 [==============================] - 21s 34ms/step - loss: 1.7390 - accuracy: 0.3757 - val_loss: 1.6250 - val_accuracy: 0.4124\n",
            "Epoch 19/100\n",
            "625/625 [==============================] - 21s 34ms/step - loss: 1.7399 - accuracy: 0.3771 - val_loss: 1.5985 - val_accuracy: 0.4131\n",
            "Epoch 20/100\n",
            "625/625 [==============================] - 21s 34ms/step - loss: 1.7490 - accuracy: 0.3722 - val_loss: 1.6937 - val_accuracy: 0.3917\n",
            "Epoch 21/100\n",
            "625/625 [==============================] - 22s 35ms/step - loss: 1.7332 - accuracy: 0.3783 - val_loss: 1.6035 - val_accuracy: 0.4278\n",
            "Epoch 22/100\n",
            "625/625 [==============================] - 22s 36ms/step - loss: 1.7286 - accuracy: 0.3767 - val_loss: 1.6313 - val_accuracy: 0.4229\n",
            "Epoch 23/100\n",
            "625/625 [==============================] - 23s 36ms/step - loss: 1.7324 - accuracy: 0.3806 - val_loss: 1.6422 - val_accuracy: 0.4146\n",
            "Epoch 24/100\n",
            "625/625 [==============================] - 21s 33ms/step - loss: 1.7221 - accuracy: 0.3830 - val_loss: 1.6121 - val_accuracy: 0.4194\n",
            "Epoch 25/100\n",
            "625/625 [==============================] - 21s 34ms/step - loss: 1.7182 - accuracy: 0.3859 - val_loss: 1.6049 - val_accuracy: 0.4262\n",
            "Epoch 26/100\n",
            "625/625 [==============================] - 21s 33ms/step - loss: 1.7157 - accuracy: 0.3855 - val_loss: 1.5905 - val_accuracy: 0.4195\n",
            "Epoch 27/100\n",
            "625/625 [==============================] - 20s 31ms/step - loss: 1.7161 - accuracy: 0.3866 - val_loss: 1.5808 - val_accuracy: 0.4308\n",
            "Epoch 28/100\n",
            "625/625 [==============================] - 21s 34ms/step - loss: 1.7090 - accuracy: 0.3872 - val_loss: 1.6006 - val_accuracy: 0.4253\n",
            "Epoch 29/100\n",
            "625/625 [==============================] - 20s 31ms/step - loss: 1.7053 - accuracy: 0.3921 - val_loss: 1.6195 - val_accuracy: 0.4125\n",
            "Epoch 30/100\n",
            "625/625 [==============================] - 21s 33ms/step - loss: 1.7188 - accuracy: 0.3836 - val_loss: 1.6662 - val_accuracy: 0.4012\n",
            "Epoch 31/100\n",
            "625/625 [==============================] - 21s 34ms/step - loss: 1.7180 - accuracy: 0.3845 - val_loss: 1.6359 - val_accuracy: 0.4160\n",
            "Epoch 32/100\n",
            "625/625 [==============================] - 19s 31ms/step - loss: 1.7109 - accuracy: 0.3858 - val_loss: 1.5855 - val_accuracy: 0.4286\n",
            "Epoch 33/100\n",
            "625/625 [==============================] - 20s 32ms/step - loss: 1.7047 - accuracy: 0.3906 - val_loss: 1.5733 - val_accuracy: 0.4362\n",
            "Epoch 34/100\n",
            "625/625 [==============================] - 19s 31ms/step - loss: 1.7118 - accuracy: 0.3856 - val_loss: 1.5876 - val_accuracy: 0.4334\n",
            "Epoch 35/100\n",
            "625/625 [==============================] - 20s 32ms/step - loss: 1.7244 - accuracy: 0.3863 - val_loss: 1.6198 - val_accuracy: 0.4156\n",
            "Epoch 36/100\n",
            "625/625 [==============================] - 18s 29ms/step - loss: 1.7155 - accuracy: 0.3853 - val_loss: 1.5860 - val_accuracy: 0.4279\n",
            "Epoch 37/100\n",
            "625/625 [==============================] - 20s 32ms/step - loss: 1.7131 - accuracy: 0.3843 - val_loss: 1.6490 - val_accuracy: 0.4006\n",
            "Epoch 38/100\n",
            "625/625 [==============================] - 19s 30ms/step - loss: 1.7047 - accuracy: 0.3905 - val_loss: 1.5711 - val_accuracy: 0.4363\n",
            "Epoch 39/100\n",
            "625/625 [==============================] - 20s 33ms/step - loss: 1.6991 - accuracy: 0.3923 - val_loss: 1.5944 - val_accuracy: 0.4247\n",
            "Epoch 40/100\n",
            "625/625 [==============================] - 19s 30ms/step - loss: 1.7014 - accuracy: 0.3927 - val_loss: 1.5819 - val_accuracy: 0.4332\n",
            "Epoch 41/100\n",
            "625/625 [==============================] - 20s 32ms/step - loss: 1.6998 - accuracy: 0.3925 - val_loss: 1.6293 - val_accuracy: 0.4254\n",
            "Epoch 42/100\n",
            "625/625 [==============================] - 21s 34ms/step - loss: 1.6995 - accuracy: 0.3895 - val_loss: 1.5974 - val_accuracy: 0.4227\n",
            "Epoch 43/100\n",
            "625/625 [==============================] - 19s 30ms/step - loss: 1.6999 - accuracy: 0.3929 - val_loss: 1.5850 - val_accuracy: 0.4311\n",
            "Epoch 44/100\n",
            "625/625 [==============================] - 20s 32ms/step - loss: 1.7001 - accuracy: 0.3936 - val_loss: 1.5869 - val_accuracy: 0.4285\n",
            "Epoch 45/100\n",
            "625/625 [==============================] - 19s 30ms/step - loss: 1.7033 - accuracy: 0.3926 - val_loss: 1.5892 - val_accuracy: 0.4289\n",
            "Epoch 46/100\n",
            "625/625 [==============================] - 19s 31ms/step - loss: 1.6997 - accuracy: 0.3898 - val_loss: 1.5987 - val_accuracy: 0.4319\n",
            "Epoch 47/100\n",
            "625/625 [==============================] - 19s 30ms/step - loss: 1.7082 - accuracy: 0.3873 - val_loss: 1.5707 - val_accuracy: 0.4384\n",
            "Epoch 48/100\n",
            "625/625 [==============================] - 20s 31ms/step - loss: 1.7051 - accuracy: 0.3852 - val_loss: 1.5740 - val_accuracy: 0.4329\n",
            "Epoch 49/100\n",
            "625/625 [==============================] - 19s 30ms/step - loss: 1.7008 - accuracy: 0.3922 - val_loss: 1.5680 - val_accuracy: 0.4352\n",
            "Epoch 50/100\n",
            "625/625 [==============================] - 20s 32ms/step - loss: 1.6999 - accuracy: 0.3907 - val_loss: 1.5582 - val_accuracy: 0.4436\n",
            "Epoch 51/100\n",
            "625/625 [==============================] - 19s 30ms/step - loss: 1.7122 - accuracy: 0.3819 - val_loss: 1.5769 - val_accuracy: 0.4380\n",
            "Epoch 52/100\n",
            "625/625 [==============================] - 20s 32ms/step - loss: 1.7074 - accuracy: 0.3905 - val_loss: 1.6126 - val_accuracy: 0.4197\n",
            "Epoch 53/100\n",
            "625/625 [==============================] - 19s 31ms/step - loss: 1.6987 - accuracy: 0.3877 - val_loss: 1.5704 - val_accuracy: 0.4360\n",
            "Epoch 54/100\n",
            "625/625 [==============================] - 21s 33ms/step - loss: 1.6947 - accuracy: 0.3924 - val_loss: 1.5615 - val_accuracy: 0.4392\n",
            "Epoch 55/100\n",
            "625/625 [==============================] - 20s 32ms/step - loss: 1.6950 - accuracy: 0.3943 - val_loss: 1.5706 - val_accuracy: 0.4417\n",
            "Epoch 56/100\n",
            "625/625 [==============================] - 19s 31ms/step - loss: 1.6900 - accuracy: 0.3970 - val_loss: 1.5473 - val_accuracy: 0.4504\n",
            "Epoch 57/100\n",
            "625/625 [==============================] - 21s 34ms/step - loss: 1.6861 - accuracy: 0.3948 - val_loss: 1.5664 - val_accuracy: 0.4386\n",
            "Epoch 58/100\n",
            "625/625 [==============================] - 19s 30ms/step - loss: 1.6847 - accuracy: 0.3950 - val_loss: 1.5657 - val_accuracy: 0.4450\n",
            "Epoch 59/100\n",
            "625/625 [==============================] - 19s 31ms/step - loss: 1.6919 - accuracy: 0.3954 - val_loss: 1.5811 - val_accuracy: 0.4332\n",
            "Epoch 60/100\n",
            "625/625 [==============================] - 19s 30ms/step - loss: 1.6864 - accuracy: 0.3968 - val_loss: 1.5994 - val_accuracy: 0.4305\n",
            "Epoch 61/100\n",
            "625/625 [==============================] - 20s 32ms/step - loss: 1.6865 - accuracy: 0.3969 - val_loss: 1.5635 - val_accuracy: 0.4372\n",
            "Epoch 62/100\n",
            "625/625 [==============================] - 18s 30ms/step - loss: 1.6912 - accuracy: 0.3963 - val_loss: 1.5850 - val_accuracy: 0.4328\n",
            "Epoch 63/100\n",
            "625/625 [==============================] - 20s 32ms/step - loss: 1.6814 - accuracy: 0.4002 - val_loss: 1.5494 - val_accuracy: 0.4444\n",
            "Epoch 64/100\n",
            "625/625 [==============================] - 19s 30ms/step - loss: 1.6818 - accuracy: 0.4017 - val_loss: 1.5820 - val_accuracy: 0.4329\n",
            "Epoch 65/100\n",
            "625/625 [==============================] - 20s 31ms/step - loss: 1.6816 - accuracy: 0.3995 - val_loss: 1.5748 - val_accuracy: 0.4342\n",
            "Epoch 66/100\n",
            "625/625 [==============================] - 19s 31ms/step - loss: 1.6784 - accuracy: 0.3971 - val_loss: 1.5727 - val_accuracy: 0.4379\n"
          ]
        }
      ]
    },
    {
      "cell_type": "code",
      "source": [
        "# 문제 3-5: 학습 히스토리의 `loss`, `val_loss`, `accuracy`, `val_accuracy`를 차트로 시각화합니다.\n",
        "plt.style.use('seaborn-white')\n",
        "\n",
        "history_dict = history.history\n",
        "\n",
        "loss = history_dict['loss']\n",
        "val_loss = history_dict['val_loss']\n",
        "\n",
        "epochs = range(1, len(loss) + 1)\n",
        "fig = plt.figure(figsize=(12, 5))\n",
        "\n",
        "ax1 = fig.add_subplot(1, 2, 1)\n",
        "ax1.plot(epochs, loss, 'b-', label='train_loss')\n",
        "ax1.plot(epochs, val_loss, 'r-', label='val_loss')\n",
        "ax1.set_title('Train and Validation Loss')\n",
        "ax1.set_xlabel('Epochs')\n",
        "ax1.set_ylabel('Loss')\n",
        "ax1.grid()\n",
        "ax1.legend()\n",
        "\n",
        "accuracy = history_dict['accuracy']\n",
        "val_accuracy = history_dict['val_accuracy']\n",
        "\n",
        "ax2 = fig.add_subplot(1, 2, 2)\n",
        "ax2.plot(epochs, accuracy, 'b-', label='train_accuracy')\n",
        "ax2.plot(epochs, val_accuracy, 'r-', label='val_accuracy')\n",
        "ax2.set_title('Train and Validation Accuracy')\n",
        "ax2.set_xlabel('Epochs')\n",
        "ax2.set_ylabel('Accuracy')\n",
        "ax2.grid()\n",
        "ax2.legend()\n",
        "\n",
        "plt.show()"
      ],
      "metadata": {
        "colab": {
          "base_uri": "https://localhost:8080/",
          "height": 493
        },
        "id": "Qck5n4n0mXC6",
        "outputId": "a2c896eb-37d4-4f27-8d83-2a4bc2b00f8d"
      },
      "execution_count": 46,
      "outputs": [
        {
          "output_type": "stream",
          "name": "stderr",
          "text": [
            "<ipython-input-46-a8a59d4010a8>:2: MatplotlibDeprecationWarning: The seaborn styles shipped by Matplotlib are deprecated since 3.6, as they no longer correspond to the styles shipped by seaborn. However, they will remain available as 'seaborn-v0_8-<style>'. Alternatively, directly use the seaborn API instead.\n",
            "  plt.style.use('seaborn-white')\n"
          ]
        },
        {
          "output_type": "display_data",
          "data": {
            "text/plain": [
              "<Figure size 1200x500 with 2 Axes>"
            ],
            "image/png": "[encoded data removed]"
          },
          "metadata": {}
        }
      ]
    },
    {
      "cell_type": "code",
      "source": [
        "# 테스트 데이터셋을 이용해 모델을 평가합니다.\n",
        "model.evaluate(x_test, y_test)"
      ],
      "metadata": {
        "colab": {
          "base_uri": "https://localhost:8080/"
        },
        "id": "Rv7DMKPZmbvF",
        "outputId": "fee82132-59dd-4ed0-ed49-149618d38de4"
      },
      "execution_count": 47,
      "outputs": [
        {
          "output_type": "stream",
          "name": "stdout",
          "text": [
            "313/313 [==============================] - 2s 5ms/step - loss: 1.5612 - accuracy: 0.4378\n"
          ]
        },
        {
          "output_type": "execute_result",
          "data": {
            "text/plain": [
              "[1.561187982559204, 0.43779999017715454]"
            ]
          },
          "metadata": {},
          "execution_count": 47
        }
      ]
    },
    {
      "cell_type": "markdown",
      "source": [
        "# 또 다른 시도"
      ],
      "metadata": {
        "id": "_Vv8Aai3Wj5D"
      }
    },
    {
      "cell_type": "markdown",
      "source": [
        "## 1. 보스턴 주택가격 예측 - <케라스창시자에게 배우는 딥러닝> 참조"
      ],
      "metadata": {
        "id": "8R8ewhKGqToO"
      }
    },
    {
      "cell_type": "code",
      "source": [
        "### 보스턴주택 데이터셋 로드"
      ],
      "metadata": {
        "id": "xIQeQphKYsGP"
      },
      "execution_count": 48,
      "outputs": []
    },
    {
      "cell_type": "code",
      "source": [
        "from tensorflow import keras\n",
        "from tensorflow.keras import layers\n",
        "from tensorflow.keras.datasets import boston_housing\n",
        "(train_data, train_targets), (test_data, test_targets) = boston_housing.load_data()"
      ],
      "metadata": {
        "id": "AVJNef7eYl6z"
      },
      "execution_count": 49,
      "outputs": []
    },
    {
      "cell_type": "code",
      "source": [
        "train_data.shape"
      ],
      "metadata": {
        "colab": {
          "base_uri": "https://localhost:8080/"
        },
        "id": "tL631SJbYyAM",
        "outputId": "b882d49a-2f0c-404d-fedc-fbe2c8f75188"
      },
      "execution_count": 50,
      "outputs": [
        {
          "output_type": "execute_result",
          "data": {
            "text/plain": [
              "(404, 13)"
            ]
          },
          "metadata": {},
          "execution_count": 50
        }
      ]
    },
    {
      "cell_type": "code",
      "source": [
        "test_data.shape"
      ],
      "metadata": {
        "colab": {
          "base_uri": "https://localhost:8080/"
        },
        "id": "IMz7TgaiY0px",
        "outputId": "81b32712-9595-447f-b2de-9c261abc84ed"
      },
      "execution_count": 51,
      "outputs": [
        {
          "output_type": "execute_result",
          "data": {
            "text/plain": [
              "(102, 13)"
            ]
          },
          "metadata": {},
          "execution_count": 51
        }
      ]
    },
    {
      "cell_type": "code",
      "source": [
        "train_targets"
      ],
      "metadata": {
        "colab": {
          "base_uri": "https://localhost:8080/"
        },
        "id": "GqCklxipY3Rp",
        "outputId": "1322f1f3-121d-4fc2-a901-93e7324c8ccf"
      },
      "execution_count": 52,
      "outputs": [
        {
          "output_type": "execute_result",
          "data": {
            "text/plain": [
              "array([15.2, 42.3, 50. , 21.1, 17.7, 18.5, 11.3, 15.6, 15.6, 14.4, 12.1,\n",
              "       17.9, 23.1, 19.9, 15.7,  8.8, 50. , 22.5, 24.1, 27.5, 10.9, 30.8,\n",
              "       32.9, 24. , 18.5, 13.3, 22.9, 34.7, 16.6, 17.5, 22.3, 16.1, 14.9,\n",
              "       23.1, 34.9, 25. , 13.9, 13.1, 20.4, 20. , 15.2, 24.7, 22.2, 16.7,\n",
              "       12.7, 15.6, 18.4, 21. , 30.1, 15.1, 18.7,  9.6, 31.5, 24.8, 19.1,\n",
              "       22. , 14.5, 11. , 32. , 29.4, 20.3, 24.4, 14.6, 19.5, 14.1, 14.3,\n",
              "       15.6, 10.5,  6.3, 19.3, 19.3, 13.4, 36.4, 17.8, 13.5, 16.5,  8.3,\n",
              "       14.3, 16. , 13.4, 28.6, 43.5, 20.2, 22. , 23. , 20.7, 12.5, 48.5,\n",
              "       14.6, 13.4, 23.7, 50. , 21.7, 39.8, 38.7, 22.2, 34.9, 22.5, 31.1,\n",
              "       28.7, 46. , 41.7, 21. , 26.6, 15. , 24.4, 13.3, 21.2, 11.7, 21.7,\n",
              "       19.4, 50. , 22.8, 19.7, 24.7, 36.2, 14.2, 18.9, 18.3, 20.6, 24.6,\n",
              "       18.2,  8.7, 44. , 10.4, 13.2, 21.2, 37. , 30.7, 22.9, 20. , 19.3,\n",
              "       31.7, 32. , 23.1, 18.8, 10.9, 50. , 19.6,  5. , 14.4, 19.8, 13.8,\n",
              "       19.6, 23.9, 24.5, 25. , 19.9, 17.2, 24.6, 13.5, 26.6, 21.4, 11.9,\n",
              "       22.6, 19.6,  8.5, 23.7, 23.1, 22.4, 20.5, 23.6, 18.4, 35.2, 23.1,\n",
              "       27.9, 20.6, 23.7, 28. , 13.6, 27.1, 23.6, 20.6, 18.2, 21.7, 17.1,\n",
              "        8.4, 25.3, 13.8, 22.2, 18.4, 20.7, 31.6, 30.5, 20.3,  8.8, 19.2,\n",
              "       19.4, 23.1, 23. , 14.8, 48.8, 22.6, 33.4, 21.1, 13.6, 32.2, 13.1,\n",
              "       23.4, 18.9, 23.9, 11.8, 23.3, 22.8, 19.6, 16.7, 13.4, 22.2, 20.4,\n",
              "       21.8, 26.4, 14.9, 24.1, 23.8, 12.3, 29.1, 21. , 19.5, 23.3, 23.8,\n",
              "       17.8, 11.5, 21.7, 19.9, 25. , 33.4, 28.5, 21.4, 24.3, 27.5, 33.1,\n",
              "       16.2, 23.3, 48.3, 22.9, 22.8, 13.1, 12.7, 22.6, 15. , 15.3, 10.5,\n",
              "       24. , 18.5, 21.7, 19.5, 33.2, 23.2,  5. , 19.1, 12.7, 22.3, 10.2,\n",
              "       13.9, 16.3, 17. , 20.1, 29.9, 17.2, 37.3, 45.4, 17.8, 23.2, 29. ,\n",
              "       22. , 18. , 17.4, 34.6, 20.1, 25. , 15.6, 24.8, 28.2, 21.2, 21.4,\n",
              "       23.8, 31. , 26.2, 17.4, 37.9, 17.5, 20. ,  8.3, 23.9,  8.4, 13.8,\n",
              "        7.2, 11.7, 17.1, 21.6, 50. , 16.1, 20.4, 20.6, 21.4, 20.6, 36.5,\n",
              "        8.5, 24.8, 10.8, 21.9, 17.3, 18.9, 36.2, 14.9, 18.2, 33.3, 21.8,\n",
              "       19.7, 31.6, 24.8, 19.4, 22.8,  7.5, 44.8, 16.8, 18.7, 50. , 50. ,\n",
              "       19.5, 20.1, 50. , 17.2, 20.8, 19.3, 41.3, 20.4, 20.5, 13.8, 16.5,\n",
              "       23.9, 20.6, 31.5, 23.3, 16.8, 14. , 33.8, 36.1, 12.8, 18.3, 18.7,\n",
              "       19.1, 29. , 30.1, 50. , 50. , 22. , 11.9, 37.6, 50. , 22.7, 20.8,\n",
              "       23.5, 27.9, 50. , 19.3, 23.9, 22.6, 15.2, 21.7, 19.2, 43.8, 20.3,\n",
              "       33.2, 19.9, 22.5, 32.7, 22. , 17.1, 19. , 15. , 16.1, 25.1, 23.7,\n",
              "       28.7, 37.2, 22.6, 16.4, 25. , 29.8, 22.1, 17.4, 18.1, 30.3, 17.5,\n",
              "       24.7, 12.6, 26.5, 28.7, 13.3, 10.4, 24.4, 23. , 20. , 17.8,  7. ,\n",
              "       11.8, 24.4, 13.8, 19.4, 25.2, 19.4, 19.4, 29.1])"
            ]
          },
          "metadata": {},
          "execution_count": 52
        }
      ]
    },
    {
      "cell_type": "markdown",
      "source": [
        "## 데이터 준비\n",
        "\n",
        "### 데이터 정규화"
      ],
      "metadata": {
        "id": "lBiZX_S-Y9A5"
      }
    },
    {
      "cell_type": "code",
      "source": [
        "mean = train_data.mean(axis=0)\n",
        "train_data -= mean\n",
        "std = train_data.std(axis=0)\n",
        "train_data /= std\n",
        "test_data -= mean\n",
        "test_data /= std"
      ],
      "metadata": {
        "id": "k-qzAkgUZBoW"
      },
      "execution_count": 53,
      "outputs": []
    },
    {
      "cell_type": "markdown",
      "source": [
        "## 모델구성"
      ],
      "metadata": {
        "id": "xikwGlOVZG7K"
      }
    },
    {
      "cell_type": "markdown",
      "source": [
        "### 모델 정의"
      ],
      "metadata": {
        "id": "oOOCgIa6ZJpa"
      }
    },
    {
      "cell_type": "code",
      "source": [
        "def build_model():\n",
        "    model = keras.Sequential([\n",
        "        layers.Dense(64, activation=\"relu\"),\n",
        "        layers.Dense(64, activation=\"relu\"),\n",
        "        layers.Dense(1)\n",
        "    ])\n",
        "    model.compile(optimizer=\"rmsprop\", loss=\"mse\", metrics=[\"mae\"])\n",
        "    return model"
      ],
      "metadata": {
        "id": "3iIyPPaLZEUx"
      },
      "execution_count": 54,
      "outputs": []
    },
    {
      "cell_type": "markdown",
      "source": [
        "###K-겹 검증을 사용한 훈련 검증"
      ],
      "metadata": {
        "id": "IUJYeoTIZSh3"
      }
    },
    {
      "cell_type": "code",
      "source": [
        "from tensorflow.keras import models, layers\n",
        "import matplotlib.pyplot as plt\n",
        "import numpy as np\n",
        "\n",
        "\n",
        "k = 4\n",
        "num_val_samples = len(train_data) // k\n",
        "num_epochs = 100\n",
        "all_scores = []\n",
        "for i in range(k):\n",
        "    print(f\"#{i}번째 폴드 처리중\")\n",
        "    val_data = train_data[i * num_val_samples: (i + 1) * num_val_samples]\n",
        "    val_targets = train_targets[i * num_val_samples: (i + 1) * num_val_samples]\n",
        "    partial_train_data = np.concatenate(\n",
        "        [train_data[:i * num_val_samples],\n",
        "         train_data[(i + 1) * num_val_samples:]],\n",
        "        axis=0)\n",
        "    partial_train_targets = np.concatenate(\n",
        "        [train_targets[:i * num_val_samples],\n",
        "         train_targets[(i + 1) * num_val_samples:]],\n",
        "        axis=0)\n",
        "    model = build_model()\n",
        "    model.fit(partial_train_data, partial_train_targets,\n",
        "              epochs=num_epochs, batch_size=16, verbose=0)\n",
        "    val_mse, val_mae = model.evaluate(val_data, val_targets, verbose=0)\n",
        "    all_scores.append(val_mae)"
      ],
      "metadata": {
        "colab": {
          "base_uri": "https://localhost:8080/"
        },
        "id": "nMZnzulcZPV2",
        "outputId": "87ce515b-a1be-4232-96a6-778af8d3b4b9"
      },
      "execution_count": 55,
      "outputs": [
        {
          "output_type": "stream",
          "name": "stdout",
          "text": [
            "#0번째 폴드 처리중\n",
            "#1번째 폴드 처리중\n",
            "#2번째 폴드 처리중\n",
            "#3번째 폴드 처리중\n"
          ]
        }
      ]
    },
    {
      "cell_type": "code",
      "source": [
        "all_scores"
      ],
      "metadata": {
        "colab": {
          "base_uri": "https://localhost:8080/"
        },
        "id": "tSodRmb_abb7",
        "outputId": "93f0546b-d98c-44d3-9427-409ddf4f2938"
      },
      "execution_count": 56,
      "outputs": [
        {
          "output_type": "execute_result",
          "data": {
            "text/plain": [
              "[1.9054069519042969, 2.422816753387451, 2.604470729827881, 2.3812122344970703]"
            ]
          },
          "metadata": {},
          "execution_count": 56
        }
      ]
    },
    {
      "cell_type": "code",
      "source": [
        "np.mean(all_scores)"
      ],
      "metadata": {
        "colab": {
          "base_uri": "https://localhost:8080/"
        },
        "id": "hc8XgGxqZzkj",
        "outputId": "add63c1e-5a31-44d0-ac51-4d70dbc6ac21"
      },
      "execution_count": 57,
      "outputs": [
        {
          "output_type": "execute_result",
          "data": {
            "text/plain": [
              "2.328476667404175"
            ]
          },
          "metadata": {},
          "execution_count": 57
        }
      ]
    },
    {
      "cell_type": "markdown",
      "source": [
        "###각 폴드의 검증 점수를 저장하기"
      ],
      "metadata": {
        "id": "BEDCnz-EcNUT"
      }
    },
    {
      "cell_type": "code",
      "source": [
        "num_epochs = 500\n",
        "all_mae_histories = []\n",
        "for i in range(k):\n",
        "    print(f\"#{i}번째 폴드 처리중\")\n",
        "    val_data = train_data[i * num_val_samples: (i + 1) * num_val_samples]\n",
        "    val_targets = train_targets[i * num_val_samples: (i + 1) * num_val_samples]\n",
        "    partial_train_data = np.concatenate(\n",
        "        [train_data[:i * num_val_samples],\n",
        "         train_data[(i + 1) * num_val_samples:]],\n",
        "        axis=0)\n",
        "    partial_train_targets = np.concatenate(\n",
        "        [train_targets[:i * num_val_samples],\n",
        "         train_targets[(i + 1) * num_val_samples:]],\n",
        "        axis=0)\n",
        "    model = build_model()\n",
        "    history = model.fit(partial_train_data, partial_train_targets,\n",
        "                        validation_data=(val_data, val_targets),\n",
        "                        epochs=num_epochs, batch_size=16, verbose=0)\n",
        "    mae_history = history.history[\"val_mae\"]\n",
        "    all_mae_histories.append(mae_history)"
      ],
      "metadata": {
        "colab": {
          "base_uri": "https://localhost:8080/"
        },
        "id": "9ZcLDzCsZXgG",
        "outputId": "96eb91d7-3b25-4de0-932f-98823e32b67a"
      },
      "execution_count": 58,
      "outputs": [
        {
          "output_type": "stream",
          "name": "stdout",
          "text": [
            "#0번째 폴드 처리중\n",
            "#1번째 폴드 처리중\n",
            "#2번째 폴드 처리중\n",
            "#3번째 폴드 처리중\n"
          ]
        }
      ]
    },
    {
      "cell_type": "markdown",
      "source": [
        "###K-겹 검증 점수 평균을 기록하기"
      ],
      "metadata": {
        "id": "fFlgCXJYcW64"
      }
    },
    {
      "cell_type": "code",
      "source": [
        "average_mae_history = [\n",
        "    np.mean([x[i] for x in all_mae_histories]) for i in range(num_epochs)]"
      ],
      "metadata": {
        "id": "jFeQC3-hY5vq"
      },
      "execution_count": 59,
      "outputs": []
    },
    {
      "cell_type": "markdown",
      "source": [
        "###검증 점수 그래프 그리기"
      ],
      "metadata": {
        "id": "DGoWUQUocdGr"
      }
    },
    {
      "cell_type": "code",
      "source": [
        "plt.plot(range(1, len(average_mae_history) + 1), average_mae_history)\n",
        "plt.xlabel(\"Epochs\")\n",
        "plt.ylabel(\"Validation MAE\")\n",
        "plt.show()"
      ],
      "metadata": {
        "colab": {
          "base_uri": "https://localhost:8080/",
          "height": 445
        },
        "id": "rw8HH5v_cclS",
        "outputId": "42149f96-64e8-419d-aa00-ed768f134f67"
      },
      "execution_count": 60,
      "outputs": [
        {
          "output_type": "display_data",
          "data": {
            "text/plain": [
              "<Figure size 640x480 with 1 Axes>"
            ],
            "image/png": "[encoded data removed]"
          },
          "metadata": {}
        }
      ]
    },
    {
      "cell_type": "markdown",
      "source": [
        "###처음 10개의 데이터 포인트를 제외한 검증 점수 그래프 그리기"
      ],
      "metadata": {
        "id": "9Wp_yDOqcbs1"
      }
    },
    {
      "cell_type": "code",
      "source": [
        "truncated_mae_history = average_mae_history[10:]\n",
        "plt.plot(range(1, len(truncated_mae_history) + 1), truncated_mae_history)\n",
        "plt.xlabel(\"Epochs\")\n",
        "plt.ylabel(\"Validation MAE\")\n",
        "plt.show()"
      ],
      "metadata": {
        "colab": {
          "base_uri": "https://localhost:8080/",
          "height": 445
        },
        "id": "6LAi9w5aWzXz",
        "outputId": "55eb5949-7209-40f0-ed7f-abfd1b17971b"
      },
      "execution_count": 61,
      "outputs": [
        {
          "output_type": "display_data",
          "data": {
            "text/plain": [
              "<Figure size 640x480 with 1 Axes>"
            ],
            "image/png": "[encoded data removed]"
          },
          "metadata": {}
        }
      ]
    },
    {
      "cell_type": "markdown",
      "source": [
        "### 최종 모델 훈련하기"
      ],
      "metadata": {
        "id": "ow7zZV1pXf6c"
      }
    },
    {
      "cell_type": "code",
      "source": [
        "model = build_model()\n",
        "model.fit(train_data, train_targets,\n",
        "          epochs=130, batch_size=16, verbose=0)\n",
        "test_mse_score, test_mae_score = model.evaluate(test_data, test_targets)"
      ],
      "metadata": {
        "colab": {
          "base_uri": "https://localhost:8080/"
        },
        "id": "eOMxvtQwXfPj",
        "outputId": "b8a57dc2-fc9f-41f6-a11d-b645ad204d25"
      },
      "execution_count": 62,
      "outputs": [
        {
          "output_type": "stream",
          "name": "stdout",
          "text": [
            "4/4 [==============================] - 0s 4ms/step - loss: 17.1649 - mae: 2.5709\n"
          ]
        }
      ]
    },
    {
      "cell_type": "code",
      "source": [
        "test_mae_score"
      ],
      "metadata": {
        "colab": {
          "base_uri": "https://localhost:8080/"
        },
        "id": "T-eROvahcyQT",
        "outputId": "70d0bf29-bd11-4e1a-8c69-c0f7e8a8052d"
      },
      "execution_count": 63,
      "outputs": [
        {
          "output_type": "execute_result",
          "data": {
            "text/plain": [
              "2.5709266662597656"
            ]
          },
          "metadata": {},
          "execution_count": 63
        }
      ]
    },
    {
      "cell_type": "markdown",
      "source": [
        "###새로운 데이터에 대해 예측하기"
      ],
      "metadata": {
        "id": "rVmQbJTXc0u6"
      }
    },
    {
      "cell_type": "code",
      "source": [
        "predictions = model.predict(test_data)\n",
        "predictions[0]"
      ],
      "metadata": {
        "colab": {
          "base_uri": "https://localhost:8080/"
        },
        "id": "hL_i_dB6c5IV",
        "outputId": "e941363f-5452-4991-8b20-ffdd100c6f15"
      },
      "execution_count": 64,
      "outputs": [
        {
          "output_type": "stream",
          "name": "stdout",
          "text": [
            "4/4 [==============================] - 0s 3ms/step\n"
          ]
        },
        {
          "output_type": "execute_result",
          "data": {
            "text/plain": [
              "array([9.020406], dtype=float32)"
            ]
          },
          "metadata": {},
          "execution_count": 64
        }
      ]
    },
    {
      "cell_type": "markdown",
      "source": [
        "---\n",
        "\n",
        "####LMS 모델과 비교\n",
        "\n",
        "# 문제 1-2: 주택 가격 예측을 위한 딥러닝 모델 구성 및 컴파일합니다.\n",
        "# input_shape은 (train_data.shape[1], )으로 구성합니다.\n",
        "model = models.Sequential()\n",
        "model.add(layers.Dense(64, activation='relu', input_shape=(train_data.shape[1],)))\n",
        "model.add(layers.Dense(64, activation='relu'))\n",
        "model.add(layers.Dense(1))\n",
        "\n",
        "# 회귀(예측)을 위한 모델이므로 loss를 mse, metrics를 mae로 사용합니다.\n",
        "model.compile(optimizer='rmsprop', loss='mse', metrics=['mae'])\n",
        "\n",
        "결과\n",
        "4/4 [==============================] - 0s 3ms/step - loss: 23.4826\n",
        "\n",
        "test_mae_score: 2.9865 // 새로운 런타임으로 3.0181779861450195\n",
        "\n",
        "---\n",
        "\n",
        "def build_model():\n",
        "    model = keras.Sequential([\n",
        "        layers.Dense(64, activation=\"relu\"),\n",
        "        layers.Dense(64, activation=\"relu\"),\n",
        "        layers.Dense(1)\n",
        "    ])\n",
        "    model.compile(optimizer=\"rmsprop\", loss=\"mse\", metrics=[\"mae\"])\n",
        "    return model\n",
        "\n",
        "test_mae_score : 2.6581807136535645 // 새로운 런타임으로 2.5709266662597656"
      ],
      "metadata": {
        "id": "xX3GSrirdJHe"
      }
    },
    {
      "cell_type": "markdown",
      "source": [
        "# 또 다른 시도 2\n",
        "\n",
        "## 2. 로이터 데이터셋 : 뉴스 기사 분류: 다중 분류 문제 - <케라스창시자에게 배우는 딥러닝> 참조"
      ],
      "metadata": {
        "id": "bph3Q7_bqckY"
      }
    },
    {
      "cell_type": "markdown",
      "source": [
        "### 로이터 데이터셋 로드"
      ],
      "metadata": {
        "id": "nSZMuw0jqo-I"
      }
    },
    {
      "cell_type": "code",
      "source": [
        "from tensorflow.keras.datasets import reuters\n",
        "(train_data, train_labels), (test_data, test_labels) = reuters.load_data(\n",
        "    num_words=10000)"
      ],
      "metadata": {
        "id": "9G8i2G1dfDRz"
      },
      "execution_count": 65,
      "outputs": []
    },
    {
      "cell_type": "code",
      "source": [
        "len(train_data)\n"
      ],
      "metadata": {
        "colab": {
          "base_uri": "https://localhost:8080/"
        },
        "id": "zta_xRuqqwRU",
        "outputId": "b7c094c5-e6cb-46d1-af20-c9df24dc5333"
      },
      "execution_count": 66,
      "outputs": [
        {
          "output_type": "execute_result",
          "data": {
            "text/plain": [
              "8982"
            ]
          },
          "metadata": {},
          "execution_count": 66
        }
      ]
    },
    {
      "cell_type": "code",
      "source": [
        "len(test_data)"
      ],
      "metadata": {
        "colab": {
          "base_uri": "https://localhost:8080/"
        },
        "id": "oBAvN2p3q01P",
        "outputId": "eeb7a372-d9bd-413f-85c7-86fd404310c7"
      },
      "execution_count": 67,
      "outputs": [
        {
          "output_type": "execute_result",
          "data": {
            "text/plain": [
              "2246"
            ]
          },
          "metadata": {},
          "execution_count": 67
        }
      ]
    },
    {
      "cell_type": "code",
      "source": [
        "train_data[10]"
      ],
      "metadata": {
        "colab": {
          "base_uri": "https://localhost:8080/"
        },
        "id": "MQldcqrrq3aE",
        "outputId": "ceaf8e60-abfc-436a-84c4-bee54f692732"
      },
      "execution_count": 68,
      "outputs": [
        {
          "output_type": "execute_result",
          "data": {
            "text/plain": [
              "[1,\n",
              " 245,\n",
              " 273,\n",
              " 207,\n",
              " 156,\n",
              " 53,\n",
              " 74,\n",
              " 160,\n",
              " 26,\n",
              " 14,\n",
              " 46,\n",
              " 296,\n",
              " 26,\n",
              " 39,\n",
              " 74,\n",
              " 2979,\n",
              " 3554,\n",
              " 14,\n",
              " 46,\n",
              " 4689,\n",
              " 4329,\n",
              " 86,\n",
              " 61,\n",
              " 3499,\n",
              " 4795,\n",
              " 14,\n",
              " 61,\n",
              " 451,\n",
              " 4329,\n",
              " 17,\n",
              " 12]"
            ]
          },
          "metadata": {},
          "execution_count": 68
        }
      ]
    },
    {
      "cell_type": "markdown",
      "source": [
        "###로이터 데이터셋을 텍스트로 디코딩하기"
      ],
      "metadata": {
        "id": "3Py47odqq9d5"
      }
    },
    {
      "cell_type": "code",
      "source": [
        "word_index = reuters.get_word_index()\n",
        "reverse_word_index = dict([(value, key) for (key, value) in word_index.items()])\n",
        "decoded_newswire = \" \".join([reverse_word_index.get(i - 3, \"?\") for i in\n",
        "    train_data[0]])"
      ],
      "metadata": {
        "id": "rueH1vupq6aF"
      },
      "execution_count": 72,
      "outputs": []
    },
    {
      "cell_type": "code",
      "source": [
        "train_labels[10]"
      ],
      "metadata": {
        "colab": {
          "base_uri": "https://localhost:8080/"
        },
        "id": "WT9znBborBBi",
        "outputId": "03ed3d1f-5ec1-4868-d91a-d14b2a0bc82a"
      },
      "execution_count": 73,
      "outputs": [
        {
          "output_type": "execute_result",
          "data": {
            "text/plain": [
              "3"
            ]
          },
          "metadata": {},
          "execution_count": 73
        }
      ]
    },
    {
      "cell_type": "markdown",
      "source": [
        "### 데이터 준비\n",
        "\n",
        "####데이터 인코딩하기"
      ],
      "metadata": {
        "id": "PlYTOvyjrG9C"
      }
    },
    {
      "cell_type": "code",
      "source": [
        "import numpy as np\n",
        "def vectorize_sequences(sequences, dimension=10000):\n",
        "    results = np.zeros((len(sequences), dimension))\n",
        "    for i, sequence in enumerate(sequences):\n",
        "        for j in sequence:\n",
        "            results[i, j] = 1.\n",
        "    return results\n",
        "x_train = vectorize_sequences(train_data)\n",
        "x_test = vectorize_sequences(test_data)\n",
        "x_train = vectorize_sequences(train_data)\n",
        "x_test = vectorize_sequences(test_data)"
      ],
      "metadata": {
        "id": "B-KHYtOWrETz"
      },
      "execution_count": 78,
      "outputs": []
    },
    {
      "cell_type": "markdown",
      "source": [
        "####레이블 인코딩하기"
      ],
      "metadata": {
        "id": "LoOJ6SLVrQRV"
      }
    },
    {
      "cell_type": "code",
      "source": [
        "def to_one_hot(labels, dimension=46):\n",
        "    results = np.zeros((len(labels), dimension))\n",
        "    for i, label in enumerate(labels):\n",
        "        results[i, label] = 1.\n",
        "    return results\n",
        "y_train = to_one_hot(train_labels)\n",
        "y_test = to_one_hot(test_labels)"
      ],
      "metadata": {
        "id": "Yw0u-oR_rNYz"
      },
      "execution_count": 79,
      "outputs": []
    },
    {
      "cell_type": "code",
      "source": [
        "from tensorflow.keras.utils import to_categorical\n",
        "y_train = to_categorical(train_labels)\n",
        "y_test = to_categorical(test_labels)"
      ],
      "metadata": {
        "id": "IZSB8f7OrctZ"
      },
      "execution_count": 80,
      "outputs": []
    },
    {
      "cell_type": "markdown",
      "source": [
        "##모델 구성\n",
        "\n",
        "###모델 정의하기"
      ],
      "metadata": {
        "id": "zZjwktXzrfcJ"
      }
    },
    {
      "cell_type": "code",
      "source": [
        "model = keras.Sequential([\n",
        "    layers.Dense(64, activation=\"relu\"),\n",
        "    layers.Dense(64, activation=\"relu\"),\n",
        "    layers.Dense(46, activation=\"softmax\")\n",
        "])"
      ],
      "metadata": {
        "id": "Xp9GD2C0rchb"
      },
      "execution_count": 81,
      "outputs": []
    },
    {
      "cell_type": "markdown",
      "source": [
        "###모델 컴파일하기"
      ],
      "metadata": {
        "id": "LiVyORVorn-_"
      }
    },
    {
      "cell_type": "code",
      "source": [
        "model.compile(optimizer=\"rmsprop\",\n",
        "              loss=\"categorical_crossentropy\",\n",
        "              metrics=[\"accuracy\"])"
      ],
      "metadata": {
        "id": "qni6d9OXrlIt"
      },
      "execution_count": 82,
      "outputs": []
    },
    {
      "cell_type": "markdown",
      "source": [
        "##훈련 검증\n",
        "\n",
        "### 검증 세트 준비하기"
      ],
      "metadata": {
        "id": "WwynAGDuruyp"
      }
    },
    {
      "cell_type": "code",
      "source": [
        "x_val = x_train[:1000]\n",
        "partial_x_train = x_train[1000:]\n",
        "y_val = y_train[:1000]\n",
        "partial_y_train = y_train[1000:]"
      ],
      "metadata": {
        "id": "ascx7KJHrrxZ"
      },
      "execution_count": 83,
      "outputs": []
    },
    {
      "cell_type": "markdown",
      "source": [
        "###모델 훈련하기"
      ],
      "metadata": {
        "id": "k7nRBVpzr087"
      }
    },
    {
      "cell_type": "code",
      "source": [
        "history = model.fit(partial_x_train,\n",
        "                    partial_y_train,\n",
        "                    epochs=20,\n",
        "                    batch_size=512,\n",
        "                    validation_data=(x_val, y_val))"
      ],
      "metadata": {
        "colab": {
          "base_uri": "https://localhost:8080/"
        },
        "id": "AB0bSE59r5a5",
        "outputId": "dc703fdd-c3b1-434e-ef9e-9e5fbb0c9166"
      },
      "execution_count": 84,
      "outputs": [
        {
          "output_type": "stream",
          "name": "stdout",
          "text": [
            "Epoch 1/20\n",
            "16/16 [==============================] - 2s 76ms/step - loss: 2.7666 - accuracy: 0.4748 - val_loss: 1.8747 - val_accuracy: 0.6110\n",
            "Epoch 2/20\n",
            "16/16 [==============================] - 1s 54ms/step - loss: 1.5651 - accuracy: 0.6680 - val_loss: 1.3956 - val_accuracy: 0.6900\n",
            "Epoch 3/20\n",
            "16/16 [==============================] - 1s 55ms/step - loss: 1.1904 - accuracy: 0.7393 - val_loss: 1.1965 - val_accuracy: 0.7340\n",
            "Epoch 4/20\n",
            "16/16 [==============================] - 1s 72ms/step - loss: 0.9739 - accuracy: 0.7919 - val_loss: 1.0794 - val_accuracy: 0.7640\n",
            "Epoch 5/20\n",
            "16/16 [==============================] - 1s 86ms/step - loss: 0.8076 - accuracy: 0.8251 - val_loss: 1.0033 - val_accuracy: 0.7940\n",
            "Epoch 6/20\n",
            "16/16 [==============================] - 1s 62ms/step - loss: 0.6761 - accuracy: 0.8520 - val_loss: 0.9611 - val_accuracy: 0.7960\n",
            "Epoch 7/20\n",
            "16/16 [==============================] - 1s 52ms/step - loss: 0.5616 - accuracy: 0.8790 - val_loss: 0.9095 - val_accuracy: 0.8090\n",
            "Epoch 8/20\n",
            "16/16 [==============================] - 1s 47ms/step - loss: 0.4743 - accuracy: 0.8995 - val_loss: 0.8806 - val_accuracy: 0.8110\n",
            "Epoch 9/20\n",
            "16/16 [==============================] - 1s 50ms/step - loss: 0.3993 - accuracy: 0.9158 - val_loss: 0.8608 - val_accuracy: 0.8190\n",
            "Epoch 10/20\n",
            "16/16 [==============================] - 1s 47ms/step - loss: 0.3427 - accuracy: 0.9270 - val_loss: 0.8589 - val_accuracy: 0.8230\n",
            "Epoch 11/20\n",
            "16/16 [==============================] - 1s 45ms/step - loss: 0.2969 - accuracy: 0.9354 - val_loss: 0.8746 - val_accuracy: 0.8240\n",
            "Epoch 12/20\n",
            "16/16 [==============================] - 1s 46ms/step - loss: 0.2597 - accuracy: 0.9421 - val_loss: 0.8579 - val_accuracy: 0.8200\n",
            "Epoch 13/20\n",
            "16/16 [==============================] - 1s 45ms/step - loss: 0.2261 - accuracy: 0.9454 - val_loss: 0.8644 - val_accuracy: 0.8220\n",
            "Epoch 14/20\n",
            "16/16 [==============================] - 1s 46ms/step - loss: 0.2033 - accuracy: 0.9493 - val_loss: 0.8926 - val_accuracy: 0.8180\n",
            "Epoch 15/20\n",
            "16/16 [==============================] - 1s 46ms/step - loss: 0.1905 - accuracy: 0.9516 - val_loss: 0.8778 - val_accuracy: 0.8290\n",
            "Epoch 16/20\n",
            "16/16 [==============================] - 1s 47ms/step - loss: 0.1727 - accuracy: 0.9549 - val_loss: 0.9089 - val_accuracy: 0.8140\n",
            "Epoch 17/20\n",
            "16/16 [==============================] - 1s 47ms/step - loss: 0.1622 - accuracy: 0.9533 - val_loss: 0.9034 - val_accuracy: 0.8220\n",
            "Epoch 18/20\n",
            "16/16 [==============================] - 1s 48ms/step - loss: 0.1500 - accuracy: 0.9555 - val_loss: 0.9125 - val_accuracy: 0.8220\n",
            "Epoch 19/20\n",
            "16/16 [==============================] - 1s 50ms/step - loss: 0.1456 - accuracy: 0.9557 - val_loss: 0.9367 - val_accuracy: 0.8150\n",
            "Epoch 20/20\n",
            "16/16 [==============================] - 1s 80ms/step - loss: 0.1358 - accuracy: 0.9570 - val_loss: 0.9361 - val_accuracy: 0.8190\n"
          ]
        }
      ]
    },
    {
      "cell_type": "markdown",
      "source": [
        "###훈련과 검증 손실 그리기"
      ],
      "metadata": {
        "id": "0LyMczgpr8Hz"
      }
    },
    {
      "cell_type": "code",
      "source": [
        "loss = history.history[\"loss\"]\n",
        "val_loss = history.history[\"val_loss\"]\n",
        "epochs = range(1, len(loss) + 1)\n",
        "plt.plot(epochs, loss, \"bo\", label=\"Training loss\")\n",
        "plt.plot(epochs, val_loss, \"b\", label=\"Validation loss\")\n",
        "plt.title(\"Training and validation loss\")\n",
        "plt.xlabel(\"Epochs\")\n",
        "plt.ylabel(\"Loss\")\n",
        "plt.legend()\n",
        "plt.show()"
      ],
      "metadata": {
        "colab": {
          "base_uri": "https://localhost:8080/",
          "height": 465
        },
        "id": "61IgeJz6r9Yk",
        "outputId": "8e17bee5-2a8e-408b-e76d-7ae96623978f"
      },
      "execution_count": 85,
      "outputs": [
        {
          "output_type": "display_data",
          "data": {
            "text/plain": [
              "<Figure size 640x480 with 1 Axes>"
            ],
            "image/png": "[encoded data removed]"
          },
          "metadata": {}
        }
      ]
    },
    {
      "cell_type": "markdown",
      "source": [
        "###훈련과 검증 정확도 그리기"
      ],
      "metadata": {
        "id": "EvsVOIucsAIS"
      }
    },
    {
      "cell_type": "code",
      "source": [
        "plt.clf()\n",
        "acc = history.history[\"accuracy\"]\n",
        "val_acc = history.history[\"val_accuracy\"]\n",
        "plt.plot(epochs, acc, \"bo\", label=\"Training accuracy\")\n",
        "plt.plot(epochs, val_acc, \"b\", label=\"Validation accuracy\")\n",
        "plt.title(\"Training and validation accuracy\")\n",
        "plt.xlabel(\"Epochs\")\n",
        "plt.ylabel(\"Accuracy\")\n",
        "plt.legend()\n",
        "plt.show()"
      ],
      "metadata": {
        "colab": {
          "base_uri": "https://localhost:8080/",
          "height": 465
        },
        "id": "8RciCcsPsFO4",
        "outputId": "f499ed57-ec87-43b3-e251-ce2cf663c145"
      },
      "execution_count": 86,
      "outputs": [
        {
          "output_type": "display_data",
          "data": {
            "text/plain": [
              "<Figure size 640x480 with 1 Axes>"
            ],
            "image/png": "[encoded data removed]"
          },
          "metadata": {}
        }
      ]
    },
    {
      "cell_type": "markdown",
      "source": [
        "###모델을 처음부터 다시 훈련하기"
      ],
      "metadata": {
        "id": "b1X06e8_sIi2"
      }
    },
    {
      "cell_type": "code",
      "source": [
        "model = keras.Sequential([\n",
        "  layers.Dense(64, activation=\"relu\"),\n",
        "  layers.Dense(64, activation=\"relu\"),\n",
        "  layers.Dense(46, activation=\"softmax\")\n",
        "])\n",
        "model.compile(optimizer=\"rmsprop\",\n",
        "              loss=\"categorical_crossentropy\",\n",
        "              metrics=[\"accuracy\"])\n",
        "model.fit(x_train,\n",
        "          y_train,\n",
        "          epochs=9,\n",
        "          batch_size=512)\n",
        "results = model.evaluate(x_test, y_test)"
      ],
      "metadata": {
        "colab": {
          "base_uri": "https://localhost:8080/"
        },
        "id": "bpUT4yJcsL2Q",
        "outputId": "1fad5c19-141b-483e-8e65-8fb425b5a441"
      },
      "execution_count": 87,
      "outputs": [
        {
          "output_type": "stream",
          "name": "stdout",
          "text": [
            "Epoch 1/9\n",
            "18/18 [==============================] - 1s 48ms/step - loss: 2.6947 - accuracy: 0.5078\n",
            "Epoch 2/9\n",
            "18/18 [==============================] - 1s 45ms/step - loss: 1.5131 - accuracy: 0.6877\n",
            "Epoch 3/9\n",
            "18/18 [==============================] - 1s 44ms/step - loss: 1.1651 - accuracy: 0.7486\n",
            "Epoch 4/9\n",
            "18/18 [==============================] - 1s 41ms/step - loss: 0.9553 - accuracy: 0.7998\n",
            "Epoch 5/9\n",
            "18/18 [==============================] - 1s 42ms/step - loss: 0.7961 - accuracy: 0.8321\n",
            "Epoch 6/9\n",
            "18/18 [==============================] - 1s 41ms/step - loss: 0.6676 - accuracy: 0.8570\n",
            "Epoch 7/9\n",
            "18/18 [==============================] - 1s 42ms/step - loss: 0.5571 - accuracy: 0.8817\n",
            "Epoch 8/9\n",
            "18/18 [==============================] - 1s 57ms/step - loss: 0.4706 - accuracy: 0.9019\n",
            "Epoch 9/9\n",
            "18/18 [==============================] - 1s 72ms/step - loss: 0.3986 - accuracy: 0.9158\n",
            "71/71 [==============================] - 0s 3ms/step - loss: 0.9525 - accuracy: 0.7841\n"
          ]
        }
      ]
    },
    {
      "cell_type": "code",
      "source": [
        "results"
      ],
      "metadata": {
        "colab": {
          "base_uri": "https://localhost:8080/"
        },
        "id": "bIDjoP4dsQHO",
        "outputId": "3c208fca-f323-4581-a472-aa8ac2322157"
      },
      "execution_count": 88,
      "outputs": [
        {
          "output_type": "execute_result",
          "data": {
            "text/plain": [
              "[0.9525047540664673, 0.784060537815094]"
            ]
          },
          "metadata": {},
          "execution_count": 88
        }
      ]
    },
    {
      "cell_type": "code",
      "source": [
        "import copy\n",
        "test_labels_copy = copy.copy(test_labels)\n",
        "np.random.shuffle(test_labels_copy)\n",
        "hits_array = np.array(test_labels) == np.array(test_labels_copy)\n",
        "hits_array.mean()\n"
      ],
      "metadata": {
        "colab": {
          "base_uri": "https://localhost:8080/"
        },
        "id": "AozMfHn7sP77",
        "outputId": "c6822bae-213a-4ba7-bb24-84c5d5bb19c1"
      },
      "execution_count": 89,
      "outputs": [
        {
          "output_type": "execute_result",
          "data": {
            "text/plain": [
              "0.18521816562778273"
            ]
          },
          "metadata": {},
          "execution_count": 89
        }
      ]
    },
    {
      "cell_type": "markdown",
      "source": [
        "###새로운 데이터로 예측하기"
      ],
      "metadata": {
        "id": "wbKAx5GzsTkh"
      }
    },
    {
      "cell_type": "code",
      "source": [
        "predictions = model.predict(x_test)"
      ],
      "metadata": {
        "colab": {
          "base_uri": "https://localhost:8080/"
        },
        "id": "4EL33zqasPu_",
        "outputId": "0d2fab08-5b08-481c-e46d-42b8001c88a1"
      },
      "execution_count": 90,
      "outputs": [
        {
          "output_type": "stream",
          "name": "stdout",
          "text": [
            "71/71 [==============================] - 0s 3ms/step\n"
          ]
        }
      ]
    },
    {
      "cell_type": "code",
      "source": [
        "predictions[0].shape"
      ],
      "metadata": {
        "colab": {
          "base_uri": "https://localhost:8080/"
        },
        "id": "nueUq-EGsPkS",
        "outputId": "3aeb8dfa-d801-488b-cf5a-f09bc2800c40"
      },
      "execution_count": 91,
      "outputs": [
        {
          "output_type": "execute_result",
          "data": {
            "text/plain": [
              "(46,)"
            ]
          },
          "metadata": {},
          "execution_count": 91
        }
      ]
    },
    {
      "cell_type": "code",
      "source": [
        "np.sum(predictions[0])"
      ],
      "metadata": {
        "colab": {
          "base_uri": "https://localhost:8080/"
        },
        "id": "RtgKnKGOsPY3",
        "outputId": "362cfa84-c08d-4e22-f812-43ed919e6c35"
      },
      "execution_count": 92,
      "outputs": [
        {
          "output_type": "execute_result",
          "data": {
            "text/plain": [
              "1.0000001"
            ]
          },
          "metadata": {},
          "execution_count": 92
        }
      ]
    },
    {
      "cell_type": "code",
      "source": [
        "np.argmax(predictions[0])"
      ],
      "metadata": {
        "colab": {
          "base_uri": "https://localhost:8080/"
        },
        "id": "Jj4VWIsJsc_L",
        "outputId": "067c05c5-1d55-4771-a8fe-cb55e6fb722e"
      },
      "execution_count": 93,
      "outputs": [
        {
          "output_type": "execute_result",
          "data": {
            "text/plain": [
              "3"
            ]
          },
          "metadata": {},
          "execution_count": 93
        }
      ]
    },
    {
      "cell_type": "markdown",
      "source": [
        "###레이블과 손실을 다루는 다른 방법"
      ],
      "metadata": {
        "id": "wFl1FKREsgTo"
      }
    },
    {
      "cell_type": "code",
      "source": [
        "y_train = np.array(train_labels)\n",
        "y_test = np.array(test_labels)"
      ],
      "metadata": {
        "id": "J9eXK73Isc2k"
      },
      "execution_count": 94,
      "outputs": []
    },
    {
      "cell_type": "code",
      "source": [
        "model.compile(optimizer=\"rmsprop\",\n",
        "              loss=\"sparse_categorical_crossentropy\",\n",
        "              metrics=[\"accuracy\"])"
      ],
      "metadata": {
        "id": "sZTt0RN1scs9"
      },
      "execution_count": 95,
      "outputs": []
    },
    {
      "cell_type": "code",
      "source": [],
      "metadata": {
        "id": "o3YEK8jysntl"
      },
      "execution_count": 95,
      "outputs": []
    },
    {
      "cell_type": "markdown",
      "source": [
        "###충분히 큰 중간 층을 두어야 하는 이유\n",
        "정보 병목이 있는 모델"
      ],
      "metadata": {
        "id": "I5z1fka2snRv"
      }
    },
    {
      "cell_type": "code",
      "source": [
        "model = keras.Sequential([\n",
        "    layers.Dense(64, activation=\"relu\"),\n",
        "    layers.Dense(4, activation=\"relu\"),\n",
        "    layers.Dense(46, activation=\"softmax\")\n",
        "])\n",
        "model.compile(optimizer=\"rmsprop\",\n",
        "              loss=\"categorical_crossentropy\",\n",
        "              metrics=[\"accuracy\"])\n",
        "model.fit(partial_x_train,\n",
        "          partial_y_train,\n",
        "          epochs=20,\n",
        "          batch_size=128,\n",
        "          validation_data=(x_val, y_val))"
      ],
      "metadata": {
        "colab": {
          "base_uri": "https://localhost:8080/"
        },
        "id": "mag9kYsfsphc",
        "outputId": "f7b35d4a-a86a-4ada-c975-78c5e307cc98"
      },
      "execution_count": 96,
      "outputs": [
        {
          "output_type": "stream",
          "name": "stdout",
          "text": [
            "Epoch 1/20\n",
            "63/63 [==============================] - 3s 34ms/step - loss: 2.4736 - accuracy: 0.5089 - val_loss: 1.7655 - val_accuracy: 0.5720\n",
            "Epoch 2/20\n",
            "63/63 [==============================] - 1s 16ms/step - loss: 1.5874 - accuracy: 0.6024 - val_loss: 1.5325 - val_accuracy: 0.6020\n",
            "Epoch 3/20\n",
            "63/63 [==============================] - 1s 16ms/step - loss: 1.3679 - accuracy: 0.6260 - val_loss: 1.4270 - val_accuracy: 0.6450\n",
            "Epoch 4/20\n",
            "63/63 [==============================] - 1s 16ms/step - loss: 1.2213 - accuracy: 0.6799 - val_loss: 1.3579 - val_accuracy: 0.6650\n",
            "Epoch 5/20\n",
            "63/63 [==============================] - 1s 22ms/step - loss: 1.1047 - accuracy: 0.7067 - val_loss: 1.3133 - val_accuracy: 0.6720\n",
            "Epoch 6/20\n",
            "63/63 [==============================] - 2s 26ms/step - loss: 1.0091 - accuracy: 0.7214 - val_loss: 1.2898 - val_accuracy: 0.6850\n",
            "Epoch 7/20\n",
            "63/63 [==============================] - 1s 17ms/step - loss: 0.9296 - accuracy: 0.7432 - val_loss: 1.2851 - val_accuracy: 0.6910\n",
            "Epoch 8/20\n",
            "63/63 [==============================] - 1s 16ms/step - loss: 0.8622 - accuracy: 0.7676 - val_loss: 1.2745 - val_accuracy: 0.7080\n",
            "Epoch 9/20\n",
            "63/63 [==============================] - 1s 16ms/step - loss: 0.8003 - accuracy: 0.7795 - val_loss: 1.2756 - val_accuracy: 0.7010\n",
            "Epoch 10/20\n",
            "63/63 [==============================] - 1s 16ms/step - loss: 0.7469 - accuracy: 0.7888 - val_loss: 1.2927 - val_accuracy: 0.7090\n",
            "Epoch 11/20\n",
            "63/63 [==============================] - 1s 16ms/step - loss: 0.6996 - accuracy: 0.7980 - val_loss: 1.3613 - val_accuracy: 0.7090\n",
            "Epoch 12/20\n",
            "63/63 [==============================] - 1s 16ms/step - loss: 0.6594 - accuracy: 0.8071 - val_loss: 1.3402 - val_accuracy: 0.7130\n",
            "Epoch 13/20\n",
            "63/63 [==============================] - 1s 16ms/step - loss: 0.6217 - accuracy: 0.8173 - val_loss: 1.3472 - val_accuracy: 0.7130\n",
            "Epoch 14/20\n",
            "63/63 [==============================] - 1s 16ms/step - loss: 0.5891 - accuracy: 0.8261 - val_loss: 1.3765 - val_accuracy: 0.7150\n",
            "Epoch 15/20\n",
            "63/63 [==============================] - 1s 16ms/step - loss: 0.5591 - accuracy: 0.8336 - val_loss: 1.4219 - val_accuracy: 0.7250\n",
            "Epoch 16/20\n",
            "63/63 [==============================] - 1s 17ms/step - loss: 0.5358 - accuracy: 0.8429 - val_loss: 1.4424 - val_accuracy: 0.7160\n",
            "Epoch 17/20\n",
            "63/63 [==============================] - 2s 26ms/step - loss: 0.5124 - accuracy: 0.8523 - val_loss: 1.4741 - val_accuracy: 0.7250\n",
            "Epoch 18/20\n",
            "63/63 [==============================] - 1s 21ms/step - loss: 0.4914 - accuracy: 0.8591 - val_loss: 1.5121 - val_accuracy: 0.7250\n",
            "Epoch 19/20\n",
            "63/63 [==============================] - 1s 16ms/step - loss: 0.4734 - accuracy: 0.8661 - val_loss: 1.5325 - val_accuracy: 0.7260\n",
            "Epoch 20/20\n",
            "63/63 [==============================] - 1s 18ms/step - loss: 0.4528 - accuracy: 0.8727 - val_loss: 1.6125 - val_accuracy: 0.7240\n"
          ]
        },
        {
          "output_type": "execute_result",
          "data": {
            "text/plain": [
              "<keras.src.callbacks.History at 0x7f7387faae00>"
            ]
          },
          "metadata": {},
          "execution_count": 96
        }
      ]
    },
    {
      "cell_type": "markdown",
      "source": [
        "### 비교\n",
        "\n",
        "### LMS 모델\n",
        "\n",
        "```\n",
        "model = models.Sequential()\n",
        "model.add(layers.Dense(128, activation='relu', input_shape=(10000, ), name='input'))\n",
        "model.add(layers.BatchNormalization())\n",
        "model.add(layers.Dropout(0.5))\n",
        "model.add(layers.Dense(64, activation='relu'))\n",
        "model.add(layers.BatchNormalization())\n",
        "model.add(layers.Dropout(0.5))\n",
        "model.add(layers.Dense(46, activation='softmax'))\n",
        "# 이전 코드 (모델 컴파일)\n",
        "model.compile(optimizer='adam', loss='categorical_crossentropy', metrics=['accuracy'])\n",
        "\n",
        "# EarlyStopping 추가\n",
        "early_stopping = callbacks.EarlyStopping(\n",
        "    monitor='val_loss', # 검증 손실 기준 선택\n",
        "    patience=10, # 중지까지 기다리는 에포크 매개변수\n",
        "    restore_best_weights=True, # 가장 좋은 가중치 복원 여부 설정\n",
        "    verbose=1 # 진행 사항 표시\n",
        ")\n",
        "\n",
        "# 모델 학습시 콜백 추가\n",
        "history = model.fit(x_train, y_train,\n",
        "                    epochs=40,\n",
        "                    batch_size=512,\n",
        "                    validation_data=(x_test, y_test),\n",
        "                    callbacks=[early_stopping]) # 콜백 추가\n",
        "\n",
        "### 결과 : loss: 1.0209 - accuracy: 0.7903\n",
        "\n",
        "```\n",
        "\n"
      ],
      "metadata": {
        "id": "_arbkzt7vlU3"
      }
    },
    {
      "cell_type": "markdown",
      "source": [
        "## 소감"
      ],
      "metadata": {
        "id": "d52ly_hmmmRc"
      }
    },
    {
      "cell_type": "markdown",
      "source": [
        "\n",
        "1. Boston 주택 가격 예측 / Reuters 데이터의 분류 / CIFAR10 데이터의 분류 프로젝트 완료하였으며 프로젝트의 지시 사항을 따라 데이터 전처리, 모델 구성, 모델학습을 진행하였습니다.\n",
        "2. **보스턴 데이터셋 분류 모델**에서, LMS에서 제시하는 시퀀셜 모델구성이 아닌 함수형 모델구성을 <케라스창시자에게서 배우는 딥러닝>을 참조하여 다르게 구성해 보았습니다. 그러나 결과는 시퀀셜 구성이 더 좋은 성능을 보이는 듯 합니다.\n",
        "3. **로이터 데이터셋 다중분류 모델**도 <케라스창시자에게서 배우는 딥러닝>을 참조하여 다르게 구성해 보았습니다만 결과는 썩 만족할 만한 것이 못되는 것 같습니다. 배운다는 느낌으로만 만족합니다."
      ],
      "metadata": {
        "id": "1Y0dp_76moFA"
      }
    },
    {
      "cell_type": "markdown",
      "source": [],
      "metadata": {
        "id": "RWKeou2cldZR"
      }
    }
  ]
}