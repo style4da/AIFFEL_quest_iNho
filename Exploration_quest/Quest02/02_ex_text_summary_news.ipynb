{
  "nbformat": 4,
  "nbformat_minor": 0,
  "metadata": {
    "colab": {
      "provenance": [],
      "machine_shape": "hm",
      "gpuType": "V100",
      "authorship_tag": "ABX9TyNBQjcqxTAl/1wM7qNb14qq",
      "include_colab_link": true
    },
    "kernelspec": {
      "name": "python3",
      "display_name": "Python 3"
    },
    "language_info": {
      "name": "python"
    },
    "accelerator": "GPU"
  },
  "cells": [
    {
      "cell_type": "markdown",
      "metadata": {
        "id": "view-in-github",
        "colab_type": "text"
      },
      "source": [
        "<a href=\"https://colab.research.google.com/github/penguinhouse/AIFFEL_quest_iNho/blob/main/Exploration_quest/Quest02/02_ex_text_%08summary_news.ipynb\" target=\"_parent\"><img src=\"https://colab.research.google.com/assets/colab-badge.svg\" alt=\"Open In Colab\"/></a>"
      ]
    },
    {
      "cell_type": "markdown",
      "source": [
        "# 4-1. 프로젝트: 뉴스기사 요약해보기"
      ],
      "metadata": {
        "id": "TCUgibOB7sj9"
      }
    },
    {
      "cell_type": "markdown",
      "source": [
        "루브릭\n",
        "아래의 기준을 바탕으로 프로젝트를 평가합니다.\n",
        "\n",
        "| 평가문항  | 상세기준 |\n",
        "| :--- | :--- |\n",
        "| 1. Abstractive 모델 구성을 위한 텍스트 전처리 단계가 체계적으로 진행되었다. | 분석단계, 정제단계, 정규화와 불용어 제거, 데이터셋 분리, 인코딩 과정이 빠짐없이 체계적으로 진행되었다. |\n",
        "| 2. 텍스트 요약모델이 성공적으로 학습되었음을 확인하였다. | 모델 학습이 진행되면서 train loss와 validation loss가 감소하는 경향을 그래프를 통해 확인했으며, 실제 요약문에 있는 핵심 단어들이 요약 문장 안에 포함되었다. |   \n",
        "| 3. Extractive 요약을 시도해 보고 Abstractive 요약 결과과 함께 비교해 보았다. | 두 요약 결과를 문법완성도 측면과 핵심단어 포함 측면으로 나누어 비교하고 분석 결과를 표로 정리하여 제시하였다. |"
      ],
      "metadata": {
        "id": "bYqO0nvEkyUA"
      }
    },
    {
      "cell_type": "code",
      "source": [
        "# 필요한 라이브러리 설치\n",
        "!pip install nltk\n",
        "!pip install summa\n",
        "\n",
        "from importlib.metadata import version\n",
        "import nltk\n",
        "nltk.download('stopwords')\n",
        "import numpy as np\n",
        "import pandas as pd\n",
        "import os\n",
        "import re\n",
        "import matplotlib.pyplot as plt\n",
        "from nltk.corpus import stopwords\n",
        "from bs4 import BeautifulSoup\n",
        "from tensorflow.keras.preprocessing.text import Tokenizer\n",
        "from tensorflow.keras.preprocessing.sequence import pad_sequences\n",
        "import urllib.request\n",
        "import warnings\n",
        "warnings.filterwarnings(\"ignore\", category=UserWarning, module='bs4')\n",
        "import tensorflow\n",
        "import summa  # 이제 이 줄은 에러 없이 작동합니다.\n",
        "\n",
        "print(nltk.__version__)\n",
        "print(tensorflow.__version__)\n",
        "print(pd.__version__)\n",
        "print(version('summa'))\n"
      ],
      "metadata": {
        "colab": {
          "base_uri": "https://localhost:8080/"
        },
        "id": "CYGtYXMU7rc-",
        "outputId": "021945e7-a44f-4ddc-aa8c-fe5c8718bb86"
      },
      "execution_count": null,
      "outputs": [
        {
          "output_type": "stream",
          "name": "stdout",
          "text": [
            "Requirement already satisfied: summa in /usr/local/lib/python3.10/dist-packages (1.2.0)\n",
            "Requirement already satisfied: scipy>=0.19 in /usr/local/lib/python3.10/dist-packages (from summa) (1.11.3)\n",
            "Requirement already satisfied: numpy<1.28.0,>=1.21.6 in /usr/local/lib/python3.10/dist-packages (from scipy>=0.19->summa) (1.23.5)\n",
            "3.8.1\n",
            "2.14.0\n",
            "1.5.3\n",
            "1.2.0\n"
          ]
        },
        {
          "output_type": "stream",
          "name": "stderr",
          "text": [
            "[nltk_data] Downloading package stopwords to /root/nltk_data...\n",
            "[nltk_data]   Package stopwords is already up-to-date!\n"
          ]
        }
      ]
    },
    {
      "cell_type": "markdown",
      "source": [
        "## Step 1. 데이터 수집하기\n",
        "\n",
        "데이터는 아래 링크에 있는 뉴스 기사 데이터(news_summary_more.csv)를 사용하세요.\n",
        "\n",
        "sunnysai12345/News_Summary https://github.com/sunnysai12345/News_Summary"
      ],
      "metadata": {
        "id": "Fp-HFGKA8CcM"
      }
    },
    {
      "cell_type": "code",
      "source": [
        "import urllib.request\n",
        "urllib.request.urlretrieve(\"https://raw.githubusercontent.com/sunnysai12345/News_Summary/master/news_summary_more.csv\", filename=\"news_summary_more.csv\")\n",
        "data = pd.read_csv('news_summary_more.csv', encoding='iso-8859-1')"
      ],
      "metadata": {
        "id": "mZSadi-78SZN"
      },
      "execution_count": null,
      "outputs": []
    },
    {
      "cell_type": "code",
      "source": [
        "data.sample(10)"
      ],
      "metadata": {
        "colab": {
          "base_uri": "https://localhost:8080/",
          "height": 363
        },
        "id": "LSOAyIwe9LHF",
        "outputId": "39f36a5a-d404-4155-852e-579157a378f1"
      },
      "execution_count": null,
      "outputs": [
        {
          "output_type": "execute_result",
          "data": {
            "text/plain": [
              "                                               headlines  \\\n",
              "7705   Apple to wait till 2020 to release first 5G iP...   \n",
              "66488  Indian soldiers killing 5-6 terrorists every d...   \n",
              "36773  Should try pink ball in IPL matches next year:...   \n",
              "38464  Car hangs from parking's 4th floor after drive...   \n",
              "32296  Video: Turkish man clings to car hood to escap...   \n",
              "79168  Venezuela's violinist protester promises retur...   \n",
              "3299   Dilip Kumar lessee of plot for 999 years: Prop...   \n",
              "30234  Rishi tweets royal wedding video dubbed using ...   \n",
              "94746      Pandya hits 5 boundaries in Dinda's 20th over   \n",
              "94362  Bug allowed hackers to attack iPhone using a song   \n",
              "\n",
              "                                                    text  \n",
              "7705   Apple will reportedly wait till 2020 to releas...  \n",
              "66488  Union Home Minister Rajnath Singh said on Sund...  \n",
              "36773  Former Indian captain Kapil Dev said, \"If the ...  \n",
              "38464  A woman driver was rescued unhurt in Californi...  \n",
              "32296  A video showing a man clinging to a car hood t...  \n",
              "79168  Musician Wuilly Arteaga, who became the face o...  \n",
              "3299   The original owners of Dilip Kumar and Saira B...  \n",
              "30234  Rishi Kapoor tweeted a video of Prince Harry a...  \n",
              "94746  Mumbai Indians all-rounder Hardik Pandya hit R...  \n",
              "94362  Researchers have disclosed two vulnerabilities...  "
            ],
            "text/html": [
              "\n",
              "  <div id=\"df-d87cdeab-63e2-45f0-b786-8c94d9c4e48a\" class=\"colab-df-container\">\n",
              "    <div>\n",
              "<style scoped>\n",
              "    .dataframe tbody tr th:only-of-type {\n",
              "        vertical-align: middle;\n",
              "    }\n",
              "\n",
              "    .dataframe tbody tr th {\n",
              "        vertical-align: top;\n",
              "    }\n",
              "\n",
              "    .dataframe thead th {\n",
              "        text-align: right;\n",
              "    }\n",
              "</style>\n",
              "<table border=\"1\" class=\"dataframe\">\n",
              "  <thead>\n",
              "    <tr style=\"text-align: right;\">\n",
              "      <th></th>\n",
              "      <th>headlines</th>\n",
              "      <th>text</th>\n",
              "    </tr>\n",
              "  </thead>\n",
              "  <tbody>\n",
              "    <tr>\n",
              "      <th>7705</th>\n",
              "      <td>Apple to wait till 2020 to release first 5G iP...</td>\n",
              "      <td>Apple will reportedly wait till 2020 to releas...</td>\n",
              "    </tr>\n",
              "    <tr>\n",
              "      <th>66488</th>\n",
              "      <td>Indian soldiers killing 5-6 terrorists every d...</td>\n",
              "      <td>Union Home Minister Rajnath Singh said on Sund...</td>\n",
              "    </tr>\n",
              "    <tr>\n",
              "      <th>36773</th>\n",
              "      <td>Should try pink ball in IPL matches next year:...</td>\n",
              "      <td>Former Indian captain Kapil Dev said, \"If the ...</td>\n",
              "    </tr>\n",
              "    <tr>\n",
              "      <th>38464</th>\n",
              "      <td>Car hangs from parking's 4th floor after drive...</td>\n",
              "      <td>A woman driver was rescued unhurt in Californi...</td>\n",
              "    </tr>\n",
              "    <tr>\n",
              "      <th>32296</th>\n",
              "      <td>Video: Turkish man clings to car hood to escap...</td>\n",
              "      <td>A video showing a man clinging to a car hood t...</td>\n",
              "    </tr>\n",
              "    <tr>\n",
              "      <th>79168</th>\n",
              "      <td>Venezuela's violinist protester promises retur...</td>\n",
              "      <td>Musician Wuilly Arteaga, who became the face o...</td>\n",
              "    </tr>\n",
              "    <tr>\n",
              "      <th>3299</th>\n",
              "      <td>Dilip Kumar lessee of plot for 999 years: Prop...</td>\n",
              "      <td>The original owners of Dilip Kumar and Saira B...</td>\n",
              "    </tr>\n",
              "    <tr>\n",
              "      <th>30234</th>\n",
              "      <td>Rishi tweets royal wedding video dubbed using ...</td>\n",
              "      <td>Rishi Kapoor tweeted a video of Prince Harry a...</td>\n",
              "    </tr>\n",
              "    <tr>\n",
              "      <th>94746</th>\n",
              "      <td>Pandya hits 5 boundaries in Dinda's 20th over</td>\n",
              "      <td>Mumbai Indians all-rounder Hardik Pandya hit R...</td>\n",
              "    </tr>\n",
              "    <tr>\n",
              "      <th>94362</th>\n",
              "      <td>Bug allowed hackers to attack iPhone using a song</td>\n",
              "      <td>Researchers have disclosed two vulnerabilities...</td>\n",
              "    </tr>\n",
              "  </tbody>\n",
              "</table>\n",
              "</div>\n",
              "    <div class=\"colab-df-buttons\">\n",
              "\n",
              "  <div class=\"colab-df-container\">\n",
              "    <button class=\"colab-df-convert\" onclick=\"convertToInteractive('df-d87cdeab-63e2-45f0-b786-8c94d9c4e48a')\"\n",
              "            title=\"Convert this dataframe to an interactive table.\"\n",
              "            style=\"display:none;\">\n",
              "\n",
              "  <svg xmlns=\"http://www.w3.org/2000/svg\" height=\"24px\" viewBox=\"0 -960 960 960\">\n",
              "    <path d=\"M120-120v-720h720v720H120Zm60-500h600v-160H180v160Zm220 220h160v-160H400v160Zm0 220h160v-160H400v160ZM180-400h160v-160H180v160Zm440 0h160v-160H620v160ZM180-180h160v-160H180v160Zm440 0h160v-160H620v160Z\"/>\n",
              "  </svg>\n",
              "    </button>\n",
              "\n",
              "  <style>\n",
              "    .colab-df-container {\n",
              "      display:flex;\n",
              "      gap: 12px;\n",
              "    }\n",
              "\n",
              "    .colab-df-convert {\n",
              "      background-color: #E8F0FE;\n",
              "      border: none;\n",
              "      border-radius: 50%;\n",
              "      cursor: pointer;\n",
              "      display: none;\n",
              "      fill: #1967D2;\n",
              "      height: 32px;\n",
              "      padding: 0 0 0 0;\n",
              "      width: 32px;\n",
              "    }\n",
              "\n",
              "    .colab-df-convert:hover {\n",
              "      background-color: #E2EBFA;\n",
              "      box-shadow: 0px 1px 2px rgba(60, 64, 67, 0.3), 0px 1px 3px 1px rgba(60, 64, 67, 0.15);\n",
              "      fill: #174EA6;\n",
              "    }\n",
              "\n",
              "    .colab-df-buttons div {\n",
              "      margin-bottom: 4px;\n",
              "    }\n",
              "\n",
              "    [theme=dark] .colab-df-convert {\n",
              "      background-color: #3B4455;\n",
              "      fill: #D2E3FC;\n",
              "    }\n",
              "\n",
              "    [theme=dark] .colab-df-convert:hover {\n",
              "      background-color: #434B5C;\n",
              "      box-shadow: 0px 1px 3px 1px rgba(0, 0, 0, 0.15);\n",
              "      filter: drop-shadow(0px 1px 2px rgba(0, 0, 0, 0.3));\n",
              "      fill: #FFFFFF;\n",
              "    }\n",
              "  </style>\n",
              "\n",
              "    <script>\n",
              "      const buttonEl =\n",
              "        document.querySelector('#df-d87cdeab-63e2-45f0-b786-8c94d9c4e48a button.colab-df-convert');\n",
              "      buttonEl.style.display =\n",
              "        google.colab.kernel.accessAllowed ? 'block' : 'none';\n",
              "\n",
              "      async function convertToInteractive(key) {\n",
              "        const element = document.querySelector('#df-d87cdeab-63e2-45f0-b786-8c94d9c4e48a');\n",
              "        const dataTable =\n",
              "          await google.colab.kernel.invokeFunction('convertToInteractive',\n",
              "                                                    [key], {});\n",
              "        if (!dataTable) return;\n",
              "\n",
              "        const docLinkHtml = 'Like what you see? Visit the ' +\n",
              "          '<a target=\"_blank\" href=https://colab.research.google.com/notebooks/data_table.ipynb>data table notebook</a>'\n",
              "          + ' to learn more about interactive tables.';\n",
              "        element.innerHTML = '';\n",
              "        dataTable['output_type'] = 'display_data';\n",
              "        await google.colab.output.renderOutput(dataTable, element);\n",
              "        const docLink = document.createElement('div');\n",
              "        docLink.innerHTML = docLinkHtml;\n",
              "        element.appendChild(docLink);\n",
              "      }\n",
              "    </script>\n",
              "  </div>\n",
              "\n",
              "\n",
              "<div id=\"df-563f4ec2-8b67-46b6-9248-708c92272e37\">\n",
              "  <button class=\"colab-df-quickchart\" onclick=\"quickchart('df-563f4ec2-8b67-46b6-9248-708c92272e37')\"\n",
              "            title=\"Suggest charts\"\n",
              "            style=\"display:none;\">\n",
              "\n",
              "<svg xmlns=\"http://www.w3.org/2000/svg\" height=\"24px\"viewBox=\"0 0 24 24\"\n",
              "     width=\"24px\">\n",
              "    <g>\n",
              "        <path d=\"M19 3H5c-1.1 0-2 .9-2 2v14c0 1.1.9 2 2 2h14c1.1 0 2-.9 2-2V5c0-1.1-.9-2-2-2zM9 17H7v-7h2v7zm4 0h-2V7h2v10zm4 0h-2v-4h2v4z\"/>\n",
              "    </g>\n",
              "</svg>\n",
              "  </button>\n",
              "\n",
              "<style>\n",
              "  .colab-df-quickchart {\n",
              "      --bg-color: #E8F0FE;\n",
              "      --fill-color: #1967D2;\n",
              "      --hover-bg-color: #E2EBFA;\n",
              "      --hover-fill-color: #174EA6;\n",
              "      --disabled-fill-color: #AAA;\n",
              "      --disabled-bg-color: #DDD;\n",
              "  }\n",
              "\n",
              "  [theme=dark] .colab-df-quickchart {\n",
              "      --bg-color: #3B4455;\n",
              "      --fill-color: #D2E3FC;\n",
              "      --hover-bg-color: #434B5C;\n",
              "      --hover-fill-color: #FFFFFF;\n",
              "      --disabled-bg-color: #3B4455;\n",
              "      --disabled-fill-color: #666;\n",
              "  }\n",
              "\n",
              "  .colab-df-quickchart {\n",
              "    background-color: var(--bg-color);\n",
              "    border: none;\n",
              "    border-radius: 50%;\n",
              "    cursor: pointer;\n",
              "    display: none;\n",
              "    fill: var(--fill-color);\n",
              "    height: 32px;\n",
              "    padding: 0;\n",
              "    width: 32px;\n",
              "  }\n",
              "\n",
              "  .colab-df-quickchart:hover {\n",
              "    background-color: var(--hover-bg-color);\n",
              "    box-shadow: 0 1px 2px rgba(60, 64, 67, 0.3), 0 1px 3px 1px rgba(60, 64, 67, 0.15);\n",
              "    fill: var(--button-hover-fill-color);\n",
              "  }\n",
              "\n",
              "  .colab-df-quickchart-complete:disabled,\n",
              "  .colab-df-quickchart-complete:disabled:hover {\n",
              "    background-color: var(--disabled-bg-color);\n",
              "    fill: var(--disabled-fill-color);\n",
              "    box-shadow: none;\n",
              "  }\n",
              "\n",
              "  .colab-df-spinner {\n",
              "    border: 2px solid var(--fill-color);\n",
              "    border-color: transparent;\n",
              "    border-bottom-color: var(--fill-color);\n",
              "    animation:\n",
              "      spin 1s steps(1) infinite;\n",
              "  }\n",
              "\n",
              "  @keyframes spin {\n",
              "    0% {\n",
              "      border-color: transparent;\n",
              "      border-bottom-color: var(--fill-color);\n",
              "      border-left-color: var(--fill-color);\n",
              "    }\n",
              "    20% {\n",
              "      border-color: transparent;\n",
              "      border-left-color: var(--fill-color);\n",
              "      border-top-color: var(--fill-color);\n",
              "    }\n",
              "    30% {\n",
              "      border-color: transparent;\n",
              "      border-left-color: var(--fill-color);\n",
              "      border-top-color: var(--fill-color);\n",
              "      border-right-color: var(--fill-color);\n",
              "    }\n",
              "    40% {\n",
              "      border-color: transparent;\n",
              "      border-right-color: var(--fill-color);\n",
              "      border-top-color: var(--fill-color);\n",
              "    }\n",
              "    60% {\n",
              "      border-color: transparent;\n",
              "      border-right-color: var(--fill-color);\n",
              "    }\n",
              "    80% {\n",
              "      border-color: transparent;\n",
              "      border-right-color: var(--fill-color);\n",
              "      border-bottom-color: var(--fill-color);\n",
              "    }\n",
              "    90% {\n",
              "      border-color: transparent;\n",
              "      border-bottom-color: var(--fill-color);\n",
              "    }\n",
              "  }\n",
              "</style>\n",
              "\n",
              "  <script>\n",
              "    async function quickchart(key) {\n",
              "      const quickchartButtonEl =\n",
              "        document.querySelector('#' + key + ' button');\n",
              "      quickchartButtonEl.disabled = true;  // To prevent multiple clicks.\n",
              "      quickchartButtonEl.classList.add('colab-df-spinner');\n",
              "      try {\n",
              "        const charts = await google.colab.kernel.invokeFunction(\n",
              "            'suggestCharts', [key], {});\n",
              "      } catch (error) {\n",
              "        console.error('Error during call to suggestCharts:', error);\n",
              "      }\n",
              "      quickchartButtonEl.classList.remove('colab-df-spinner');\n",
              "      quickchartButtonEl.classList.add('colab-df-quickchart-complete');\n",
              "    }\n",
              "    (() => {\n",
              "      let quickchartButtonEl =\n",
              "        document.querySelector('#df-563f4ec2-8b67-46b6-9248-708c92272e37 button');\n",
              "      quickchartButtonEl.style.display =\n",
              "        google.colab.kernel.accessAllowed ? 'block' : 'none';\n",
              "    })();\n",
              "  </script>\n",
              "</div>\n",
              "    </div>\n",
              "  </div>\n"
            ]
          },
          "metadata": {},
          "execution_count": 71
        }
      ]
    },
    {
      "cell_type": "markdown",
      "source": [
        "## Step 2. 데이터 전처리하기 (추상적 요약)"
      ],
      "metadata": {
        "id": "SgH1-ENl9RNP"
      }
    },
    {
      "cell_type": "code",
      "source": [
        "print('headlines 열에서 중복을 배제한 유일한 샘플의 수 :', data['headlines'].nunique())\n",
        "print('text 열에서 중복을 배제한 유일한 샘플의 수 :', data['text'].nunique())"
      ],
      "metadata": {
        "colab": {
          "base_uri": "https://localhost:8080/"
        },
        "id": "E-_ATvI-9OQ7",
        "outputId": "643028ca-17f4-48e2-f143-93fc277efe8c"
      },
      "execution_count": null,
      "outputs": [
        {
          "output_type": "stream",
          "name": "stdout",
          "text": [
            "headlines 열에서 중복을 배제한 유일한 샘플의 수 : 98280\n",
            "text 열에서 중복을 배제한 유일한 샘플의 수 : 98360\n"
          ]
        }
      ]
    },
    {
      "cell_type": "code",
      "source": [
        "# inplace=True 를 설정하면 DataFrame 타입 값을 return 하지 않고 data 내부를 직접적으로 바꿉니다\n",
        "data.drop_duplicates(subset = ['text'], inplace=True)\n",
        "print('전체 샘플수 :', (len(data)))"
      ],
      "metadata": {
        "colab": {
          "base_uri": "https://localhost:8080/"
        },
        "id": "idauXR2g9UzR",
        "outputId": "42f98348-466a-4875-e530-b920888ebfd5"
      },
      "execution_count": null,
      "outputs": [
        {
          "output_type": "stream",
          "name": "stdout",
          "text": [
            "전체 샘플수 : 98360\n"
          ]
        }
      ]
    },
    {
      "cell_type": "code",
      "source": [
        "print(data.isnull().sum())"
      ],
      "metadata": {
        "colab": {
          "base_uri": "https://localhost:8080/"
        },
        "id": "BNhlmGlg9amu",
        "outputId": "3f274ff9-eb10-48ea-80cc-85508730e5f1"
      },
      "execution_count": null,
      "outputs": [
        {
          "output_type": "stream",
          "name": "stdout",
          "text": [
            "headlines    0\n",
            "text         0\n",
            "dtype: int64\n"
          ]
        }
      ]
    },
    {
      "cell_type": "markdown",
      "source": [
        "### 텍스트 정규화와 불용어 제거\n",
        "텍스트 정규화를 위한 사전(dictionary)을 아래와 같이 구성"
      ],
      "metadata": {
        "id": "NRCRvyam9e-v"
      }
    },
    {
      "cell_type": "code",
      "source": [
        "contractions = {\"ain't\": \"is not\", \"aren't\": \"are not\",\"can't\": \"cannot\", \"'cause\": \"because\", \"could've\": \"could have\", \"couldn't\": \"could not\",\n",
        "                           \"didn't\": \"did not\",  \"doesn't\": \"does not\", \"don't\": \"do not\", \"hadn't\": \"had not\", \"hasn't\": \"has not\", \"haven't\": \"have not\",\n",
        "                           \"he'd\": \"he would\",\"he'll\": \"he will\", \"he's\": \"he is\", \"how'd\": \"how did\", \"how'd'y\": \"how do you\", \"how'll\": \"how will\", \"how's\": \"how is\",\n",
        "                           \"I'd\": \"I would\", \"I'd've\": \"I would have\", \"I'll\": \"I will\", \"I'll've\": \"I will have\",\"I'm\": \"I am\", \"I've\": \"I have\", \"i'd\": \"i would\",\n",
        "                           \"i'd've\": \"i would have\", \"i'll\": \"i will\",  \"i'll've\": \"i will have\",\"i'm\": \"i am\", \"i've\": \"i have\", \"isn't\": \"is not\", \"it'd\": \"it would\",\n",
        "                           \"it'd've\": \"it would have\", \"it'll\": \"it will\", \"it'll've\": \"it will have\",\"it's\": \"it is\", \"let's\": \"let us\", \"ma'am\": \"madam\",\n",
        "                           \"mayn't\": \"may not\", \"might've\": \"might have\",\"mightn't\": \"might not\",\"mightn't've\": \"might not have\", \"must've\": \"must have\",\n",
        "                           \"mustn't\": \"must not\", \"mustn't've\": \"must not have\", \"needn't\": \"need not\", \"needn't've\": \"need not have\",\"o'clock\": \"of the clock\",\n",
        "                           \"oughtn't\": \"ought not\", \"oughtn't've\": \"ought not have\", \"shan't\": \"shall not\", \"sha'n't\": \"shall not\", \"shan't've\": \"shall not have\",\n",
        "                           \"she'd\": \"she would\", \"she'd've\": \"she would have\", \"she'll\": \"she will\", \"she'll've\": \"she will have\", \"she's\": \"she is\",\n",
        "                           \"should've\": \"should have\", \"shouldn't\": \"should not\", \"shouldn't've\": \"should not have\", \"so've\": \"so have\",\"so's\": \"so as\",\n",
        "                           \"this's\": \"this is\",\"that'd\": \"that would\", \"that'd've\": \"that would have\", \"that's\": \"that is\", \"there'd\": \"there would\",\n",
        "                           \"there'd've\": \"there would have\", \"there's\": \"there is\", \"here's\": \"here is\",\"they'd\": \"they would\", \"they'd've\": \"they would have\",\n",
        "                           \"they'll\": \"they will\", \"they'll've\": \"they will have\", \"they're\": \"they are\", \"they've\": \"they have\", \"to've\": \"to have\",\n",
        "                           \"wasn't\": \"was not\", \"we'd\": \"we would\", \"we'd've\": \"we would have\", \"we'll\": \"we will\", \"we'll've\": \"we will have\", \"we're\": \"we are\",\n",
        "                           \"we've\": \"we have\", \"weren't\": \"were not\", \"what'll\": \"what will\", \"what'll've\": \"what will have\", \"what're\": \"what are\",\n",
        "                           \"what's\": \"what is\", \"what've\": \"what have\", \"when's\": \"when is\", \"when've\": \"when have\", \"where'd\": \"where did\", \"where's\": \"where is\",\n",
        "                           \"where've\": \"where have\", \"who'll\": \"who will\", \"who'll've\": \"who will have\", \"who's\": \"who is\", \"who've\": \"who have\",\n",
        "                           \"why's\": \"why is\", \"why've\": \"why have\", \"will've\": \"will have\", \"won't\": \"will not\", \"won't've\": \"will not have\",\n",
        "                           \"would've\": \"would have\", \"wouldn't\": \"would not\", \"wouldn't've\": \"would not have\", \"y'all\": \"you all\",\n",
        "                           \"y'all'd\": \"you all would\",\"y'all'd've\": \"you all would have\",\"y'all're\": \"you all are\",\"y'all've\": \"you all have\",\n",
        "                           \"you'd\": \"you would\", \"you'd've\": \"you would have\", \"you'll\": \"you will\", \"you'll've\": \"you will have\",\n",
        "                           \"you're\": \"you are\", \"you've\": \"you have\"}\n",
        "\n",
        "print(\"정규화 사전의 수: \", len(contractions))"
      ],
      "metadata": {
        "colab": {
          "base_uri": "https://localhost:8080/"
        },
        "id": "yv-qX8JQ9ceQ",
        "outputId": "48c71756-7ee5-4bd5-d8f9-ea39b202fae3"
      },
      "execution_count": null,
      "outputs": [
        {
          "output_type": "stream",
          "name": "stdout",
          "text": [
            "정규화 사전의 수:  120\n"
          ]
        }
      ]
    },
    {
      "cell_type": "markdown",
      "source": [
        "NLTK에서 제공하는 불용어 리스트를 참조해, 샘플에서 불용어를 제거"
      ],
      "metadata": {
        "id": "EsGlzQHovV3P"
      }
    },
    {
      "cell_type": "code",
      "source": [
        "print('불용어 개수 :', len(stopwords.words('english') ))\n",
        "print(stopwords.words('english'))"
      ],
      "metadata": {
        "colab": {
          "base_uri": "https://localhost:8080/"
        },
        "id": "w7AYZZcU9irj",
        "outputId": "a8fb27d5-79d4-4bb3-ab66-f3e69e15d8b5"
      },
      "execution_count": null,
      "outputs": [
        {
          "output_type": "stream",
          "name": "stdout",
          "text": [
            "불용어 개수 : 179\n",
            "['i', 'me', 'my', 'myself', 'we', 'our', 'ours', 'ourselves', 'you', \"you're\", \"you've\", \"you'll\", \"you'd\", 'your', 'yours', 'yourself', 'yourselves', 'he', 'him', 'his', 'himself', 'she', \"she's\", 'her', 'hers', 'herself', 'it', \"it's\", 'its', 'itself', 'they', 'them', 'their', 'theirs', 'themselves', 'what', 'which', 'who', 'whom', 'this', 'that', \"that'll\", 'these', 'those', 'am', 'is', 'are', 'was', 'were', 'be', 'been', 'being', 'have', 'has', 'had', 'having', 'do', 'does', 'did', 'doing', 'a', 'an', 'the', 'and', 'but', 'if', 'or', 'because', 'as', 'until', 'while', 'of', 'at', 'by', 'for', 'with', 'about', 'against', 'between', 'into', 'through', 'during', 'before', 'after', 'above', 'below', 'to', 'from', 'up', 'down', 'in', 'out', 'on', 'off', 'over', 'under', 'again', 'further', 'then', 'once', 'here', 'there', 'when', 'where', 'why', 'how', 'all', 'any', 'both', 'each', 'few', 'more', 'most', 'other', 'some', 'such', 'no', 'nor', 'not', 'only', 'own', 'same', 'so', 'than', 'too', 'very', 's', 't', 'can', 'will', 'just', 'don', \"don't\", 'should', \"should've\", 'now', 'd', 'll', 'm', 'o', 're', 've', 'y', 'ain', 'aren', \"aren't\", 'couldn', \"couldn't\", 'didn', \"didn't\", 'doesn', \"doesn't\", 'hadn', \"hadn't\", 'hasn', \"hasn't\", 'haven', \"haven't\", 'isn', \"isn't\", 'ma', 'mightn', \"mightn't\", 'mustn', \"mustn't\", 'needn', \"needn't\", 'shan', \"shan't\", 'shouldn', \"shouldn't\", 'wasn', \"wasn't\", 'weren', \"weren't\", 'won', \"won't\", 'wouldn', \"wouldn't\"]\n"
          ]
        }
      ]
    },
    {
      "cell_type": "markdown",
      "source": [
        "Abstractive한 문장 요약 결과문이 자연스러운 문장이 되려면 이 불용어들이 Headline에는 남아 있는 게 더 좋을 것 같습니다. 이 처리를 위해서 함수의 인자로 remove_stopwords를 추가하고, if문을 추가"
      ],
      "metadata": {
        "id": "IA-u3PTNvcRc"
      }
    },
    {
      "cell_type": "code",
      "source": [
        "# 데이터 전처리 함수\n",
        "def preprocess_sentence(sentence, remove_stopwords=True):\n",
        "    sentence = sentence.lower() # 텍스트 소문자화\n",
        "    sentence = BeautifulSoup(sentence, \"lxml\").text # <br />, <a href = ...> 등의 html 태그 제거\n",
        "    sentence = re.sub(r'\\([^)]*\\)', '', sentence) # 괄호로 닫힌 문자열 (...) 제거 Ex) my husband (and myself!) for => my husband for\n",
        "    sentence = re.sub('\"','', sentence) # 쌍따옴표 \" 제거\n",
        "    sentence = ' '.join([contractions[t] if t in contractions else t for t in sentence.split(\" \")]) # 약어 정규화\n",
        "    sentence = re.sub(r\"'s\\b\",\"\", sentence) # 소유격 제거. Ex) roland's -> roland\n",
        "    sentence = re.sub(\"[^a-zA-Z]\", \" \", sentence) # 영어 외 문자(숫자, 특수문자 등) 공백으로 변환\n",
        "    sentence = re.sub('[m]{2,}', 'mm', sentence) # m이 3개 이상이면 2개로 변경. Ex) ummmmmmm yeah -> umm yeah\n",
        "\n",
        "    # 불용어 제거 (Text)\n",
        "    if remove_stopwords:\n",
        "        tokens = ' '.join(word for word in sentence.split() if not word in stopwords.words('english') if len(word) > 1)\n",
        "    # 불용어 미제거 (Summary)\n",
        "    else:\n",
        "        tokens = ' '.join(word for word in sentence.split() if len(word) > 1)\n",
        "    return tokens\n",
        "print('=3')"
      ],
      "metadata": {
        "colab": {
          "base_uri": "https://localhost:8080/"
        },
        "id": "7-6EXBIF9lFS",
        "outputId": "2a1ea90f-41ad-4880-fe31-70df0a5e5557"
      },
      "execution_count": null,
      "outputs": [
        {
          "output_type": "stream",
          "name": "stdout",
          "text": [
            "=3\n"
          ]
        }
      ]
    },
    {
      "cell_type": "markdown",
      "source": [
        "전처리 전, 후의 결과를 확인하기 위해서 임의의 text와 summary를 만들어 함수를 호출"
      ],
      "metadata": {
        "id": "0ulINEtzvhiP"
      }
    },
    {
      "cell_type": "code",
      "source": [
        "temp_text = 'Everything I bought was great, infact I ordered twice and the third ordered was<br />for my mother and father.'\n",
        "temp_headlines = 'Great way to start (or finish) the day!!!'\n",
        "\n",
        "print(\"text: \", preprocess_sentence(temp_text))\n",
        "print(\"headlines:\", preprocess_sentence(temp_headlines, False))"
      ],
      "metadata": {
        "colab": {
          "base_uri": "https://localhost:8080/"
        },
        "id": "Ngu07_tV9nWP",
        "outputId": "1f859b21-80cd-41f0-cace-e1e5d9a603b4"
      },
      "execution_count": null,
      "outputs": [
        {
          "output_type": "stream",
          "name": "stdout",
          "text": [
            "text:  everything bought great infact ordered twice third ordered wasfor mother father\n",
            "headlines: great way to start the day\n"
          ]
        }
      ]
    },
    {
      "cell_type": "markdown",
      "source": [
        "Text의 경우에는 불용어를 제거하고, Headlines의 경우에는 불용어를 제거하지 않을 것이므로 따로 호출해서 진행해야 해요. 먼저 Text를 전처리하고, 결과를 확인하기 위해서 상위 5개의 줄을 출력"
      ],
      "metadata": {
        "id": "g492iOZ9vmMq"
      }
    },
    {
      "cell_type": "code",
      "source": [
        "# 전체 Text 데이터에 대한 전처리 : 10분 이상 시간이 걸릴 수 있습니다.\n",
        "# 훈련 데이터 전체의 Text 컬럼의 데이터를 전처리하는 코드를 작성\n",
        "clean_text = []\n",
        "\n",
        "for s in data['text']:\n",
        "    clean_text.append(preprocess_sentence(s))\n",
        "\n",
        "\n",
        "# 전처리 후 출력\n",
        "print(\"Text 전처리 후 결과: \", clean_text[:5])"
      ],
      "metadata": {
        "colab": {
          "base_uri": "https://localhost:8080/"
        },
        "id": "9RcbEee09puW",
        "outputId": "e05628c4-3ca8-444f-ebfc-2e88a992f00b"
      },
      "execution_count": null,
      "outputs": [
        {
          "output_type": "stream",
          "name": "stdout",
          "text": [
            "Text 전처리 후 결과:  ['saurav kant alumnus upgrad iiit pg program machine learning artificial intelligence sr systems engineer infosys almost years work experience program upgrad degree career support helped transition data scientist tech mahindra salary hike upgrad online power learning powered lakh careers', 'kunal shah credit card bill payment platform cred gave users chance win free food swiggy one year pranav kaushik delhi techie bagged reward spending cred coins users get one cred coin per rupee bill paid used avail rewards brands like ixigo bookmyshow ubereats cult fit', 'new zealand defeated india wickets fourth odi hamilton thursday win first match five match odi series india lost international match rohit sharma captaincy consecutive victories dating back march match witnessed india getting seventh lowest total odi cricket history', 'aegon life iterm insurance plan customers enjoy tax benefits premiums paid save taxes plan provides life cover age years also customers options insure critical illnesses disability accidental death benefit rider life cover age years', 'speaking sexual harassment allegations rajkumar hirani sonam kapoor said known hirani many years true metoo movement get derailed metoo movement always believe woman case need reserve judgment added hirani accused assistant worked sanju']\n"
          ]
        }
      ]
    },
    {
      "cell_type": "markdown",
      "source": [
        "훈련 데이터 전체의 Summary 컬럼의 데이터를 전처리하는 코드"
      ],
      "metadata": {
        "id": "dMXRRBfYvq0a"
      }
    },
    {
      "cell_type": "code",
      "source": [
        "# 전체 Summary 데이터에 대한 전처리 : 5분 이상 시간이 걸릴 수 있습니다.\n",
        "clean_headlines = []\n",
        "\n",
        "for s in data['headlines']:\n",
        "    clean_headlines.append(preprocess_sentence(s, False))\n",
        "\n",
        "print(\"Summary 전처리 후 결과: \", clean_headlines[:5])"
      ],
      "metadata": {
        "colab": {
          "base_uri": "https://localhost:8080/"
        },
        "id": "yzp7fLNq9r1v",
        "outputId": "110ac257-6b56-40f3-a433-694051621180"
      },
      "execution_count": null,
      "outputs": [
        {
          "output_type": "stream",
          "name": "stderr",
          "text": [
            "<ipython-input-77-5eb99432101e>:4: MarkupResemblesLocatorWarning: The input looks more like a filename than markup. You may want to open this file and pass the filehandle into Beautiful Soup.\n",
            "  sentence = BeautifulSoup(sentence, \"lxml\").text # <br />, <a href = ...> 등의 html 태그 제거\n"
          ]
        },
        {
          "output_type": "stream",
          "name": "stdout",
          "text": [
            "Summary 전처리 후 결과:  ['upgrad learner switches to career in ml al with salary hike', 'delhi techie wins free food from swiggy for one year on cred', 'new zealand end rohit sharma led india match winning streak', 'aegon life iterm insurance plan helps customers save tax', 'have known hirani for yrs what if metoo claims are not true sonam']\n"
          ]
        }
      ]
    },
    {
      "cell_type": "markdown",
      "source": [
        "데이터들을 데이터프레임에 재저장. 빈(empty) 값을 가진 샘플들이 있다면, 모두 Null 값을 가진 샘플로 대체"
      ],
      "metadata": {
        "id": "B2BvuAQgvviF"
      }
    },
    {
      "cell_type": "code",
      "source": [
        "data['text'] = clean_text\n",
        "data['headlines'] = clean_headlines\n",
        "\n",
        "# 빈 값을 Null 값으로 변환\n",
        "data.replace('', np.nan, inplace=True)\n",
        "print('=3')"
      ],
      "metadata": {
        "colab": {
          "base_uri": "https://localhost:8080/"
        },
        "id": "1nHo6Xn_9x_f",
        "outputId": "745f162a-a2d8-41cf-a4c2-23c79dc33cc0"
      },
      "execution_count": null,
      "outputs": [
        {
          "output_type": "stream",
          "name": "stdout",
          "text": [
            "=3\n"
          ]
        }
      ]
    },
    {
      "cell_type": "markdown",
      "source": [
        ".isnull().sum()을 사용해서 Null 값이 생겼는지"
      ],
      "metadata": {
        "id": "mdBslzN8v1y3"
      }
    },
    {
      "cell_type": "code",
      "source": [
        "data.isnull().sum()"
      ],
      "metadata": {
        "colab": {
          "base_uri": "https://localhost:8080/"
        },
        "id": "lqap1O8b90SO",
        "outputId": "b309ebcb-0489-4a9a-8a53-b26f55c17092"
      },
      "execution_count": null,
      "outputs": [
        {
          "output_type": "execute_result",
          "data": {
            "text/plain": [
              "headlines    0\n",
              "text         0\n",
              "dtype: int64"
            ]
          },
          "metadata": {},
          "execution_count": 82
        }
      ]
    },
    {
      "cell_type": "markdown",
      "source": [
        "### 샘플의 최대 길이 정하기"
      ],
      "metadata": {
        "id": "Q_Mqkjob92hn"
      }
    },
    {
      "cell_type": "markdown",
      "source": [
        "Text와 Summary의 최소, 최대, 평균 길이를 구하고 또한 길이 분포를 시각화"
      ],
      "metadata": {
        "id": "pxxbi1CNv6NE"
      }
    },
    {
      "cell_type": "code",
      "source": [
        "# 길이 분포 출력\n",
        "import matplotlib.pyplot as plt\n",
        "\n",
        "text_len = [len(s.split()) for s in data['text']]\n",
        "headlines_len = [len(s.split()) for s in data['headlines']]\n",
        "\n",
        "print('텍스트의 최소 길이 : {}'.format(np.min(text_len)))\n",
        "print('텍스트의 최대 길이 : {}'.format(np.max(text_len)))\n",
        "print('텍스트의 평균 길이 : {}'.format(np.mean(text_len)))\n",
        "print('헤드라인의 최소 길이 : {}'.format(np.min(headlines_len)))\n",
        "print('헤드라인의 최대 길이 : {}'.format(np.max(headlines_len)))\n",
        "print('헤드라인의 평균 길이 : {}'.format(np.mean(headlines_len)))\n",
        "\n",
        "plt.subplot(1,2,1)\n",
        "plt.boxplot(text_len)\n",
        "plt.title('Text')\n",
        "plt.subplot(1,2,2)\n",
        "plt.boxplot(headlines_len)\n",
        "plt.title('headlines')\n",
        "plt.tight_layout()\n",
        "plt.show()\n",
        "\n",
        "plt.title('Text')\n",
        "plt.hist(text_len, bins = 40)\n",
        "plt.xlabel('length of samples')\n",
        "plt.ylabel('number of samples')\n",
        "plt.show()\n",
        "\n",
        "plt.title('Headlines')\n",
        "plt.hist(headlines_len, bins = 40)\n",
        "plt.xlabel('length of samples')\n",
        "plt.ylabel('number of samples')\n",
        "plt.show()\n"
      ],
      "metadata": {
        "colab": {
          "base_uri": "https://localhost:8080/",
          "height": 1000
        },
        "id": "3fkGcC4M952s",
        "outputId": "2084512c-f143-42d7-b9f3-3f6a60fb4df9"
      },
      "execution_count": null,
      "outputs": [
        {
          "output_type": "stream",
          "name": "stdout",
          "text": [
            "텍스트의 최소 길이 : 1\n",
            "텍스트의 최대 길이 : 60\n",
            "텍스트의 평균 길이 : 35.09968483123221\n",
            "헤드라인의 최소 길이 : 1\n",
            "헤드라인의 최대 길이 : 16\n",
            "헤드라인의 평균 길이 : 9.299532330215534\n"
          ]
        },
        {
          "output_type": "display_data",
          "data": {
            "text/plain": [
              "<Figure size 640x480 with 2 Axes>"
            ],
            "image/png": "[encoded data removed]"
          },
          "metadata": {}
        },
        {
          "output_type": "display_data",
          "data": {
            "text/plain": [
              "<Figure size 640x480 with 1 Axes>"
            ],
            "image/png": "[encoded data removed]"
          },
          "metadata": {}
        },
        {
          "output_type": "display_data",
          "data": {
            "text/plain": [
              "<Figure size 640x480 with 1 Axes>"
            ],
            "image/png": "[encoded data removed]"
          },
          "metadata": {}
        }
      ]
    },
    {
      "cell_type": "markdown",
      "source": [
        "위의 그래프를 보면, text의 경우 최소 길이가 1, 최대 길이가 60인 것으로 보입니다.\n",
        "그리고 평균 길이는 약 35입니다. 그렇다면, 적절한 최대 길이를 임의로 정해보겠습니다.\n",
        "\n",
        "아래 코드에서는 임의로 text의 최대 길이를 38로 정해보겠습니다.\n",
        "headlines의 경우에는 최대 길이가 16인 것으로 보입니다. 그리고 평균 길이는 약 9입니다.\n",
        "그러므로, 여기서는 headlines의 적절한 최대 길이를 10으로"
      ],
      "metadata": {
        "id": "JMYpD6CFwHon"
      }
    },
    {
      "cell_type": "code",
      "source": [
        "text_max_len = 38\n",
        "headlines_max_len = 10\n",
        "print('=3')"
      ],
      "metadata": {
        "colab": {
          "base_uri": "https://localhost:8080/"
        },
        "id": "Vmx6zOFf9-19",
        "outputId": "b541a57c-e8af-45d7-9841-c9662ea10927"
      },
      "execution_count": null,
      "outputs": [
        {
          "output_type": "stream",
          "name": "stdout",
          "text": [
            "=3\n"
          ]
        }
      ]
    },
    {
      "cell_type": "markdown",
      "source": [
        "훈련 데이터와 샘플의 길이를 입력하면, 데이터의 몇 %가 해당하는지 계산하는 함수"
      ],
      "metadata": {
        "id": "UG7Mpo_6wPnz"
      }
    },
    {
      "cell_type": "code",
      "source": [
        "def below_threshold_len(max_len, nested_list):\n",
        "  cnt = 0\n",
        "  for s in nested_list:\n",
        "    if(len(s.split()) <= max_len):\n",
        "        cnt = cnt + 1\n",
        "  print('전체 샘플 중 길이가 %s 이하인 샘플의 비율: %s'%(max_len, (cnt / len(nested_list))))\n",
        "print('=3')"
      ],
      "metadata": {
        "colab": {
          "base_uri": "https://localhost:8080/"
        },
        "id": "MWg5NSR2-A4B",
        "outputId": "27ee6a55-ec34-4ec1-ee71-1f97a02574bf"
      },
      "execution_count": null,
      "outputs": [
        {
          "output_type": "stream",
          "name": "stdout",
          "text": [
            "=3\n"
          ]
        }
      ]
    },
    {
      "cell_type": "markdown",
      "source": [
        "Text와 Summary에 적용해 우리가 결정한 임의의 길이가 몇%의 샘플까지 포함하는지"
      ],
      "metadata": {
        "id": "-AwkZOIOwUpZ"
      }
    },
    {
      "cell_type": "code",
      "source": [
        "below_threshold_len(text_max_len, data['text'])\n",
        "below_threshold_len(headlines_max_len,  data['headlines'])"
      ],
      "metadata": {
        "colab": {
          "base_uri": "https://localhost:8080/"
        },
        "id": "BBOEbvlQ-C79",
        "outputId": "6cdfc827-179c-4b8f-e035-cba12ac1e64a"
      },
      "execution_count": null,
      "outputs": [
        {
          "output_type": "stream",
          "name": "stdout",
          "text": [
            "전체 샘플 중 길이가 38 이하인 샘플의 비율: 0.8163379422529483\n",
            "전체 샘플 중 길이가 10 이하인 샘플의 비율: 0.8162972753151687\n"
          ]
        }
      ]
    },
    {
      "cell_type": "markdown",
      "source": [
        "각각 38과 10으로 패딩하게 되면 약 18.4%의 샘플의 내용이 망가지게 됨. 정해진 길이에 맞춰 자르지 않고 길이보다 길면 제외하는 방법으로 데이터 정제 진행"
      ],
      "metadata": {
        "id": "acQL1UlpwX2e"
      }
    },
    {
      "cell_type": "code",
      "source": [
        "#Text와 Summary를 담고 있는 data 데이터프레임을 위에서 임의로 정의한 text_max_len과 summary_max_len의 길이보다 큰 샘플을 제외하는 코드를 작성하세요.(힌트 : apply 함수와 lamda식을 사용)\n",
        "data = data[data['text'].apply(lambda x: len(x.split()) <= text_max_len)]\n",
        "data = data[data['headlines'].apply(lambda x: len(x.split()) <= headlines_max_len)]\n",
        "\n",
        "\n",
        "print('전체 샘플수 :', (len(data)))"
      ],
      "metadata": {
        "colab": {
          "base_uri": "https://localhost:8080/"
        },
        "id": "4G-LN1Go-FTn",
        "outputId": "50142605-ef01-45e9-931f-5085f53eafed"
      },
      "execution_count": null,
      "outputs": [
        {
          "output_type": "stream",
          "name": "stdout",
          "text": [
            "전체 샘플수 : 65295\n"
          ]
        }
      ]
    },
    {
      "cell_type": "markdown",
      "source": [
        "### 시작 토큰과 종료 토큰 추가하기\n",
        "seq2seq 훈련을 위해서는 디코더의 입력과 레이블에 시작 토큰과 종료 토큰을 추가할 필요가 있어요. 이번 실습에서는 시작 토큰은 sostoken, 종료 토큰은 eostoken이라 임의로 명명하고 앞, 뒤로 추가할 거예요. 디코더의 입력에 해당하면서 시작 토큰이 맨 앞에 있는 문장의 이름을 decoder_input, 디코더의 출력 또는 레이블에 해당되면서 종료 토큰이 맨 뒤에 붙는 문장의 이름을 decoder_target이라고 이름을 정했어요. 두 개의 문장 모두 Summary 열로부터 만들 거예요"
      ],
      "metadata": {
        "id": "vKt0Yxgn-IO-"
      }
    },
    {
      "cell_type": "code",
      "source": [
        "# 요약 데이터에는 시작 토큰과 종료 토큰을 추가한다.\n",
        "data['decoder_input'] = data['headlines'].apply(lambda x : 'sostoken '+ x)\n",
        "data['decoder_target'] = data['headlines'].apply(lambda x : x + ' eostoken')\n",
        "data.head()"
      ],
      "metadata": {
        "colab": {
          "base_uri": "https://localhost:8080/",
          "height": 293
        },
        "id": "DdtU7JkM-LwX",
        "outputId": "eb6090d4-39a3-4bc8-e161-a72ebdbf7104"
      },
      "execution_count": null,
      "outputs": [
        {
          "output_type": "execute_result",
          "data": {
            "text/plain": [
              "                                            headlines  \\\n",
              "2   new zealand end rohit sharma led india match w...   \n",
              "3   aegon life iterm insurance plan helps customer...   \n",
              "5   rahat fateh ali khan denies getting notice for...   \n",
              "9   cong wins ramgarh bypoll in rajasthan takes to...   \n",
              "10  up cousins fed human excreta for friendship wi...   \n",
              "\n",
              "                                                 text  \\\n",
              "2   new zealand defeated india wickets fourth odi ...   \n",
              "3   aegon life iterm insurance plan customers enjo...   \n",
              "5   pakistani singer rahat fateh ali khan denied r...   \n",
              "9   congress candidate shafia zubair ramgarh assem...   \n",
              "10  two minor cousins uttar pradesh gorakhpur alle...   \n",
              "\n",
              "                                        decoder_input  \\\n",
              "2   sostoken new zealand end rohit sharma led indi...   \n",
              "3   sostoken aegon life iterm insurance plan helps...   \n",
              "5   sostoken rahat fateh ali khan denies getting n...   \n",
              "9   sostoken cong wins ramgarh bypoll in rajasthan...   \n",
              "10  sostoken up cousins fed human excreta for frie...   \n",
              "\n",
              "                                       decoder_target  \n",
              "2   new zealand end rohit sharma led india match w...  \n",
              "3   aegon life iterm insurance plan helps customer...  \n",
              "5   rahat fateh ali khan denies getting notice for...  \n",
              "9   cong wins ramgarh bypoll in rajasthan takes to...  \n",
              "10  up cousins fed human excreta for friendship wi...  "
            ],
            "text/html": [
              "\n",
              "  <div id=\"df-8e8a54fc-b875-44c4-817e-d1ee52d8eb83\" class=\"colab-df-container\">\n",
              "    <div>\n",
              "<style scoped>\n",
              "    .dataframe tbody tr th:only-of-type {\n",
              "        vertical-align: middle;\n",
              "    }\n",
              "\n",
              "    .dataframe tbody tr th {\n",
              "        vertical-align: top;\n",
              "    }\n",
              "\n",
              "    .dataframe thead th {\n",
              "        text-align: right;\n",
              "    }\n",
              "</style>\n",
              "<table border=\"1\" class=\"dataframe\">\n",
              "  <thead>\n",
              "    <tr style=\"text-align: right;\">\n",
              "      <th></th>\n",
              "      <th>headlines</th>\n",
              "      <th>text</th>\n",
              "      <th>decoder_input</th>\n",
              "      <th>decoder_target</th>\n",
              "    </tr>\n",
              "  </thead>\n",
              "  <tbody>\n",
              "    <tr>\n",
              "      <th>2</th>\n",
              "      <td>new zealand end rohit sharma led india match w...</td>\n",
              "      <td>new zealand defeated india wickets fourth odi ...</td>\n",
              "      <td>sostoken new zealand end rohit sharma led indi...</td>\n",
              "      <td>new zealand end rohit sharma led india match w...</td>\n",
              "    </tr>\n",
              "    <tr>\n",
              "      <th>3</th>\n",
              "      <td>aegon life iterm insurance plan helps customer...</td>\n",
              "      <td>aegon life iterm insurance plan customers enjo...</td>\n",
              "      <td>sostoken aegon life iterm insurance plan helps...</td>\n",
              "      <td>aegon life iterm insurance plan helps customer...</td>\n",
              "    </tr>\n",
              "    <tr>\n",
              "      <th>5</th>\n",
              "      <td>rahat fateh ali khan denies getting notice for...</td>\n",
              "      <td>pakistani singer rahat fateh ali khan denied r...</td>\n",
              "      <td>sostoken rahat fateh ali khan denies getting n...</td>\n",
              "      <td>rahat fateh ali khan denies getting notice for...</td>\n",
              "    </tr>\n",
              "    <tr>\n",
              "      <th>9</th>\n",
              "      <td>cong wins ramgarh bypoll in rajasthan takes to...</td>\n",
              "      <td>congress candidate shafia zubair ramgarh assem...</td>\n",
              "      <td>sostoken cong wins ramgarh bypoll in rajasthan...</td>\n",
              "      <td>cong wins ramgarh bypoll in rajasthan takes to...</td>\n",
              "    </tr>\n",
              "    <tr>\n",
              "      <th>10</th>\n",
              "      <td>up cousins fed human excreta for friendship wi...</td>\n",
              "      <td>two minor cousins uttar pradesh gorakhpur alle...</td>\n",
              "      <td>sostoken up cousins fed human excreta for frie...</td>\n",
              "      <td>up cousins fed human excreta for friendship wi...</td>\n",
              "    </tr>\n",
              "  </tbody>\n",
              "</table>\n",
              "</div>\n",
              "    <div class=\"colab-df-buttons\">\n",
              "\n",
              "  <div class=\"colab-df-container\">\n",
              "    <button class=\"colab-df-convert\" onclick=\"convertToInteractive('df-8e8a54fc-b875-44c4-817e-d1ee52d8eb83')\"\n",
              "            title=\"Convert this dataframe to an interactive table.\"\n",
              "            style=\"display:none;\">\n",
              "\n",
              "  <svg xmlns=\"http://www.w3.org/2000/svg\" height=\"24px\" viewBox=\"0 -960 960 960\">\n",
              "    <path d=\"M120-120v-720h720v720H120Zm60-500h600v-160H180v160Zm220 220h160v-160H400v160Zm0 220h160v-160H400v160ZM180-400h160v-160H180v160Zm440 0h160v-160H620v160ZM180-180h160v-160H180v160Zm440 0h160v-160H620v160Z\"/>\n",
              "  </svg>\n",
              "    </button>\n",
              "\n",
              "  <style>\n",
              "    .colab-df-container {\n",
              "      display:flex;\n",
              "      gap: 12px;\n",
              "    }\n",
              "\n",
              "    .colab-df-convert {\n",
              "      background-color: #E8F0FE;\n",
              "      border: none;\n",
              "      border-radius: 50%;\n",
              "      cursor: pointer;\n",
              "      display: none;\n",
              "      fill: #1967D2;\n",
              "      height: 32px;\n",
              "      padding: 0 0 0 0;\n",
              "      width: 32px;\n",
              "    }\n",
              "\n",
              "    .colab-df-convert:hover {\n",
              "      background-color: #E2EBFA;\n",
              "      box-shadow: 0px 1px 2px rgba(60, 64, 67, 0.3), 0px 1px 3px 1px rgba(60, 64, 67, 0.15);\n",
              "      fill: #174EA6;\n",
              "    }\n",
              "\n",
              "    .colab-df-buttons div {\n",
              "      margin-bottom: 4px;\n",
              "    }\n",
              "\n",
              "    [theme=dark] .colab-df-convert {\n",
              "      background-color: #3B4455;\n",
              "      fill: #D2E3FC;\n",
              "    }\n",
              "\n",
              "    [theme=dark] .colab-df-convert:hover {\n",
              "      background-color: #434B5C;\n",
              "      box-shadow: 0px 1px 3px 1px rgba(0, 0, 0, 0.15);\n",
              "      filter: drop-shadow(0px 1px 2px rgba(0, 0, 0, 0.3));\n",
              "      fill: #FFFFFF;\n",
              "    }\n",
              "  </style>\n",
              "\n",
              "    <script>\n",
              "      const buttonEl =\n",
              "        document.querySelector('#df-8e8a54fc-b875-44c4-817e-d1ee52d8eb83 button.colab-df-convert');\n",
              "      buttonEl.style.display =\n",
              "        google.colab.kernel.accessAllowed ? 'block' : 'none';\n",
              "\n",
              "      async function convertToInteractive(key) {\n",
              "        const element = document.querySelector('#df-8e8a54fc-b875-44c4-817e-d1ee52d8eb83');\n",
              "        const dataTable =\n",
              "          await google.colab.kernel.invokeFunction('convertToInteractive',\n",
              "                                                    [key], {});\n",
              "        if (!dataTable) return;\n",
              "\n",
              "        const docLinkHtml = 'Like what you see? Visit the ' +\n",
              "          '<a target=\"_blank\" href=https://colab.research.google.com/notebooks/data_table.ipynb>data table notebook</a>'\n",
              "          + ' to learn more about interactive tables.';\n",
              "        element.innerHTML = '';\n",
              "        dataTable['output_type'] = 'display_data';\n",
              "        await google.colab.output.renderOutput(dataTable, element);\n",
              "        const docLink = document.createElement('div');\n",
              "        docLink.innerHTML = docLinkHtml;\n",
              "        element.appendChild(docLink);\n",
              "      }\n",
              "    </script>\n",
              "  </div>\n",
              "\n",
              "\n",
              "<div id=\"df-7970035a-c478-414c-b940-45b76cd6551c\">\n",
              "  <button class=\"colab-df-quickchart\" onclick=\"quickchart('df-7970035a-c478-414c-b940-45b76cd6551c')\"\n",
              "            title=\"Suggest charts\"\n",
              "            style=\"display:none;\">\n",
              "\n",
              "<svg xmlns=\"http://www.w3.org/2000/svg\" height=\"24px\"viewBox=\"0 0 24 24\"\n",
              "     width=\"24px\">\n",
              "    <g>\n",
              "        <path d=\"M19 3H5c-1.1 0-2 .9-2 2v14c0 1.1.9 2 2 2h14c1.1 0 2-.9 2-2V5c0-1.1-.9-2-2-2zM9 17H7v-7h2v7zm4 0h-2V7h2v10zm4 0h-2v-4h2v4z\"/>\n",
              "    </g>\n",
              "</svg>\n",
              "  </button>\n",
              "\n",
              "<style>\n",
              "  .colab-df-quickchart {\n",
              "      --bg-color: #E8F0FE;\n",
              "      --fill-color: #1967D2;\n",
              "      --hover-bg-color: #E2EBFA;\n",
              "      --hover-fill-color: #174EA6;\n",
              "      --disabled-fill-color: #AAA;\n",
              "      --disabled-bg-color: #DDD;\n",
              "  }\n",
              "\n",
              "  [theme=dark] .colab-df-quickchart {\n",
              "      --bg-color: #3B4455;\n",
              "      --fill-color: #D2E3FC;\n",
              "      --hover-bg-color: #434B5C;\n",
              "      --hover-fill-color: #FFFFFF;\n",
              "      --disabled-bg-color: #3B4455;\n",
              "      --disabled-fill-color: #666;\n",
              "  }\n",
              "\n",
              "  .colab-df-quickchart {\n",
              "    background-color: var(--bg-color);\n",
              "    border: none;\n",
              "    border-radius: 50%;\n",
              "    cursor: pointer;\n",
              "    display: none;\n",
              "    fill: var(--fill-color);\n",
              "    height: 32px;\n",
              "    padding: 0;\n",
              "    width: 32px;\n",
              "  }\n",
              "\n",
              "  .colab-df-quickchart:hover {\n",
              "    background-color: var(--hover-bg-color);\n",
              "    box-shadow: 0 1px 2px rgba(60, 64, 67, 0.3), 0 1px 3px 1px rgba(60, 64, 67, 0.15);\n",
              "    fill: var(--button-hover-fill-color);\n",
              "  }\n",
              "\n",
              "  .colab-df-quickchart-complete:disabled,\n",
              "  .colab-df-quickchart-complete:disabled:hover {\n",
              "    background-color: var(--disabled-bg-color);\n",
              "    fill: var(--disabled-fill-color);\n",
              "    box-shadow: none;\n",
              "  }\n",
              "\n",
              "  .colab-df-spinner {\n",
              "    border: 2px solid var(--fill-color);\n",
              "    border-color: transparent;\n",
              "    border-bottom-color: var(--fill-color);\n",
              "    animation:\n",
              "      spin 1s steps(1) infinite;\n",
              "  }\n",
              "\n",
              "  @keyframes spin {\n",
              "    0% {\n",
              "      border-color: transparent;\n",
              "      border-bottom-color: var(--fill-color);\n",
              "      border-left-color: var(--fill-color);\n",
              "    }\n",
              "    20% {\n",
              "      border-color: transparent;\n",
              "      border-left-color: var(--fill-color);\n",
              "      border-top-color: var(--fill-color);\n",
              "    }\n",
              "    30% {\n",
              "      border-color: transparent;\n",
              "      border-left-color: var(--fill-color);\n",
              "      border-top-color: var(--fill-color);\n",
              "      border-right-color: var(--fill-color);\n",
              "    }\n",
              "    40% {\n",
              "      border-color: transparent;\n",
              "      border-right-color: var(--fill-color);\n",
              "      border-top-color: var(--fill-color);\n",
              "    }\n",
              "    60% {\n",
              "      border-color: transparent;\n",
              "      border-right-color: var(--fill-color);\n",
              "    }\n",
              "    80% {\n",
              "      border-color: transparent;\n",
              "      border-right-color: var(--fill-color);\n",
              "      border-bottom-color: var(--fill-color);\n",
              "    }\n",
              "    90% {\n",
              "      border-color: transparent;\n",
              "      border-bottom-color: var(--fill-color);\n",
              "    }\n",
              "  }\n",
              "</style>\n",
              "\n",
              "  <script>\n",
              "    async function quickchart(key) {\n",
              "      const quickchartButtonEl =\n",
              "        document.querySelector('#' + key + ' button');\n",
              "      quickchartButtonEl.disabled = true;  // To prevent multiple clicks.\n",
              "      quickchartButtonEl.classList.add('colab-df-spinner');\n",
              "      try {\n",
              "        const charts = await google.colab.kernel.invokeFunction(\n",
              "            'suggestCharts', [key], {});\n",
              "      } catch (error) {\n",
              "        console.error('Error during call to suggestCharts:', error);\n",
              "      }\n",
              "      quickchartButtonEl.classList.remove('colab-df-spinner');\n",
              "      quickchartButtonEl.classList.add('colab-df-quickchart-complete');\n",
              "    }\n",
              "    (() => {\n",
              "      let quickchartButtonEl =\n",
              "        document.querySelector('#df-7970035a-c478-414c-b940-45b76cd6551c button');\n",
              "      quickchartButtonEl.style.display =\n",
              "        google.colab.kernel.accessAllowed ? 'block' : 'none';\n",
              "    })();\n",
              "  </script>\n",
              "</div>\n",
              "    </div>\n",
              "  </div>\n"
            ]
          },
          "metadata": {},
          "execution_count": 88
        }
      ]
    },
    {
      "cell_type": "markdown",
      "source": [
        "인코더의 입력, 디코더의 입력과 레이블을 각각 다시 Numpy 타입으로 저장"
      ],
      "metadata": {
        "id": "601iJUA4wiFo"
      }
    },
    {
      "cell_type": "code",
      "source": [
        "encoder_input = np.array(data['text']) # 인코더의 입력\n",
        "decoder_input = np.array(data['decoder_input']) # 디코더의 입력\n",
        "decoder_target = np.array(data['decoder_target']) # 디코더의 레이블\n",
        "print('=3')"
      ],
      "metadata": {
        "colab": {
          "base_uri": "https://localhost:8080/"
        },
        "id": "kfrP28AY-PZG",
        "outputId": "3e7d1040-3995-49b0-da13-29829a951639"
      },
      "execution_count": null,
      "outputs": [
        {
          "output_type": "stream",
          "name": "stdout",
          "text": [
            "=3\n"
          ]
        }
      ]
    },
    {
      "cell_type": "markdown",
      "source": [
        "훈련 데이터와 테스트 데이터를 분리\n",
        "\n",
        "encoder_input과 크기와 형태가 같은 순서가 섞인 정수 시퀀스 생성"
      ],
      "metadata": {
        "id": "ys9F0pYbwlO9"
      }
    },
    {
      "cell_type": "code",
      "source": [
        "indices = np.arange(encoder_input.shape[0])\n",
        "np.random.shuffle(indices)\n",
        "print(indices)"
      ],
      "metadata": {
        "colab": {
          "base_uri": "https://localhost:8080/"
        },
        "id": "iTNv62yh-R-1",
        "outputId": "8e9c0b2f-7651-47db-8136-6326b5dfbb93"
      },
      "execution_count": null,
      "outputs": [
        {
          "output_type": "stream",
          "name": "stdout",
          "text": [
            "[ 4209 32107  6905 ... 30200 60600 35822]\n"
          ]
        }
      ]
    },
    {
      "cell_type": "markdown",
      "source": [
        "정수 시퀀스를 이용해 다시 데이터의 샘플 순서를 정의해 주면 잘 섞인 샘플이"
      ],
      "metadata": {
        "id": "8oc4ZDivwztR"
      }
    },
    {
      "cell_type": "code",
      "source": [
        "encoder_input = encoder_input[indices]\n",
        "decoder_input = decoder_input[indices]\n",
        "decoder_target = decoder_target[indices]\n",
        "print('=3')"
      ],
      "metadata": {
        "colab": {
          "base_uri": "https://localhost:8080/"
        },
        "id": "6aZ4HW6C-U16",
        "outputId": "d1e03a37-b62e-4781-fe4a-ccbd72e0f5a5"
      },
      "execution_count": null,
      "outputs": [
        {
          "output_type": "stream",
          "name": "stdout",
          "text": [
            "=3\n"
          ]
        }
      ]
    },
    {
      "cell_type": "markdown",
      "source": [
        "섞인 데이터를 8:2의 비율로 훈련 데이터와 테스트 데이터로 분리\n",
        "\n",
        "전체 데이터의 크기에서 0.2를 곱해서 테스트 데이터의 크기를 정의"
      ],
      "metadata": {
        "id": "qEjuNtpmw4Zv"
      }
    },
    {
      "cell_type": "code",
      "source": [
        "n_of_val = int(len(encoder_input)*0.2)\n",
        "print('테스트 데이터의 수 :', n_of_val)"
      ],
      "metadata": {
        "colab": {
          "base_uri": "https://localhost:8080/"
        },
        "id": "vT5KKaEc-XiL",
        "outputId": "a404e72f-5695-44f0-f349-5bcc40215a27"
      },
      "execution_count": null,
      "outputs": [
        {
          "output_type": "stream",
          "name": "stdout",
          "text": [
            "테스트 데이터의 수 : 13059\n"
          ]
        }
      ]
    },
    {
      "cell_type": "markdown",
      "source": [
        "정의한 테스트 데이터의 개수를 이용해 전체 데이터를 양분"
      ],
      "metadata": {
        "id": "JI-mS6q-w7dA"
      }
    },
    {
      "cell_type": "code",
      "source": [
        "encoder_input_train = encoder_input[:-n_of_val]\n",
        "decoder_input_train = decoder_input[:-n_of_val]\n",
        "decoder_target_train = decoder_target[:-n_of_val]\n",
        "\n",
        "encoder_input_test = encoder_input[-n_of_val:]\n",
        "decoder_input_test = decoder_input[-n_of_val:]\n",
        "decoder_target_test = decoder_target[-n_of_val:]\n",
        "\n",
        "print('훈련 데이터의 개수 :', len(encoder_input_train))\n",
        "print('훈련 레이블의 개수 :', len(decoder_input_train))\n",
        "print('테스트 데이터의 개수 :', len(encoder_input_test))\n",
        "print('테스트 레이블의 개수 :', len(decoder_input_test))"
      ],
      "metadata": {
        "colab": {
          "base_uri": "https://localhost:8080/"
        },
        "id": "pYtnLJgh-Zen",
        "outputId": "eda51361-7f89-4203-ff1b-7bfae4d76b2e"
      },
      "execution_count": null,
      "outputs": [
        {
          "output_type": "stream",
          "name": "stdout",
          "text": [
            "훈련 데이터의 개수 : 52236\n",
            "훈련 레이블의 개수 : 52236\n",
            "테스트 데이터의 개수 : 13059\n",
            "테스트 레이블의 개수 : 13059\n"
          ]
        }
      ]
    },
    {
      "cell_type": "markdown",
      "source": [
        "### 단어 집합(vocabulary) 만들기 및 정수 인코딩\n",
        "\n",
        "이제 기계가 텍스트를 숫자로 처리할 수 있도록 훈련 데이터와 테스트 데이터의 단어들을 모두 정수로 바꾸어 주어야 해요. 이를 위해서는 각 단어에 고유한 정수를 맵핑하는 작업이 필요해요. 이 과정을 단어 집합(vocabulary) 을 만든다고 표현해요. 훈련 데이터에 대해서 단어 집합을 만들어볼게요. 우선, 원문에 해당되는 encoder_input_train에 대해서 단어 집합을 만들게요.\n",
        "\n",
        "Keras의 토크나이저를 사용하면, 입력된 훈련 데이터로부터 단어 집합을 만들 수 있어요."
      ],
      "metadata": {
        "id": "YJGN8Jsr-bjR"
      }
    },
    {
      "cell_type": "code",
      "source": [
        "src_tokenizer = Tokenizer() # 토크나이저 정의\n",
        "src_tokenizer.fit_on_texts(encoder_input_train) # 입력된 데이터로부터 단어 집합 생성\n",
        "print('=3')"
      ],
      "metadata": {
        "colab": {
          "base_uri": "https://localhost:8080/"
        },
        "id": "ZlozT1WL-kJM",
        "outputId": "153d2157-2d09-48fc-8fca-8cbcfd173089"
      },
      "execution_count": null,
      "outputs": [
        {
          "output_type": "stream",
          "name": "stdout",
          "text": [
            "=3\n"
          ]
        }
      ]
    },
    {
      "cell_type": "markdown",
      "source": [
        "현재 생성된 단어 집합은 src_tokenizer.word_index에 저장\n",
        "\n",
        "만든 단어 집합에 있는 모든 단어를 사용하는 것이 아니라, 빈도수가 낮은 단어들은 훈련 데이터에서 제외하고 진행\n",
        "\n",
        "등장 빈도수가 7회 미만인 단어들이 이 데이터에서 얼만큼의 비중을 차지하는지 확인\n",
        "\n",
        "src_tokenizer.word_counts.items()에는 단어와 각 단어의 등장 빈도수가 저장돼 있는데, 이를 통해서 통계적인 정보를 얻을 수 있어요."
      ],
      "metadata": {
        "id": "MD_co0hH-qtP"
      }
    },
    {
      "cell_type": "code",
      "source": [
        "threshold = 7\n",
        "total_cnt = len(src_tokenizer.word_index) # 단어의 수\n",
        "rare_cnt = 0 # 등장 빈도수가 threshold보다 작은 단어의 개수를 카운트\n",
        "total_freq = 0 # 훈련 데이터의 전체 단어 빈도수 총 합\n",
        "rare_freq = 0 # 등장 빈도수가 threshold보다 작은 단어의 등장 빈도수의 총 합\n",
        "\n",
        "# 단어와 빈도수의 쌍(pair)을 key와 value로 받는다.\n",
        "for key, value in src_tokenizer.word_counts.items():\n",
        "    total_freq = total_freq + value\n",
        "\n",
        "    # 단어의 등장 빈도수가 threshold보다 작으면\n",
        "    if(value < threshold):\n",
        "        rare_cnt = rare_cnt + 1\n",
        "        rare_freq = rare_freq + value\n",
        "\n",
        "print('단어 집합(vocabulary)의 크기 :', total_cnt)\n",
        "print('등장 빈도가 %s번 이하인 희귀 단어의 수: %s'%(threshold - 1, rare_cnt))\n",
        "print('단어 집합에서 희귀 단어를 제외시킬 경우의 단어 집합의 크기 %s'%(total_cnt - rare_cnt))\n",
        "print(\"단어 집합에서 희귀 단어의 비율:\", (rare_cnt / total_cnt)*100)\n",
        "print(\"전체 등장 빈도에서 희귀 단어 등장 빈도 비율:\", (rare_freq / total_freq)*100)"
      ],
      "metadata": {
        "colab": {
          "base_uri": "https://localhost:8080/"
        },
        "id": "Uo8aHIlr-tfK",
        "outputId": "7a98f475-7f82-49d0-81f4-f55d8209123f"
      },
      "execution_count": null,
      "outputs": [
        {
          "output_type": "stream",
          "name": "stdout",
          "text": [
            "단어 집합(vocabulary)의 크기 : 57284\n",
            "등장 빈도가 6번 이하인 희귀 단어의 수: 39357\n",
            "단어 집합에서 희귀 단어를 제외시킬 경우의 단어 집합의 크기 17927\n",
            "단어 집합에서 희귀 단어의 비율: 68.70504853013057\n",
            "전체 등장 빈도에서 희귀 단어 등장 빈도 비율: 4.516186208714569\n"
          ]
        }
      ]
    },
    {
      "cell_type": "markdown",
      "source": [
        "encoder_input_train에는 5만7천여 개의 단어가 있네요. 그 아래의 통계 정보들을 해석해볼까요?\n",
        "\n",
        "등장 빈도가 threshold 값인 7회 미만, 즉 6회 이하인 단어들은 단어 집합에서 약 70%를 차지\n",
        "\n",
        "실제로 훈련 데이터에서 등장 빈도로 차지하는 비중은 상대적으로 적은 수치인 4.52%\n",
        "\n",
        "등장 빈도가 6회 이하인 단어들은 정수 인코딩 과정에서 빼고, 훈련 데이터에서 제거\n",
        "\n",
        "이를 제외한 단어 집합의 크기를 18천여개로 계산\n",
        "\n",
        "이와 비슷한 값으로 어림잡아 단어 집합의 크기를 18,000으로 제한.\n",
        "\n",
        "토크나이저를 정의할 때 num_words의 값을 정해주면, 단어 집합의 크기를 제한할 수 있어요."
      ],
      "metadata": {
        "id": "XeY7sWXV-ygO"
      }
    },
    {
      "cell_type": "code",
      "source": [
        "src_vocab = 18000\n",
        "src_tokenizer = Tokenizer(num_words=src_vocab) # 단어 집합의 크기를 8,000으로 제한\n",
        "src_tokenizer.fit_on_texts(encoder_input_train) # 단어 집합 재생성\n",
        "print('=3')"
      ],
      "metadata": {
        "colab": {
          "base_uri": "https://localhost:8080/"
        },
        "id": "ooQaMifk_A6g",
        "outputId": "a963acd7-d38c-40ad-ff08-da39c0217e6f"
      },
      "execution_count": null,
      "outputs": [
        {
          "output_type": "stream",
          "name": "stdout",
          "text": [
            "=3\n"
          ]
        }
      ]
    },
    {
      "cell_type": "markdown",
      "source": [
        "texts_to_sequences()는 생성된 단어 집합에 기반하여 입력으로 주어진 텍스트 데이터의 단어들을 모두 정수로 변환하는 정수 인코딩을 수행해요. 현재 단어 집합의 크기를 8,000으로 제한했으니까 이제 8,000이 넘는 숫자들은 정수 인코딩 후에는 데이터에 존재하지 않아요."
      ],
      "metadata": {
        "id": "wCv65Kr3_DHK"
      }
    },
    {
      "cell_type": "code",
      "source": [
        "# 텍스트 시퀀스를 정수 시퀀스로 변환\n",
        "encoder_input_train = src_tokenizer.texts_to_sequences(encoder_input_train)\n",
        "encoder_input_test = src_tokenizer.texts_to_sequences(encoder_input_test)\n",
        "\n",
        "# 잘 진행되었는지 샘플 출력\n",
        "print(encoder_input_train[:3])"
      ],
      "metadata": {
        "colab": {
          "base_uri": "https://localhost:8080/"
        },
        "id": "YlnUVfpn_Fy9",
        "outputId": "d4fdd5a4-8a3f-458c-d641-2527e00c4d18"
      },
      "execution_count": null,
      "outputs": [
        {
          "output_type": "stream",
          "name": "stdout",
          "text": [
            "[[35, 183, 64, 107, 3474, 629, 1, 8012, 20, 512, 117, 217, 228, 1024, 9094, 2311, 68, 59, 2293, 61, 77, 327, 519, 358, 342, 764, 20, 9, 90, 103, 123, 912, 6430, 81, 98, 512, 1736], [35, 603, 1743, 4910, 5640, 17, 304, 59, 1301, 282, 1344, 16645, 887, 2063, 1769, 2836, 4211, 194, 44, 35, 2149, 1743, 996, 2714, 795, 1884, 448, 25, 39, 1049, 1511, 2836, 225, 7057, 4211, 7508, 156], [205, 3507, 401, 822, 38, 807, 121, 55, 15, 20, 813, 2585, 1574, 1, 3508, 101, 13, 813, 295, 487, 2549, 3, 8, 6917, 5236, 1778, 348, 2461, 881, 1]]\n"
          ]
        }
      ]
    },
    {
      "cell_type": "markdown",
      "source": [
        "headlines 데이터에 대해서도 동일한 작업을 수행할게요. 케라스의 토크나이저를 사용하여 decoder_input_train을 입력으로 전체 단어 집합과 각 단어에 대한 빈도수를 계산해요."
      ],
      "metadata": {
        "id": "Jw-3EZ7W_Hrs"
      }
    },
    {
      "cell_type": "code",
      "source": [
        "tar_tokenizer = Tokenizer()\n",
        "tar_tokenizer.fit_on_texts(decoder_input_train)\n",
        "print('=3')"
      ],
      "metadata": {
        "colab": {
          "base_uri": "https://localhost:8080/"
        },
        "id": "TsPZxusZ_JnN",
        "outputId": "70d8af4c-ad32-44d9-f90e-c7e72b2e2ee2"
      },
      "execution_count": null,
      "outputs": [
        {
          "output_type": "stream",
          "name": "stdout",
          "text": [
            "=3\n"
          ]
        }
      ]
    },
    {
      "cell_type": "markdown",
      "source": [
        "단어 집합이 생성되는 동시에 각 단어에 고유한 정수가 부여되었어요. 이는 tar_tokenizer.word_index에 저장되어 있어요. tar_tokenizer.word_counts.items()에는 단어와 각 단어의 등장 빈도수가 저장돼 있는데, 이를 통해서 통계적인 정보를 얻어서, 등장 빈도수가 6회 미만인 단어들이 이 데이터에서 얼만큼의 비중을 차지하는지 확인해볼게요."
      ],
      "metadata": {
        "id": "m9wNpPg2_LaD"
      }
    },
    {
      "cell_type": "code",
      "source": [
        "threshold = 6\n",
        "total_cnt = len(tar_tokenizer.word_index) # 단어의 수\n",
        "rare_cnt = 0 # 등장 빈도수가 threshold보다 작은 단어의 개수를 카운트\n",
        "total_freq = 0 # 훈련 데이터의 전체 단어 빈도수 총 합\n",
        "rare_freq = 0 # 등장 빈도수가 threshold보다 작은 단어의 등장 빈도수의 총 합\n",
        "\n",
        "# 단어와 빈도수의 쌍(pair)을 key와 value로 받는다.\n",
        "for key, value in tar_tokenizer.word_counts.items():\n",
        "    total_freq = total_freq + value\n",
        "\n",
        "    # 단어의 등장 빈도수가 threshold보다 작으면\n",
        "    if(value < threshold):\n",
        "        rare_cnt = rare_cnt + 1\n",
        "        rare_freq = rare_freq + value\n",
        "\n",
        "print('단어 집합(vocabulary)의 크기 :', total_cnt)\n",
        "print('등장 빈도가 %s번 이하인 희귀 단어의 수: %s'%(threshold - 1, rare_cnt))\n",
        "print('단어 집합에서 희귀 단어를 제외시킬 경우의 단어 집합의 크기 %s'%(total_cnt - rare_cnt))\n",
        "print(\"단어 집합에서 희귀 단어의 비율:\", (rare_cnt / total_cnt)*100)\n",
        "print(\"전체 등장 빈도에서 희귀 단어 등장 빈도 비율:\", (rare_freq / total_freq)*100)"
      ],
      "metadata": {
        "colab": {
          "base_uri": "https://localhost:8080/"
        },
        "id": "ijVZadf1_OUb",
        "outputId": "82d9f508-7745-4453-8c89-56fe1f9912a5"
      },
      "execution_count": null,
      "outputs": [
        {
          "output_type": "stream",
          "name": "stdout",
          "text": [
            "단어 집합(vocabulary)의 크기 : 25835\n",
            "등장 빈도가 5번 이하인 희귀 단어의 수: 17452\n",
            "단어 집합에서 희귀 단어를 제외시킬 경우의 단어 집합의 크기 8383\n",
            "단어 집합에서 희귀 단어의 비율: 67.55177085349332\n",
            "전체 등장 빈도에서 희귀 단어 등장 빈도 비율: 6.516463053573098\n"
          ]
        }
      ]
    },
    {
      "cell_type": "markdown",
      "source": [
        "등장 빈도가 5회 이하인 단어들은 단어 집합에서 약 67%를 차지하고 있네요. 하지만 실제로 훈련 데이터에서 등장 빈도로 차지하는 비중은 상대적으로 매우 적은 수치인 6.51%밖에 되지 않아요. 아까 했던 것과 동일하게 이 단어들은 모두 제거할게요. 어림잡아 8,000을 단어 집합의 크기로 제한할게요."
      ],
      "metadata": {
        "id": "kwhjZs0u_QZC"
      }
    },
    {
      "cell_type": "code",
      "source": [
        "tar_vocab = 8000\n",
        "tar_tokenizer = Tokenizer(num_words=tar_vocab)\n",
        "tar_tokenizer.fit_on_texts(decoder_input_train)\n",
        "tar_tokenizer.fit_on_texts(decoder_target_train)\n",
        "\n",
        "# 텍스트 시퀀스를 정수 시퀀스로 변환\n",
        "decoder_input_train = tar_tokenizer.texts_to_sequences(decoder_input_train)\n",
        "decoder_target_train = tar_tokenizer.texts_to_sequences(decoder_target_train)\n",
        "decoder_input_test = tar_tokenizer.texts_to_sequences(decoder_input_test)\n",
        "decoder_target_test = tar_tokenizer.texts_to_sequences(decoder_target_test)\n",
        "\n",
        "# 잘 변환되었는지 확인\n",
        "print('input')\n",
        "print('input ',decoder_input_train[:5])\n",
        "print('target')\n",
        "print('decoder ',decoder_target_train[:5])"
      ],
      "metadata": {
        "colab": {
          "base_uri": "https://localhost:8080/"
        },
        "id": "1QjvfkHN_S-w",
        "outputId": "19541216-7bb7-46eb-fafc-0562a604b498"
      },
      "execution_count": null,
      "outputs": [
        {
          "output_type": "stream",
          "name": "stdout",
          "text": [
            "input\n",
            "input  [[1, 91, 5978, 4, 992, 319, 79, 167, 66, 40, 1349], [1, 2521, 105, 66, 2835, 3359, 3242, 128, 41, 12, 158], [1, 636, 15, 396, 4682, 49, 592, 31, 412, 60], [1, 3360, 1042, 1634, 109, 1578, 3475, 264, 949], [1, 709, 1097, 2522, 1005, 2935, 45, 7, 723, 54]]\n",
            "target\n",
            "decoder  [[91, 5978, 4, 992, 319, 79, 167, 66, 40, 1349, 2], [2521, 105, 66, 2835, 3359, 3242, 128, 41, 12, 158, 2], [636, 15, 396, 4682, 49, 592, 31, 412, 60, 2], [3360, 1042, 1634, 109, 1578, 3475, 264, 949, 2], [709, 1097, 2522, 1005, 2935, 45, 7, 723, 54, 2]]\n"
          ]
        }
      ]
    },
    {
      "cell_type": "markdown",
      "source": [
        "훈련 데이터와 테스트 데이터에 대해서 요약문의 길이가 1인 경우의 인덱스를 각각 drop_train과 drop_test에 라는 변수에 저장해볼게요. 이 샘플들은 모두 삭제"
      ],
      "metadata": {
        "id": "bsJlhx55_VI0"
      }
    },
    {
      "cell_type": "code",
      "source": [
        "drop_train = [index for index, sentence in enumerate(decoder_input_train) if len(sentence) == 1]\n",
        "drop_test = [index for index, sentence in enumerate(decoder_input_test) if len(sentence) == 1]\n",
        "\n",
        "print('삭제할 훈련 데이터의 개수 :', len(drop_train))\n",
        "print('삭제할 테스트 데이터의 개수 :', len(drop_test))\n",
        "\n",
        "encoder_input_train = [sentence for index, sentence in enumerate(encoder_input_train) if index not in drop_train]\n",
        "decoder_input_train = [sentence for index, sentence in enumerate(decoder_input_train) if index not in drop_train]\n",
        "decoder_target_train = [sentence for index, sentence in enumerate(decoder_target_train) if index not in drop_train]\n",
        "\n",
        "encoder_input_test = [sentence for index, sentence in enumerate(encoder_input_test) if index not in drop_test]\n",
        "decoder_input_test = [sentence for index, sentence in enumerate(decoder_input_test) if index not in drop_test]\n",
        "decoder_target_test = [sentence for index, sentence in enumerate(decoder_target_test) if index not in drop_test]\n",
        "\n",
        "print('훈련 데이터의 개수 :', len(encoder_input_train))\n",
        "print('훈련 레이블의 개수 :', len(decoder_input_train))\n",
        "print('테스트 데이터의 개수 :', len(encoder_input_test))\n",
        "print('테스트 레이블의 개수 :', len(decoder_input_test))"
      ],
      "metadata": {
        "colab": {
          "base_uri": "https://localhost:8080/"
        },
        "id": "1P-WGBQ9_XYh",
        "outputId": "e589fdb1-189b-4ac7-c532-b00cc2e85f00"
      },
      "execution_count": null,
      "outputs": [
        {
          "output_type": "stream",
          "name": "stdout",
          "text": [
            "삭제할 훈련 데이터의 개수 : 0\n",
            "삭제할 테스트 데이터의 개수 : 1\n",
            "훈련 데이터의 개수 : 52236\n",
            "훈련 레이블의 개수 : 52236\n",
            "테스트 데이터의 개수 : 13058\n",
            "테스트 레이블의 개수 : 13058\n"
          ]
        }
      ]
    },
    {
      "cell_type": "markdown",
      "source": [
        "요약문의 길이가 1인 경우가 없어 제가 할 샘플이 없음"
      ],
      "metadata": {
        "id": "RI8WIjEb_aBA"
      }
    },
    {
      "cell_type": "markdown",
      "source": [
        "###패딩하기\n",
        "텍스트 시퀀스를 정수 시퀀스로 변환했다면, 이제 서로 다른 길이의 샘플들을 병렬 처리하기 위해 같은 길이로 맞춰주는 패딩 작업을 해주어야 해야 해요. 아까 정해두었던 최대 길이로 패딩 해 줄 거에요. 최대 길이보다 짧은 데이터들은 뒤의 공간에 숫자 0을 넣어 최대 길이로 길이를 맞춰줄게요."
      ],
      "metadata": {
        "id": "5QmbCG2X_cqB"
      }
    },
    {
      "cell_type": "code",
      "source": [
        "encoder_input_train = pad_sequences(encoder_input_train, maxlen=text_max_len, padding='post')\n",
        "encoder_input_test = pad_sequences(encoder_input_test, maxlen=text_max_len, padding='post')\n",
        "decoder_input_train = pad_sequences(decoder_input_train, maxlen=headlines_max_len, padding='post')\n",
        "decoder_target_train = pad_sequences(decoder_target_train, maxlen=headlines_max_len, padding='post')\n",
        "decoder_input_test = pad_sequences(decoder_input_test, maxlen=headlines_max_len, padding='post')\n",
        "decoder_target_test = pad_sequences(decoder_target_test, maxlen=headlines_max_len, padding='post')\n",
        "print('=3')"
      ],
      "metadata": {
        "colab": {
          "base_uri": "https://localhost:8080/"
        },
        "id": "i76xkZ7g_cXQ",
        "outputId": "191f849f-93fc-49a0-c584-f6a6629a7623"
      },
      "execution_count": null,
      "outputs": [
        {
          "output_type": "stream",
          "name": "stdout",
          "text": [
            "=3\n"
          ]
        }
      ]
    },
    {
      "cell_type": "markdown",
      "source": [
        "## 모델 설계하기"
      ],
      "metadata": {
        "id": "v9xoxuUE_h3g"
      }
    },
    {
      "cell_type": "code",
      "source": [
        "from tensorflow.keras.layers import Input, LSTM, Embedding, Dense, Concatenate, TimeDistributed\n",
        "from tensorflow.keras.models import Model\n",
        "from tensorflow.keras.callbacks import EarlyStopping, ModelCheckpoint\n",
        "\n",
        "\n",
        "# 인코더 설계 시작\n",
        "embedding_dim = 128\n",
        "hidden_size = 256\n",
        "\n",
        "# 인코더\n",
        "encoder_inputs = Input(shape=(text_max_len,))\n",
        "\n",
        "# 인코더의 임베딩 층\n",
        "enc_emb = Embedding(src_vocab, embedding_dim)(encoder_inputs)\n",
        "\n",
        "# 인코더의 LSTM 1\n",
        "# encoder_lstm1 = LSTM(hidden_size, return_sequences=True, return_state=True ,dropout = 0.4, recurrent_dropout = 0.4)\n",
        "encoder_lstm1 = LSTM(hidden_size, return_sequences=True, return_state=True ,dropout = 0.4)\n",
        "encoder_output1, state_h1, state_c1 = encoder_lstm1(enc_emb)\n",
        "\n",
        "# 인코더의 LSTM 2\n",
        "encoder_lstm2 = LSTM(hidden_size, return_sequences=True, return_state=True ,dropout = 0.4)\n",
        "encoder_output2, state_h2, state_c2 = encoder_lstm2(encoder_output1)\n",
        "\n",
        "# 인코더의 LSTM 3\n",
        "encoder_lstm3 = LSTM(hidden_size, return_state=True, return_sequences=True ,dropout = 0.4)\n",
        "encoder_outputs, state_h, state_c= encoder_lstm3(encoder_output2)\n"
      ],
      "metadata": {
        "id": "C48iH5Su_l7A"
      },
      "execution_count": null,
      "outputs": []
    },
    {
      "cell_type": "code",
      "source": [
        "# 디코더 설계\n",
        "decoder_inputs = Input(shape=(None,))\n",
        "\n",
        "# 디코더의 임베딩 층\n",
        "dec_emb_layer = Embedding(tar_vocab, embedding_dim)\n",
        "dec_emb = dec_emb_layer(decoder_inputs)\n",
        "\n",
        "# 디코더의 LSTM\n",
        "# decoder_lstm = LSTM(hidden_size, return_sequences=True, return_state=True, dropout=0.4, recurrent_dropout=0.2)\n",
        "decoder_lstm = LSTM(hidden_size, return_sequences=True, return_state=True, dropout=0.4)\n",
        "decoder_outputs, _, _ = decoder_lstm(dec_emb, initial_state=[state_h, state_c])"
      ],
      "metadata": {
        "id": "aYdHXuaz_oqH"
      },
      "execution_count": null,
      "outputs": []
    },
    {
      "cell_type": "code",
      "source": [
        "# 디코더의 출력층\n",
        "decoder_softmax_layer = Dense(tar_vocab, activation='softmax')\n",
        "decoder_softmax_outputs = decoder_softmax_layer(decoder_outputs)\n",
        "\n",
        "# 모델 정의\n",
        "model = Model([encoder_inputs, decoder_inputs], decoder_softmax_outputs)\n",
        "model.summary()"
      ],
      "metadata": {
        "colab": {
          "base_uri": "https://localhost:8080/"
        },
        "id": "pVvI6ym0_qf1",
        "outputId": "e3351c6c-4baa-402b-d886-6fd1904efd1f"
      },
      "execution_count": null,
      "outputs": [
        {
          "output_type": "stream",
          "name": "stdout",
          "text": [
            "Model: \"model_2\"\n",
            "__________________________________________________________________________________________________\n",
            " Layer (type)                Output Shape                 Param #   Connected to                  \n",
            "==================================================================================================\n",
            " input_5 (InputLayer)        [(None, 38)]                 0         []                            \n",
            "                                                                                                  \n",
            " embedding_4 (Embedding)     (None, 38, 128)              2304000   ['input_5[0][0]']             \n",
            "                                                                                                  \n",
            " lstm_8 (LSTM)               [(None, 38, 256),            394240    ['embedding_4[0][0]']         \n",
            "                              (None, 256),                                                        \n",
            "                              (None, 256)]                                                        \n",
            "                                                                                                  \n",
            " input_6 (InputLayer)        [(None, None)]               0         []                            \n",
            "                                                                                                  \n",
            " lstm_9 (LSTM)               [(None, 38, 256),            525312    ['lstm_8[0][0]']              \n",
            "                              (None, 256),                                                        \n",
            "                              (None, 256)]                                                        \n",
            "                                                                                                  \n",
            " embedding_5 (Embedding)     (None, None, 128)            1024000   ['input_6[0][0]']             \n",
            "                                                                                                  \n",
            " lstm_10 (LSTM)              [(None, 38, 256),            525312    ['lstm_9[0][0]']              \n",
            "                              (None, 256),                                                        \n",
            "                              (None, 256)]                                                        \n",
            "                                                                                                  \n",
            " lstm_11 (LSTM)              [(None, None, 256),          394240    ['embedding_5[0][0]',         \n",
            "                              (None, 256),                           'lstm_10[0][1]',             \n",
            "                              (None, 256)]                           'lstm_10[0][2]']             \n",
            "                                                                                                  \n",
            " dense_2 (Dense)             (None, None, 8000)           2056000   ['lstm_11[0][0]']             \n",
            "                                                                                                  \n",
            "==================================================================================================\n",
            "Total params: 7223104 (27.55 MB)\n",
            "Trainable params: 7223104 (27.55 MB)\n",
            "Non-trainable params: 0 (0.00 Byte)\n",
            "__________________________________________________________________________________________________\n"
          ]
        }
      ]
    },
    {
      "cell_type": "markdown",
      "source": [
        "### 어텐션 메커니즘"
      ],
      "metadata": {
        "id": "XOO3VXa3_tMQ"
      }
    },
    {
      "cell_type": "code",
      "source": [
        "from tensorflow.keras.layers import AdditiveAttention\n",
        "\n",
        "# 어텐션 층(어텐션 함수)\n",
        "attn_layer = AdditiveAttention(name='attention_layer')\n",
        "\n",
        "# 인코더와 디코더의 모든 time step의 hidden state를 어텐션 층에 전달하고 결과를 리턴\n",
        "attn_out = attn_layer([decoder_outputs, encoder_outputs])\n",
        "\n",
        "\n",
        "# 어텐션의 결과와 디코더의 hidden state들을 연결\n",
        "decoder_concat_input = Concatenate(axis=-1, name='concat_layer')([decoder_outputs, attn_out])\n",
        "\n",
        "# 디코더의 출력층\n",
        "decoder_softmax_layer = Dense(tar_vocab, activation='softmax')\n",
        "decoder_softmax_outputs = decoder_softmax_layer(decoder_concat_input)\n",
        "\n",
        "# 모델 정의\n",
        "model = Model([encoder_inputs, decoder_inputs], decoder_softmax_outputs)\n",
        "model.summary()"
      ],
      "metadata": {
        "colab": {
          "base_uri": "https://localhost:8080/"
        },
        "id": "bg-tep37AhmY",
        "outputId": "dc025028-b0f0-4cd6-dd09-89155a937625"
      },
      "execution_count": null,
      "outputs": [
        {
          "output_type": "stream",
          "name": "stdout",
          "text": [
            "Model: \"model_3\"\n",
            "__________________________________________________________________________________________________\n",
            " Layer (type)                Output Shape                 Param #   Connected to                  \n",
            "==================================================================================================\n",
            " input_5 (InputLayer)        [(None, 38)]                 0         []                            \n",
            "                                                                                                  \n",
            " embedding_4 (Embedding)     (None, 38, 128)              2304000   ['input_5[0][0]']             \n",
            "                                                                                                  \n",
            " lstm_8 (LSTM)               [(None, 38, 256),            394240    ['embedding_4[0][0]']         \n",
            "                              (None, 256),                                                        \n",
            "                              (None, 256)]                                                        \n",
            "                                                                                                  \n",
            " input_6 (InputLayer)        [(None, None)]               0         []                            \n",
            "                                                                                                  \n",
            " lstm_9 (LSTM)               [(None, 38, 256),            525312    ['lstm_8[0][0]']              \n",
            "                              (None, 256),                                                        \n",
            "                              (None, 256)]                                                        \n",
            "                                                                                                  \n",
            " embedding_5 (Embedding)     (None, None, 128)            1024000   ['input_6[0][0]']             \n",
            "                                                                                                  \n",
            " lstm_10 (LSTM)              [(None, 38, 256),            525312    ['lstm_9[0][0]']              \n",
            "                              (None, 256),                                                        \n",
            "                              (None, 256)]                                                        \n",
            "                                                                                                  \n",
            " lstm_11 (LSTM)              [(None, None, 256),          394240    ['embedding_5[0][0]',         \n",
            "                              (None, 256),                           'lstm_10[0][1]',             \n",
            "                              (None, 256)]                           'lstm_10[0][2]']             \n",
            "                                                                                                  \n",
            " attention_layer (AdditiveA  (None, None, 256)            256       ['lstm_11[0][0]',             \n",
            " ttention)                                                           'lstm_10[0][0]']             \n",
            "                                                                                                  \n",
            " concat_layer (Concatenate)  (None, None, 512)            0         ['lstm_11[0][0]',             \n",
            "                                                                     'attention_layer[0][0]']     \n",
            "                                                                                                  \n",
            " dense_3 (Dense)             (None, None, 8000)           4104000   ['concat_layer[0][0]']        \n",
            "                                                                                                  \n",
            "==================================================================================================\n",
            "Total params: 9271360 (35.37 MB)\n",
            "Trainable params: 9271360 (35.37 MB)\n",
            "Non-trainable params: 0 (0.00 Byte)\n",
            "__________________________________________________________________________________________________\n"
          ]
        }
      ]
    },
    {
      "cell_type": "markdown",
      "source": [
        "## 모델 훈련하기"
      ],
      "metadata": {
        "id": "nhH8WQQGAj29"
      }
    },
    {
      "cell_type": "code",
      "source": [
        "model.compile(optimizer='rmsprop', loss='sparse_categorical_crossentropy')\n",
        "es = EarlyStopping(monitor='val_loss', patience=2, verbose=1)\n",
        "history = model.fit(x=[encoder_input_train, decoder_input_train], y=decoder_target_train, \\\n",
        "          validation_data=([encoder_input_test, decoder_input_test], decoder_target_test), \\\n",
        "          batch_size=256, callbacks=[es], epochs=30)"
      ],
      "metadata": {
        "colab": {
          "base_uri": "https://localhost:8080/"
        },
        "id": "8utN28e0AnOY",
        "outputId": "391d6528-acd2-4a68-e5d2-31fe08f781d0"
      },
      "execution_count": null,
      "outputs": [
        {
          "output_type": "stream",
          "name": "stdout",
          "text": [
            "Epoch 1/30\n",
            "205/205 [==============================] - 27s 75ms/step - loss: 6.5097 - val_loss: 6.1846\n",
            "Epoch 2/30\n",
            "205/205 [==============================] - 10s 49ms/step - loss: 6.1328 - val_loss: 6.0563\n",
            "Epoch 3/30\n",
            "205/205 [==============================] - 9s 42ms/step - loss: 6.0758 - val_loss: 6.0542\n",
            "Epoch 4/30\n",
            "205/205 [==============================] - 8s 40ms/step - loss: 6.0030 - val_loss: 5.9438\n",
            "Epoch 5/30\n",
            "205/205 [==============================] - 8s 41ms/step - loss: 5.9375 - val_loss: 5.8918\n",
            "Epoch 6/30\n",
            "205/205 [==============================] - 8s 40ms/step - loss: 5.8740 - val_loss: 5.8137\n",
            "Epoch 7/30\n",
            "205/205 [==============================] - 8s 39ms/step - loss: 5.7648 - val_loss: 5.7175\n",
            "Epoch 8/30\n",
            "205/205 [==============================] - 8s 39ms/step - loss: 5.6667 - val_loss: 5.8040\n",
            "Epoch 9/30\n",
            "205/205 [==============================] - 8s 40ms/step - loss: 5.5888 - val_loss: 5.5718\n",
            "Epoch 10/30\n",
            "205/205 [==============================] - 8s 39ms/step - loss: 5.4965 - val_loss: 5.4883\n",
            "Epoch 11/30\n",
            "205/205 [==============================] - 8s 38ms/step - loss: 5.4000 - val_loss: 5.4369\n",
            "Epoch 12/30\n",
            "205/205 [==============================] - 8s 38ms/step - loss: 5.3161 - val_loss: 5.3593\n",
            "Epoch 13/30\n",
            "205/205 [==============================] - 8s 37ms/step - loss: 5.2360 - val_loss: 5.3409\n",
            "Epoch 14/30\n",
            "205/205 [==============================] - 8s 37ms/step - loss: 5.1553 - val_loss: 5.3203\n",
            "Epoch 15/30\n",
            "205/205 [==============================] - 8s 37ms/step - loss: 5.0786 - val_loss: 5.1855\n",
            "Epoch 16/30\n",
            "205/205 [==============================] - 8s 37ms/step - loss: 5.0071 - val_loss: 5.1583\n",
            "Epoch 17/30\n",
            "205/205 [==============================] - 7s 37ms/step - loss: 4.9398 - val_loss: 5.1115\n",
            "Epoch 18/30\n",
            "205/205 [==============================] - 8s 37ms/step - loss: 4.8673 - val_loss: 5.0564\n",
            "Epoch 19/30\n",
            "205/205 [==============================] - 7s 36ms/step - loss: 4.7952 - val_loss: 5.0291\n",
            "Epoch 20/30\n",
            "205/205 [==============================] - 7s 36ms/step - loss: 4.7272 - val_loss: 4.9790\n",
            "Epoch 21/30\n",
            "205/205 [==============================] - 8s 37ms/step - loss: 4.6607 - val_loss: 4.9437\n",
            "Epoch 22/30\n",
            "205/205 [==============================] - 8s 37ms/step - loss: 4.5951 - val_loss: 4.9501\n",
            "Epoch 23/30\n",
            "205/205 [==============================] - 8s 37ms/step - loss: 4.5319 - val_loss: 4.8379\n",
            "Epoch 24/30\n",
            "205/205 [==============================] - 7s 36ms/step - loss: 4.4682 - val_loss: 4.8095\n",
            "Epoch 25/30\n",
            "205/205 [==============================] - 7s 36ms/step - loss: 4.4079 - val_loss: 4.7555\n",
            "Epoch 26/30\n",
            "205/205 [==============================] - 7s 36ms/step - loss: 4.3481 - val_loss: 4.7418\n",
            "Epoch 27/30\n",
            "205/205 [==============================] - 8s 37ms/step - loss: 4.2910 - val_loss: 4.7222\n",
            "Epoch 28/30\n",
            "205/205 [==============================] - 7s 36ms/step - loss: 4.2367 - val_loss: 4.7070\n",
            "Epoch 29/30\n",
            "205/205 [==============================] - 8s 37ms/step - loss: 4.1835 - val_loss: 4.6693\n",
            "Epoch 30/30\n",
            "205/205 [==============================] - 8s 37ms/step - loss: 4.1319 - val_loss: 4.6299\n"
          ]
        }
      ]
    },
    {
      "cell_type": "code",
      "source": [
        "plt.plot(history.history['loss'], label='train')\n",
        "plt.plot(history.history['val_loss'], label='test')\n",
        "plt.legend()\n",
        "plt.show()"
      ],
      "metadata": {
        "colab": {
          "base_uri": "https://localhost:8080/",
          "height": 430
        },
        "id": "_4KPGKkoApkp",
        "outputId": "9a8e5851-fe27-4333-e16d-dadaa463059a"
      },
      "execution_count": null,
      "outputs": [
        {
          "output_type": "display_data",
          "data": {
            "text/plain": [
              "<Figure size 640x480 with 1 Axes>"
            ],
            "image/png": "[encoded data removed]"
          },
          "metadata": {}
        }
      ]
    },
    {
      "cell_type": "markdown",
      "source": [
        "## 인퍼런스 모델 구현하기"
      ],
      "metadata": {
        "id": "ReD7OOLuArL_"
      }
    },
    {
      "cell_type": "markdown",
      "source": [
        "테스트 단계에서는 정수 인덱스 행렬로 존재하던 텍스트 데이터를 실제 데이터로 복원해야 하므로, 필요한 3개의 사전을 아래와 같이 미리 준비해 둡니다."
      ],
      "metadata": {
        "id": "OOQXPoQTxfBs"
      }
    },
    {
      "cell_type": "code",
      "source": [
        "src_index_to_word = src_tokenizer.index_word # 원문 단어 집합에서 정수 -> 단어를 얻음\n",
        "tar_word_to_index = tar_tokenizer.word_index # 요약 단어 집합에서 단어 -> 정수를 얻음\n",
        "tar_index_to_word = tar_tokenizer.index_word # 요약 단어 집합에서 정수 -> 단어를 얻음\n",
        "\n",
        "print('=3')"
      ],
      "metadata": {
        "colab": {
          "base_uri": "https://localhost:8080/"
        },
        "id": "krsftePmAuIt",
        "outputId": "ed852388-10c2-41bb-aacf-4df3ebb6abc2"
      },
      "execution_count": null,
      "outputs": [
        {
          "output_type": "stream",
          "name": "stdout",
          "text": [
            "=3\n"
          ]
        }
      ]
    },
    {
      "cell_type": "markdown",
      "source": [
        "seq2seq는 훈련할 때와 실제 동작할 때(인퍼런스 단계)의 방식이 다르므로 그에 맞게 모델 설계를 별개로 진행해야 한다는 것, 알고 계시나요?\n",
        "\n",
        "훈련 단계에서는 디코더의 입력부에 정답이 되는 문장 전체를 한꺼번에 넣고 디코더의 출력과 한 번에 비교할 수 있으므로, 인코더와 디코더를 엮은 통짜 모델 하나만 준비했습니다.\n",
        "\n",
        "그러나 정답 문장이 없는 인퍼런스 단계에서는 만들어야 할 문장의 길이만큼 디코더가 반복 구조로 동작해야 하기 때문에 부득이하게 인퍼런스를 위한 모델 설계를 별도로 해주어야 합니다. 이때는 인코더 모델과 디코더 모델을 분리해서 설계합니다."
      ],
      "metadata": {
        "id": "F49fVaQ4xhx6"
      }
    },
    {
      "cell_type": "code",
      "source": [
        "# 인코더 설계\n",
        "encoder_model = Model(inputs=encoder_inputs, outputs=[encoder_outputs, state_h, state_c])\n",
        "\n",
        "# 이전 시점의 상태들을 저장하는 텐서\n",
        "decoder_state_input_h = Input(shape=(hidden_size,))\n",
        "decoder_state_input_c = Input(shape=(hidden_size,))\n",
        "\n",
        "dec_emb2 = dec_emb_layer(decoder_inputs)\n",
        "\n",
        "# 문장의 다음 단어를 예측하기 위해서 초기 상태(initial_state)를 이전 시점의 상태로 사용. 이는 뒤의 함수 decode_sequence()에 구현\n",
        "# 훈련 과정에서와 달리 LSTM의 리턴하는 은닉 상태와 셀 상태인 state_h와 state_c를 버리지 않음.\n",
        "decoder_outputs2, state_h2, state_c2 = decoder_lstm(dec_emb2, initial_state=[decoder_state_input_h, decoder_state_input_c])\n",
        "\n",
        "print('=3')"
      ],
      "metadata": {
        "colab": {
          "base_uri": "https://localhost:8080/"
        },
        "id": "CKaG62JHAwMP",
        "outputId": "01aaa3ce-60b5-4a5b-8647-40787217ccd1"
      },
      "execution_count": null,
      "outputs": [
        {
          "output_type": "stream",
          "name": "stdout",
          "text": [
            "=3\n"
          ]
        }
      ]
    },
    {
      "cell_type": "markdown",
      "source": [
        "어텐션 메커니즘을 사용하는 출력층을 설계해 주세요."
      ],
      "metadata": {
        "id": "2voYtLQPxlC_"
      }
    },
    {
      "cell_type": "code",
      "source": [
        "# 어텐션 함수\n",
        "decoder_hidden_state_input = Input(shape=(text_max_len, hidden_size))\n",
        "attn_out_inf = attn_layer([decoder_outputs2, decoder_hidden_state_input])\n",
        "decoder_inf_concat = Concatenate(axis=-1, name='concat')([decoder_outputs2, attn_out_inf])\n",
        "\n",
        "# 디코더의 출력층\n",
        "decoder_outputs2 = decoder_softmax_layer(decoder_inf_concat)\n",
        "\n",
        "# 최종 디코더 모델\n",
        "decoder_model = Model(\n",
        "    [decoder_inputs] + [decoder_hidden_state_input,decoder_state_input_h, decoder_state_input_c],\n",
        "    [decoder_outputs2] + [state_h2, state_c2])\n",
        "\n",
        "print('=3')"
      ],
      "metadata": {
        "colab": {
          "base_uri": "https://localhost:8080/"
        },
        "id": "Q48zQ31DAyKB",
        "outputId": "ded7d484-7cad-44d0-f2d7-c484cbe3f00c"
      },
      "execution_count": null,
      "outputs": [
        {
          "output_type": "stream",
          "name": "stdout",
          "text": [
            "=3\n"
          ]
        }
      ]
    },
    {
      "cell_type": "code",
      "source": [
        "def decode_sequence(input_seq):\n",
        "    # 입력으로부터 인코더의 상태를 얻음\n",
        "    e_out, e_h, e_c = encoder_model.predict(input_seq)\n",
        "\n",
        "     # <SOS>에 해당하는 토큰 생성\n",
        "    target_seq = np.zeros((1,1))\n",
        "    target_seq[0, 0] = tar_word_to_index['sostoken']\n",
        "\n",
        "    stop_condition = False\n",
        "    decoded_sentence = ''\n",
        "    while not stop_condition: # stop_condition이 True가 될 때까지 루프 반복\n",
        "\n",
        "        output_tokens, h, c = decoder_model.predict([target_seq] + [e_out, e_h, e_c])\n",
        "        sampled_token_index = np.argmax(output_tokens[0, -1, :])\n",
        "        sampled_token = tar_index_to_word[sampled_token_index]\n",
        "\n",
        "        if (sampled_token!='eostoken'):\n",
        "            decoded_sentence += ' '+sampled_token\n",
        "\n",
        "        #  <eos>에 도달하거나 최대 길이를 넘으면 중단.\n",
        "        if (sampled_token == 'eostoken'  or len(decoded_sentence.split()) >= (headlines_max_len-1)):\n",
        "            stop_condition = True\n",
        "\n",
        "        # 길이가 1인 타겟 시퀀스를 업데이트\n",
        "        target_seq = np.zeros((1,1))\n",
        "        target_seq[0, 0] = sampled_token_index\n",
        "\n",
        "        # 상태를 업데이트 합니다.\n",
        "        e_h, e_c = h, c\n",
        "\n",
        "    return decoded_sentence\n",
        "print('=3')"
      ],
      "metadata": {
        "colab": {
          "base_uri": "https://localhost:8080/"
        },
        "id": "ocFlQH0DA0-D",
        "outputId": "bb6104a2-deac-4efb-91e9-cd9428bb9432"
      },
      "execution_count": null,
      "outputs": [
        {
          "output_type": "stream",
          "name": "stdout",
          "text": [
            "=3\n"
          ]
        }
      ]
    },
    {
      "cell_type": "markdown",
      "source": [
        "## 모델 테스트하기"
      ],
      "metadata": {
        "id": "NkfKLpxlA274"
      }
    },
    {
      "cell_type": "code",
      "source": [
        "# 원문의 정수 시퀀스를 텍스트 시퀀스로 변환\n",
        "# seq2text 함수처럼 요약문의 정수 시퀀스를 텍스트로 변환하는 seq2summary 함수 코드를 작성하세요.\n",
        "# (힌트 : 요약문에는 sostoken과 eostoken을 고려해야 함)\n",
        "\n",
        "def seq2text(input_seq):\n",
        "    temp=''\n",
        "    for i in input_seq:\n",
        "        if (i!=0):\n",
        "            temp = temp + src_index_to_word[i]+' '\n",
        "    return temp\n",
        "\n",
        "# 요약문의 정수 시퀀스를 텍스트 시퀀스로 변환\n",
        "def seq2headlines(input_seq):\n",
        "    temp=''\n",
        "    for i in input_seq:\n",
        "        if ((i!=0 and i!=tar_word_to_index['sostoken']) and i!=tar_word_to_index['eostoken']):\n",
        "            temp = temp + tar_index_to_word[i] + ' '\n",
        "    return temp\n",
        "\n",
        "print('=3')"
      ],
      "metadata": {
        "colab": {
          "base_uri": "https://localhost:8080/"
        },
        "id": "XRUCADvUA6Dn",
        "outputId": "2d819dbe-90e6-4925-c054-4141189f149a"
      },
      "execution_count": null,
      "outputs": [
        {
          "output_type": "stream",
          "name": "stdout",
          "text": [
            "=3\n"
          ]
        }
      ]
    },
    {
      "cell_type": "code",
      "source": [
        "for i in range(50, 100):\n",
        "    print(\"원문 :\", seq2text(encoder_input_test[i]))\n",
        "    print(\"실제 요약 :\", seq2headlines(decoder_input_test[i]))\n",
        "    print(\"예측 요약 :\", decode_sequence(encoder_input_test[i].reshape(1, text_max_len)))\n",
        "    print(\"\\n\")\n"
      ],
      "metadata": {
        "colab": {
          "base_uri": "https://localhost:8080/"
        },
        "id": "c70GctMzA8HV",
        "outputId": "fbcec2ae-7848-45bb-da3a-0ddd2126cb79"
      },
      "execution_count": null,
      "outputs": [
        {
          "output_type": "stream",
          "name": "stdout",
          "text": [
            "원문 : tesla ceo elon musk admitted automaker made mistake designing model car musk explained tesla tried model suv platform model sedan like trying something make sense tesla upcoming model built completely new platform added \n",
            "실제 요약 : tesla made mistake while model admits musk \n",
            "1/1 [==============================] - 1s 946ms/step\n",
            "1/1 [==============================] - 0s 380ms/step\n",
            "1/1 [==============================] - 0s 20ms/step\n",
            "1/1 [==============================] - 0s 21ms/step\n",
            "1/1 [==============================] - 0s 20ms/step\n",
            "1/1 [==============================] - 0s 22ms/step\n",
            "1/1 [==============================] - 0s 21ms/step\n",
            "1/1 [==============================] - 0s 22ms/step\n",
            "1/1 [==============================] - 0s 22ms/step\n",
            "1/1 [==============================] - 0s 22ms/step\n",
            "예측 요약 :  elon musk elon musk elon musk elon musk\n",
            "\n",
            "\n",
            "원문 : man died daughter allegedly pushed third floor house bid save lover uttar pradesh noida scuffle broke father daughter lover caught compromising position man wife took hospital succumbed injuries \n",
            "실제 요약 : girl pushes father off third floor to save lover \n",
            "1/1 [==============================] - 0s 23ms/step\n",
            "1/1 [==============================] - 0s 23ms/step\n",
            "1/1 [==============================] - 0s 21ms/step\n",
            "1/1 [==============================] - 0s 20ms/step\n",
            "1/1 [==============================] - 0s 21ms/step\n",
            "1/1 [==============================] - 0s 20ms/step\n",
            "1/1 [==============================] - 0s 21ms/step\n",
            "1/1 [==============================] - 0s 21ms/step\n",
            "1/1 [==============================] - 0s 22ms/step\n",
            "예측 요약 :  woman kills wife for daughter in rajasthan\n",
            "\n",
            "\n",
            "원문 : west bengal board secondary education received around applications residents assam reportedly excluded complete nrc draft issuing duplicate admit cards secondary examination conducted far issued dispatched admit cards applicants actually hailed tripura later migrated assam said \n",
            "실제 요약 : from assam apply for admit card to \n",
            "1/1 [==============================] - 0s 21ms/step\n",
            "1/1 [==============================] - 0s 21ms/step\n",
            "1/1 [==============================] - 0s 21ms/step\n",
            "1/1 [==============================] - 0s 22ms/step\n",
            "1/1 [==============================] - 0s 22ms/step\n",
            "1/1 [==============================] - 0s 21ms/step\n",
            "1/1 [==============================] - 0s 21ms/step\n",
            "1/1 [==============================] - 0s 23ms/step\n",
            "1/1 [==============================] - 0s 21ms/step\n",
            "예측 요약 :  delhi govt to get action for delhi\n",
            "\n",
            "\n",
            "원문 : brazil diego souza needed seconds kick open scoring australia international friendly sides tuesday australia kicked match one misplaced pass opposition player opposition player put ball path souza scored past australian goalkeeper \n",
            "실제 요약 : australia goal just seconds after kick off \n",
            "1/1 [==============================] - 0s 21ms/step\n",
            "1/1 [==============================] - 0s 20ms/step\n",
            "1/1 [==============================] - 0s 21ms/step\n",
            "1/1 [==============================] - 0s 21ms/step\n",
            "1/1 [==============================] - 0s 21ms/step\n",
            "1/1 [==============================] - 0s 23ms/step\n",
            "1/1 [==============================] - 0s 23ms/step\n",
            "1/1 [==============================] - 0s 21ms/step\n",
            "예측 요약 :  messi scores in the world cup\n",
            "\n",
            "\n",
            "원문 : actress priyanka chopra speaking relationships revealed dated someone america added nothing went otherwise people would know priyanka said dated co stars american television series quantico married \n",
            "실제 요약 : have someone in america priyanka chopra \n",
            "1/1 [==============================] - 0s 20ms/step\n",
            "1/1 [==============================] - 0s 20ms/step\n",
            "1/1 [==============================] - 0s 21ms/step\n",
            "1/1 [==============================] - 0s 21ms/step\n",
            "1/1 [==============================] - 0s 21ms/step\n",
            "1/1 [==============================] - 0s 22ms/step\n",
            "1/1 [==============================] - 0s 23ms/step\n",
            "1/1 [==============================] - 0s 20ms/step\n",
            "1/1 [==============================] - 0s 21ms/step\n",
            "예측 요약 :  we is the priyanka on priyanka priyanka\n",
            "\n",
            "\n",
            "원문 : born january benjamin franklin one founding fathers us inventor scientist author politician franklin conducted famous key experiment thunderstorm struck lightning electric charge stored via key enabling demonstrate lightning electricity \n",
            "실제 요약 : us founder proved lightning is electricity by flying \n",
            "1/1 [==============================] - 0s 20ms/step\n",
            "1/1 [==============================] - 0s 22ms/step\n",
            "1/1 [==============================] - 0s 21ms/step\n",
            "1/1 [==============================] - 0s 22ms/step\n",
            "1/1 [==============================] - 0s 22ms/step\n",
            "1/1 [==============================] - 0s 21ms/step\n",
            "예측 요약 :  the the the the\n",
            "\n",
            "\n",
            "원문 : us president donald trump said received many calls leaders nato countries thanking helping bring together summit brussels last week truly great summit nato strong rich trump added also slammed media covering summit \n",
            "실제 요약 : nato leaders me for bringing them together trump \n",
            "1/1 [==============================] - 0s 21ms/step\n",
            "1/1 [==============================] - 0s 22ms/step\n",
            "1/1 [==============================] - 0s 20ms/step\n",
            "1/1 [==============================] - 0s 20ms/step\n",
            "1/1 [==============================] - 0s 20ms/step\n",
            "1/1 [==============================] - 0s 22ms/step\n",
            "1/1 [==============================] - 0s 22ms/step\n",
            "1/1 [==============================] - 0s 23ms/step\n",
            "예측 요약 :  trump calls us president for us\n",
            "\n",
            "\n",
            "원문 : two russian men refused pay loans worth lakh local bank claiming soviet citizens russian denying constitutional status russia two men said would illegitimate requirements russian court soviet union dissolved december russia took successor state \n",
            "실제 요약 : russian men refuse to pay loans claiming citizenship \n",
            "1/1 [==============================] - 0s 19ms/step\n",
            "1/1 [==============================] - 0s 21ms/step\n",
            "1/1 [==============================] - 0s 22ms/step\n",
            "1/1 [==============================] - 0s 21ms/step\n",
            "1/1 [==============================] - 0s 22ms/step\n",
            "1/1 [==============================] - 0s 21ms/step\n",
            "1/1 [==============================] - 0s 24ms/step\n",
            "1/1 [==============================] - 0s 23ms/step\n",
            "예측 요약 :  us to pay crore in us\n",
            "\n",
            "\n",
            "원문 : claiming mughal emperor demolished ram temple powerful haryana health minister anil vij tweeted lord ram devotees construct ram temple ayodhya become powerful added ram became powerful demolished mosque half work done day rest done become powerful \n",
            "실제 요약 : ram will construct temple when they become powerful \n",
            "1/1 [==============================] - 0s 21ms/step\n",
            "1/1 [==============================] - 0s 21ms/step\n",
            "1/1 [==============================] - 0s 22ms/step\n",
            "1/1 [==============================] - 0s 21ms/step\n",
            "1/1 [==============================] - 0s 21ms/step\n",
            "1/1 [==============================] - 0s 20ms/step\n",
            "1/1 [==============================] - 0s 22ms/step\n",
            "1/1 [==============================] - 0s 23ms/step\n",
            "1/1 [==============================] - 0s 22ms/step\n",
            "1/1 [==============================] - 0s 21ms/step\n",
            "예측 요약 :  triple talaq minister to be ram ram talaq\n",
            "\n",
            "\n",
            "원문 : bharat financial inclusion entered agreement private lender bank evaluate merger two companies bharat financial branches employs people deal reportedly value lakh customers loan book around crore billion \n",
            "실제 요약 : bank bharat financial enter into merger talks \n",
            "1/1 [==============================] - 0s 21ms/step\n",
            "1/1 [==============================] - 0s 22ms/step\n",
            "1/1 [==============================] - 0s 23ms/step\n",
            "1/1 [==============================] - 0s 21ms/step\n",
            "1/1 [==============================] - 0s 21ms/step\n",
            "1/1 [==============================] - 0s 21ms/step\n",
            "1/1 [==============================] - 0s 22ms/step\n",
            "예측 요약 :  bank of india in india\n",
            "\n",
            "\n",
            "원문 : filmmaker farah khan whose brother sajid khan accused sexual harassment said thing fears quick quick punishments given trial twitter added fear anybody talking girl getting scared talking like \n",
            "실제 요약 : fear given through trial by twitter farah \n",
            "1/1 [==============================] - 0s 21ms/step\n",
            "1/1 [==============================] - 0s 22ms/step\n",
            "1/1 [==============================] - 0s 22ms/step\n",
            "1/1 [==============================] - 0s 22ms/step\n",
            "1/1 [==============================] - 0s 22ms/step\n",
            "1/1 [==============================] - 0s 21ms/step\n",
            "1/1 [==============================] - 0s 22ms/step\n",
            "1/1 [==============================] - 0s 22ms/step\n",
            "1/1 [==============================] - 0s 20ms/step\n",
            "1/1 [==============================] - 0s 21ms/step\n",
            "예측 요약 :  we is not know the harassment on kangana\n",
            "\n",
            "\n",
            "원문 : th named samuel wrote oregon governor kate brown apologising taking pen class trip building oregon us hope people oregon forgive samuel wrote attaching note meanwhile brown accepted apology sending new pen gift \n",
            "실제 요약 : th apologises to governor for stealing \n",
            "1/1 [==============================] - 0s 20ms/step\n",
            "1/1 [==============================] - 0s 23ms/step\n",
            "1/1 [==============================] - 0s 21ms/step\n",
            "1/1 [==============================] - 0s 22ms/step\n",
            "1/1 [==============================] - 0s 23ms/step\n",
            "1/1 [==============================] - 0s 22ms/step\n",
            "1/1 [==============================] - 0s 22ms/step\n",
            "1/1 [==============================] - 0s 23ms/step\n",
            "1/1 [==============================] - 0s 22ms/step\n",
            "예측 요약 :  player to be down in the africa\n",
            "\n",
            "\n",
            "원문 : raj shah top indian origin white house spokesman left us president donald trump administration head arm lobbying firm shah served white house principal deputy press secretary part trump administration since january year old first indian american hold position \n",
            "실제 요약 : top indian origin white house quits trump administration \n",
            "1/1 [==============================] - 0s 19ms/step\n",
            "1/1 [==============================] - 0s 20ms/step\n",
            "1/1 [==============================] - 0s 21ms/step\n",
            "1/1 [==============================] - 0s 22ms/step\n",
            "1/1 [==============================] - 0s 23ms/step\n",
            "1/1 [==============================] - 0s 21ms/step\n",
            "1/1 [==============================] - 0s 21ms/step\n",
            "1/1 [==============================] - 0s 21ms/step\n",
            "예측 요약 :  pakistan house to be in afghanistan\n",
            "\n",
            "\n",
            "원문 : us president donald trump thursday signed executive order religious designed ease ban political activity churches tax exempt institutions allow people faith targeted anymore trump said order also gives regulatory relief religious employers object obamacare mandate healthcare \n",
            "실제 요약 : trump signs executive order on religious freedom \n",
            "1/1 [==============================] - 0s 20ms/step\n",
            "1/1 [==============================] - 0s 21ms/step\n",
            "1/1 [==============================] - 0s 23ms/step\n",
            "1/1 [==============================] - 0s 21ms/step\n",
            "1/1 [==============================] - 0s 22ms/step\n",
            "1/1 [==============================] - 0s 22ms/step\n",
            "1/1 [==============================] - 0s 21ms/step\n",
            "1/1 [==============================] - 0s 21ms/step\n",
            "1/1 [==============================] - 0s 21ms/step\n",
            "예측 요약 :  trump to allow to end for india\n",
            "\n",
            "\n",
            "원문 : cctv footage chandigarh stalking case shows haryana bjp chief son vikas barala buying alcohol chasing varnika kundu car footage shows barala friend ashish kumar co accused buying alcohol shop city accused sent day custody joining probe wednesday \n",
            "실제 요약 : cctv footage shows buying alcohol before stalking \n",
            "1/1 [==============================] - 0s 19ms/step\n",
            "1/1 [==============================] - 0s 21ms/step\n",
            "1/1 [==============================] - 0s 22ms/step\n",
            "1/1 [==============================] - 0s 24ms/step\n",
            "1/1 [==============================] - 0s 22ms/step\n",
            "1/1 [==============================] - 0s 21ms/step\n",
            "1/1 [==============================] - 0s 22ms/step\n",
            "1/1 [==============================] - 0s 22ms/step\n",
            "1/1 [==============================] - 0s 24ms/step\n",
            "예측 요약 :  bjp leader booked for sexual harassment in\n",
            "\n",
            "\n",
            "원문 : ex india captain sourav ganguly event revealed vvs laxman tried stop taking shirt india natwest series victory lord adding laxman pulling shirt moment ganguly said harbhajan asked take shirt told \n",
            "실제 요약 : vvs stopped me from removing shirt in final ganguly \n",
            "1/1 [==============================] - 0s 24ms/step\n",
            "1/1 [==============================] - 0s 23ms/step\n",
            "1/1 [==============================] - 0s 22ms/step\n",
            "1/1 [==============================] - 0s 22ms/step\n",
            "1/1 [==============================] - 0s 21ms/step\n",
            "1/1 [==============================] - 0s 21ms/step\n",
            "1/1 [==============================] - 0s 22ms/step\n",
            "1/1 [==============================] - 0s 21ms/step\n",
            "1/1 [==============================] - 0s 23ms/step\n",
            "1/1 [==============================] - 0s 23ms/step\n",
            "예측 요약 :  was not been out of my death hardik\n",
            "\n",
            "\n",
            "원문 : got evicted bigg boss entering top five said house real war outside fortunate opportunity experience fun like small kid aims win feels little disappointed added eviction \n",
            "실제 요약 : to have had this opportunity on bigg boss \n",
            "1/1 [==============================] - 0s 22ms/step\n",
            "1/1 [==============================] - 0s 21ms/step\n",
            "1/1 [==============================] - 0s 20ms/step\n",
            "1/1 [==============================] - 0s 21ms/step\n",
            "1/1 [==============================] - 0s 21ms/step\n",
            "1/1 [==============================] - 0s 22ms/step\n",
            "1/1 [==============================] - 0s 21ms/step\n",
            "1/1 [==============================] - 0s 21ms/step\n",
            "1/1 [==============================] - 0s 22ms/step\n",
            "1/1 [==============================] - 0s 23ms/step\n",
            "예측 요약 :  was to be to be to be on\n",
            "\n",
            "\n",
            "원문 : producer prernaa arora arrested alleged involvement fraud crore per reports comes film distributor bhagnani reportedly filed complaint arora production house failing credit distributor film fanney khan prernaa arrested economic offences wing mumbai police reports added \n",
            "실제 요약 : producer arora arrested for fraud of cr reports \n",
            "1/1 [==============================] - 0s 22ms/step\n",
            "1/1 [==============================] - 0s 21ms/step\n",
            "1/1 [==============================] - 0s 21ms/step\n",
            "1/1 [==============================] - 0s 23ms/step\n",
            "1/1 [==============================] - 0s 20ms/step\n",
            "1/1 [==============================] - 0s 20ms/step\n",
            "1/1 [==============================] - 0s 21ms/step\n",
            "1/1 [==============================] - 0s 21ms/step\n",
            "예측 요약 :  fir against crore for crore in\n",
            "\n",
            "\n",
            "원문 : jindal group chairperson jindal richest indian woman forbes billionaires list fortune billion list featured time high women billionaires eight indian women jindal followed list biotech entrepreneur kiran shaw smita godrej \n",
            "실제 요약 : richest indian woman with billion wealth \n",
            "1/1 [==============================] - 0s 21ms/step\n",
            "1/1 [==============================] - 0s 20ms/step\n",
            "1/1 [==============================] - 0s 20ms/step\n",
            "1/1 [==============================] - 0s 20ms/step\n",
            "1/1 [==============================] - 0s 21ms/step\n",
            "1/1 [==============================] - 0s 22ms/step\n",
            "1/1 [==============================] - 0s 22ms/step\n",
            "1/1 [==============================] - 0s 21ms/step\n",
            "1/1 [==============================] - 0s 20ms/step\n",
            "예측 요약 :  india to be in the world cup\n",
            "\n",
            "\n",
            "원문 : salesman winner best foreign language film oscars released india friday psychological exploration morality wrote mid day catch news called gripping portrait marriage falling apart toi wrote iranian drama full rated \n",
            "실제 요약 : oscars best foreign film the releases in india \n",
            "1/1 [==============================] - 0s 20ms/step\n",
            "1/1 [==============================] - 0s 21ms/step\n",
            "1/1 [==============================] - 0s 20ms/step\n",
            "1/1 [==============================] - 0s 21ms/step\n",
            "1/1 [==============================] - 0s 21ms/step\n",
            "1/1 [==============================] - 0s 20ms/step\n",
            "1/1 [==============================] - 0s 21ms/step\n",
            "1/1 [==============================] - 0s 22ms/step\n",
            "1/1 [==============================] - 0s 22ms/step\n",
            "예측 요약 :  was not the the the world cup\n",
            "\n",
            "\n",
            "원문 : around gst officials mumbai working office electricity ceiling deputy commissioner cabin collapsed working six feet away conference room ceiling collapsed one part building electricity officials also reportedly work computers open overhead \n",
            "실제 요약 : mumbai gst officials working under no power \n",
            "1/1 [==============================] - 0s 19ms/step\n",
            "1/1 [==============================] - 0s 20ms/step\n",
            "1/1 [==============================] - 0s 21ms/step\n",
            "1/1 [==============================] - 0s 20ms/step\n",
            "1/1 [==============================] - 0s 20ms/step\n",
            "1/1 [==============================] - 0s 23ms/step\n",
            "1/1 [==============================] - 0s 22ms/step\n",
            "1/1 [==============================] - 0s 22ms/step\n",
            "예측 요약 :  railways to be to be victims\n",
            "\n",
            "\n",
            "원문 : south delhi municipal corporation install vacant spaces leading delhi airport part initiative improve city drive also see inclusion benches five selected project pilot phase begin next week \n",
            "실제 요약 : delhi civic body to install under \n",
            "1/1 [==============================] - 0s 22ms/step\n",
            "1/1 [==============================] - 0s 20ms/step\n",
            "1/1 [==============================] - 0s 21ms/step\n",
            "1/1 [==============================] - 0s 20ms/step\n",
            "1/1 [==============================] - 0s 20ms/step\n",
            "1/1 [==============================] - 0s 22ms/step\n",
            "1/1 [==============================] - 0s 22ms/step\n",
            "1/1 [==============================] - 0s 21ms/step\n",
            "1/1 [==============================] - 0s 20ms/step\n",
            "1/1 [==============================] - 0s 21ms/step\n",
            "예측 요약 :  delhi metro to get its to be to\n",
            "\n",
            "\n",
            "원문 : srh became first team qualify ipl playoffs registering highest successful chase dd thursday srh helped captain kane williamson shikhar dhawan registered highest partnership wicket srh ipl dd rishabh pant highest score losing cause ipl \n",
            "실제 요약 : srh first team to qualify for after record chase \n",
            "1/1 [==============================] - 0s 19ms/step\n",
            "1/1 [==============================] - 0s 20ms/step\n",
            "1/1 [==============================] - 0s 22ms/step\n",
            "1/1 [==============================] - 0s 23ms/step\n",
            "1/1 [==============================] - 0s 24ms/step\n",
            "1/1 [==============================] - 0s 22ms/step\n",
            "1/1 [==============================] - 0s 20ms/step\n",
            "1/1 [==============================] - 0s 21ms/step\n",
            "1/1 [==============================] - 0s 22ms/step\n",
            "예측 요약 :  india to play in ipl in ipl\n",
            "\n",
            "\n",
            "원문 : indian spinner ravichandran ashwin reportedly declined play county cricket feature june one test afghanistan ashwin received offer worcestershire continue talks club committing play afghanistan maiden test team india captain virat kohli miss test owing county stint surrey \n",
            "실제 요약 : ashwin rejected county offer to play test vs afghanistan \n",
            "1/1 [==============================] - 0s 23ms/step\n",
            "1/1 [==============================] - 0s 22ms/step\n",
            "1/1 [==============================] - 0s 21ms/step\n",
            "1/1 [==============================] - 0s 21ms/step\n",
            "1/1 [==============================] - 0s 22ms/step\n",
            "1/1 [==============================] - 0s 21ms/step\n",
            "1/1 [==============================] - 0s 20ms/step\n",
            "1/1 [==============================] - 0s 21ms/step\n",
            "1/1 [==============================] - 0s 20ms/step\n",
            "1/1 [==============================] - 0s 20ms/step\n",
            "예측 요약 :  ashwin hits the most test in the cricket\n",
            "\n",
            "\n",
            "원문 : nagaland cm neiphiu rio thanked actor sushant singh rajput personally coming nagaland donating crore cm relief fund helping victims flood state earlier sushant also contributed crore flood relief kerala twelve people reportedly died families affected nagaland \n",
            "실제 요약 : after cr to kerala sushant donates cr for nagaland floods \n",
            "1/1 [==============================] - 0s 22ms/step\n",
            "1/1 [==============================] - 0s 24ms/step\n",
            "1/1 [==============================] - 0s 22ms/step\n",
            "1/1 [==============================] - 0s 21ms/step\n",
            "1/1 [==============================] - 0s 23ms/step\n",
            "1/1 [==============================] - 0s 22ms/step\n",
            "1/1 [==============================] - 0s 22ms/step\n",
            "1/1 [==============================] - 0s 21ms/step\n",
            "1/1 [==============================] - 0s 21ms/step\n",
            "1/1 [==============================] - 0s 21ms/step\n",
            "예측 요약 :  bjp leader to be crore in kerala floods\n",
            "\n",
            "\n",
            "원문 : kerala government friday cancelled plan inaugurate kochi metro project may stating would prefer wait convenient date pm narendra modi comes bjp criticised move claiming date clashing modi upcoming europe trip deliberately chosen prevent inaugurating project \n",
            "실제 요약 : kerala postpones kochi metro inauguration to wait for pm \n",
            "1/1 [==============================] - 0s 19ms/step\n",
            "1/1 [==============================] - 0s 20ms/step\n",
            "1/1 [==============================] - 0s 20ms/step\n",
            "1/1 [==============================] - 0s 24ms/step\n",
            "1/1 [==============================] - 0s 23ms/step\n",
            "1/1 [==============================] - 0s 22ms/step\n",
            "1/1 [==============================] - 0s 22ms/step\n",
            "1/1 [==============================] - 0s 22ms/step\n",
            "1/1 [==============================] - 0s 20ms/step\n",
            "1/1 [==============================] - 0s 23ms/step\n",
            "예측 요약 :  maharashtra govt to be to farmers to farmers\n",
            "\n",
            "\n",
            "원문 : russia north korea military commission met first time north korean capital pyongyang russia embassy north korea said facebook page thursday commission discussed implementation agreement preventing dangerous military activities signed two nations embassy added \n",
            "실제 요약 : russia north korea military commission meets for st time \n",
            "1/1 [==============================] - 0s 19ms/step\n",
            "1/1 [==============================] - 0s 23ms/step\n",
            "1/1 [==============================] - 0s 22ms/step\n",
            "1/1 [==============================] - 0s 21ms/step\n",
            "1/1 [==============================] - 0s 20ms/step\n",
            "1/1 [==============================] - 0s 20ms/step\n",
            "1/1 [==============================] - 0s 20ms/step\n",
            "1/1 [==============================] - 0s 21ms/step\n",
            "1/1 [==============================] - 0s 20ms/step\n",
            "예측 요약 :  korea to end korea to north korea\n",
            "\n",
            "\n",
            "원문 : rally gujarat congress vice president rahul gandhi wednesday said party would waive loans farmers state within ten days elected adding pm modi waived crore loan said hundreds people would employed companies gujarat helped \n",
            "실제 요약 : will waive guj farmer loans within days if elected rahul \n",
            "1/1 [==============================] - 0s 20ms/step\n",
            "1/1 [==============================] - 0s 21ms/step\n",
            "1/1 [==============================] - 0s 21ms/step\n",
            "1/1 [==============================] - 0s 21ms/step\n",
            "1/1 [==============================] - 0s 20ms/step\n",
            "1/1 [==============================] - 0s 22ms/step\n",
            "1/1 [==============================] - 0s 20ms/step\n",
            "1/1 [==============================] - 0s 21ms/step\n",
            "예측 요약 :  bjp is not the pm modi\n",
            "\n",
            "\n",
            "원문 : egyptian artist mohammed seeks set guinness world record creating largest handwritten quran recently created metre long quran stated self funded project past three years decorated displayed wooden box end \n",
            "실제 요약 : egyptian artist seeks to set world record with quran \n",
            "1/1 [==============================] - 0s 21ms/step\n",
            "1/1 [==============================] - 0s 21ms/step\n",
            "1/1 [==============================] - 0s 20ms/step\n",
            "1/1 [==============================] - 0s 21ms/step\n",
            "1/1 [==============================] - 0s 20ms/step\n",
            "1/1 [==============================] - 0s 20ms/step\n",
            "1/1 [==============================] - 0s 20ms/step\n",
            "1/1 [==============================] - 0s 21ms/step\n",
            "1/1 [==============================] - 0s 20ms/step\n",
            "예측 요약 :  world most expensive world record world record\n",
            "\n",
            "\n",
            "원문 : woman arrested allegedly bit least three flight attendants flight brazil new york forty year old eventually strapped onto seat help flight attendants passengers appeared court wednesday released bond \n",
            "실제 요약 : drunk woman who bit flight arrested \n",
            "1/1 [==============================] - 0s 20ms/step\n",
            "1/1 [==============================] - 0s 20ms/step\n",
            "1/1 [==============================] - 0s 24ms/step\n",
            "1/1 [==============================] - 0s 21ms/step\n",
            "1/1 [==============================] - 0s 21ms/step\n",
            "1/1 [==============================] - 0s 21ms/step\n",
            "1/1 [==============================] - 0s 22ms/step\n",
            "1/1 [==============================] - 0s 21ms/step\n",
            "1/1 [==============================] - 0s 20ms/step\n",
            "1/1 [==============================] - 0s 23ms/step\n",
            "예측 요약 :  woman arrested for flight to save woman in flight\n",
            "\n",
            "\n",
            "원문 : new delhi mumbai rajdhani express claimed faster route reached destination minutes late maiden trip pilot tried make lost time factors like fog effort western railway official said however train running late one half hours initially \n",
            "실제 요약 : faster rajdhani express reaches mins late on st trip \n",
            "1/1 [==============================] - 0s 21ms/step\n",
            "1/1 [==============================] - 0s 21ms/step\n",
            "1/1 [==============================] - 0s 21ms/step\n",
            "1/1 [==============================] - 0s 19ms/step\n",
            "1/1 [==============================] - 0s 21ms/step\n",
            "1/1 [==============================] - 0s 22ms/step\n",
            "1/1 [==============================] - 0s 22ms/step\n",
            "1/1 [==============================] - 0s 21ms/step\n",
            "1/1 [==============================] - 0s 23ms/step\n",
            "1/1 [==============================] - 0s 22ms/step\n",
            "예측 요약 :  mumbai airport to get its first time in\n",
            "\n",
            "\n",
            "원문 : supreme court thursday issued notice centre states questioning non implementation provisions sexual harassment women workplace act states union territories act mandates setting complaint committees district level appointment officers deal cases sexual exploitation women work \n",
            "실제 요약 : why sexual harassment act not implemented by states sc \n",
            "1/1 [==============================] - 0s 22ms/step\n",
            "1/1 [==============================] - 0s 25ms/step\n",
            "1/1 [==============================] - 0s 21ms/step\n",
            "1/1 [==============================] - 0s 21ms/step\n",
            "1/1 [==============================] - 0s 21ms/step\n",
            "1/1 [==============================] - 0s 23ms/step\n",
            "1/1 [==============================] - 0s 22ms/step\n",
            "1/1 [==============================] - 0s 21ms/step\n",
            "1/1 [==============================] - 0s 22ms/step\n",
            "1/1 [==============================] - 0s 21ms/step\n",
            "예측 요약 :  sc orders plea of sc seeking sc of sc\n",
            "\n",
            "\n",
            "원문 : filmmaker karan johar said deeply bringing kangana ranaut name iifa adding think went bit far kangana mention johar added believe nepotism rocks talent rocks said speak nepotism kangana would disrespectful \n",
            "실제 요약 : deeply regret bringing up kangana name at iifa says johar \n",
            "1/1 [==============================] - 0s 21ms/step\n",
            "1/1 [==============================] - 0s 19ms/step\n",
            "1/1 [==============================] - 0s 19ms/step\n",
            "1/1 [==============================] - 0s 20ms/step\n",
            "1/1 [==============================] - 0s 22ms/step\n",
            "1/1 [==============================] - 0s 22ms/step\n",
            "1/1 [==============================] - 0s 21ms/step\n",
            "1/1 [==============================] - 0s 21ms/step\n",
            "1/1 [==============================] - 0s 20ms/step\n",
            "예측 요약 :  johar johar to be johar on karan\n",
            "\n",
            "\n",
            "원문 : authorities meghalaya east hills district monday temporarily suspended operations rescue miners trapped flooded illegal coal mine temporarily suspended pumping water exercise yield positive result district deputy commissioner fm said added operation resume powerful pumps made available \n",
            "실제 요약 : operation to rescue meghalaya miners temporarily suspended \n",
            "1/1 [==============================] - 0s 20ms/step\n",
            "1/1 [==============================] - 0s 20ms/step\n",
            "1/1 [==============================] - 0s 19ms/step\n",
            "1/1 [==============================] - 0s 20ms/step\n",
            "1/1 [==============================] - 0s 20ms/step\n",
            "1/1 [==============================] - 0s 21ms/step\n",
            "1/1 [==============================] - 0s 22ms/step\n",
            "1/1 [==============================] - 0s 20ms/step\n",
            "예측 요약 :  army to get down in mumbai\n",
            "\n",
            "\n",
            "원문 : captain virat kohli sunday became seventh indian become top ranked batsman test cricket first since sachin tendulkar sunil gavaskar first top ranked indian batsman achieving feat dilip second rahul dravid virender sehwag gautam gambhir indians achieve milestone \n",
            "실제 요약 : which indian batsmen have achieved top ranking in test cricket \n",
            "1/1 [==============================] - 0s 19ms/step\n",
            "1/1 [==============================] - 0s 22ms/step\n",
            "1/1 [==============================] - 0s 22ms/step\n",
            "1/1 [==============================] - 0s 22ms/step\n",
            "1/1 [==============================] - 0s 21ms/step\n",
            "1/1 [==============================] - 0s 22ms/step\n",
            "1/1 [==============================] - 0s 20ms/step\n",
            "1/1 [==============================] - 0s 21ms/step\n",
            "1/1 [==============================] - 0s 22ms/step\n",
            "예측 요약 :  kohli kohli to hit in cricket cricket\n",
            "\n",
            "\n",
            "원문 : naseeruddin shah revealed worked free many projects adding lot times promised chicken feed amount like however said called filmmakers never paid amount naseeruddin added friends used say want films ready work free \n",
            "실제 요약 : filmmakers promised me amount like but never got it shah \n",
            "1/1 [==============================] - 0s 22ms/step\n",
            "1/1 [==============================] - 0s 21ms/step\n",
            "1/1 [==============================] - 0s 21ms/step\n",
            "1/1 [==============================] - 0s 22ms/step\n",
            "1/1 [==============================] - 0s 22ms/step\n",
            "1/1 [==============================] - 0s 22ms/step\n",
            "1/1 [==============================] - 0s 22ms/step\n",
            "1/1 [==============================] - 0s 21ms/step\n",
            "예측 요약 :  we is the the the on\n",
            "\n",
            "\n",
            "원문 : nearly lakh people punjab dependent one substance according study postgraduate institute medical education research study claims lakh persons alcoholic lakh take injection users users average age years half unmarried added \n",
            "실제 요약 : nearly lakh in punjab on substance abuse study \n",
            "1/1 [==============================] - 0s 19ms/step\n",
            "1/1 [==============================] - 0s 20ms/step\n",
            "1/1 [==============================] - 0s 20ms/step\n",
            "1/1 [==============================] - 0s 22ms/step\n",
            "1/1 [==============================] - 0s 20ms/step\n",
            "1/1 [==============================] - 0s 22ms/step\n",
            "1/1 [==============================] - 0s 21ms/step\n",
            "예측 요약 :  lakh lakh lakh in bengaluru\n",
            "\n",
            "\n",
            "원문 : complying us sanctions global provider secure financial messaging services swift cut several iranian banks including country central bank services comes us warned penalties would applied firms refused comply sanctions makes difficult iran settle import export bills \n",
            "실제 요약 : iranian banks cut off from global financial network \n",
            "1/1 [==============================] - 0s 22ms/step\n",
            "1/1 [==============================] - 0s 21ms/step\n",
            "1/1 [==============================] - 0s 20ms/step\n",
            "1/1 [==============================] - 0s 21ms/step\n",
            "1/1 [==============================] - 0s 20ms/step\n",
            "1/1 [==============================] - 0s 22ms/step\n",
            "1/1 [==============================] - 0s 22ms/step\n",
            "1/1 [==============================] - 0s 22ms/step\n",
            "1/1 [==============================] - 0s 21ms/step\n",
            "예측 요약 :  us bank to buy bn in india\n",
            "\n",
            "\n",
            "원문 : death toll magnitude earthquake struck central mexico tuesday risen earthquake prompted several aftershocks leading collapse buildings damaged around buildings quake among powerful earthquakes hit mexico since one hit country killing people \n",
            "실제 요약 : mexico earthquake death toll rises to over \n",
            "1/1 [==============================] - 0s 23ms/step\n",
            "1/1 [==============================] - 0s 22ms/step\n",
            "1/1 [==============================] - 0s 21ms/step\n",
            "1/1 [==============================] - 0s 21ms/step\n",
            "1/1 [==============================] - 0s 24ms/step\n",
            "1/1 [==============================] - 0s 21ms/step\n",
            "1/1 [==============================] - 0s 23ms/step\n",
            "1/1 [==============================] - 0s 21ms/step\n",
            "1/1 [==============================] - 0s 21ms/step\n",
            "예측 요약 :  death toll rises to death in indonesia\n",
            "\n",
            "\n",
            "원문 : jpmorgan chase co said equities trading business booked million loss linked single client fourth quarter loss linked south african retailer unveiled accounting issues early december bank said equity markets revenue would without client loss quarter \n",
            "실제 요약 : jpmorgan lost million on single trading in \n",
            "1/1 [==============================] - 0s 20ms/step\n",
            "1/1 [==============================] - 0s 20ms/step\n",
            "1/1 [==============================] - 0s 21ms/step\n",
            "1/1 [==============================] - 0s 20ms/step\n",
            "1/1 [==============================] - 0s 22ms/step\n",
            "1/1 [==============================] - 0s 21ms/step\n",
            "1/1 [==============================] - 0s 21ms/step\n",
            "1/1 [==============================] - 0s 20ms/step\n",
            "1/1 [==============================] - 0s 21ms/step\n",
            "예측 요약 :  bitcoin may be in india in india\n",
            "\n",
            "\n",
            "원문 : year old man allegedly committed suicide farm maharashtra aurangabad district maratha reservation issue said police tuesday deceased identified shivaji employed finance company note found pocket reportedly said government murdered case suicide \n",
            "실제 요약 : year old man commits suicide over maratha quota demand \n",
            "1/1 [==============================] - 0s 19ms/step\n",
            "1/1 [==============================] - 0s 21ms/step\n",
            "1/1 [==============================] - 0s 21ms/step\n",
            "1/1 [==============================] - 0s 21ms/step\n",
            "1/1 [==============================] - 0s 21ms/step\n",
            "1/1 [==============================] - 0s 21ms/step\n",
            "1/1 [==============================] - 0s 22ms/step\n",
            "1/1 [==============================] - 0s 21ms/step\n",
            "1/1 [==============================] - 0s 22ms/step\n",
            "1/1 [==============================] - 0s 20ms/step\n",
            "예측 요약 :  man killed in bihar for lakh in bihar\n",
            "\n",
            "\n",
            "원문 : indian institutes management today declared results common admission test held november last year many candidates scored perfect percentile male engineering technology background total candidates scored percentile \n",
            "실제 요약 : cat results out all are male from tech background \n",
            "1/1 [==============================] - 0s 20ms/step\n",
            "1/1 [==============================] - 0s 21ms/step\n",
            "1/1 [==============================] - 0s 32ms/step\n",
            "1/1 [==============================] - 0s 21ms/step\n",
            "1/1 [==============================] - 0s 22ms/step\n",
            "1/1 [==============================] - 0s 21ms/step\n",
            "1/1 [==============================] - 0s 20ms/step\n",
            "1/1 [==============================] - 0s 20ms/step\n",
            "1/1 [==============================] - 0s 20ms/step\n",
            "예측 요약 :  india to be in india in india\n",
            "\n",
            "\n",
            "원문 : talking virat kohli fielding different playing xi tests captaincy indian spinner harbhajan singh said much every captain different every team dynamics different maybe want horses courses works harbhajan added india tests kohli captaincy \n",
            "실제 요약 : too much harbhajan on india unique test teams under kohli \n",
            "1/1 [==============================] - 0s 19ms/step\n",
            "1/1 [==============================] - 0s 22ms/step\n",
            "1/1 [==============================] - 0s 20ms/step\n",
            "1/1 [==============================] - 0s 20ms/step\n",
            "1/1 [==============================] - 0s 21ms/step\n",
            "1/1 [==============================] - 0s 21ms/step\n",
            "1/1 [==============================] - 0s 20ms/step\n",
            "1/1 [==============================] - 0s 20ms/step\n",
            "1/1 [==============================] - 0s 21ms/step\n",
            "1/1 [==============================] - 0s 20ms/step\n",
            "예측 요약 :  virat kohli to be out of the kohli\n",
            "\n",
            "\n",
            "원문 : ex south africa captain jacques got married longtime girlfriend estate western cape last weekend wedding threatened postponed wildfire damaged gardens building near venue started fire need keep fire burning marriage wrote instagram \n",
            "실제 요약 : marries girlfriend amid wildfire near wedding venue \n",
            "1/1 [==============================] - 0s 20ms/step\n",
            "1/1 [==============================] - 0s 21ms/step\n",
            "1/1 [==============================] - 0s 21ms/step\n",
            "1/1 [==============================] - 0s 22ms/step\n",
            "1/1 [==============================] - 0s 20ms/step\n",
            "1/1 [==============================] - 0s 23ms/step\n",
            "1/1 [==============================] - 0s 23ms/step\n",
            "1/1 [==============================] - 0s 21ms/step\n",
            "1/1 [==============================] - 0s 20ms/step\n",
            "예측 요약 :  ex wife wife wife passes away aged\n",
            "\n",
            "\n",
            "원문 : wife tahira kashyap revealed diagnosed breast cancer actor ayushmann khurrana took twitter wrote thanks wishes support last days tough decided happy life state fight challenge proud warrior princess tahira added \n",
            "실제 요약 : last days have been tough ayushmann on wife cancer \n",
            "1/1 [==============================] - 0s 20ms/step\n",
            "1/1 [==============================] - 0s 21ms/step\n",
            "1/1 [==============================] - 0s 21ms/step\n",
            "1/1 [==============================] - 0s 22ms/step\n",
            "1/1 [==============================] - 0s 21ms/step\n",
            "1/1 [==============================] - 0s 21ms/step\n",
            "1/1 [==============================] - 0s 20ms/step\n",
            "1/1 [==============================] - 0s 22ms/step\n",
            "1/1 [==============================] - 0s 22ms/step\n",
            "예측 요약 :  we to be to girlfriend on her\n",
            "\n",
            "\n",
            "원문 : recently leaked video named selfish ledger google research unit company detailed total data collection shape decisions ledger would ask users create life goal prompt engage activities help achieve increasing data possible develop understanding issues like depression video explained \n",
            "실제 요약 : leaked google clip shows how data can shape users decisions \n",
            "1/1 [==============================] - 0s 20ms/step\n",
            "1/1 [==============================] - 0s 21ms/step\n",
            "1/1 [==============================] - 0s 21ms/step\n",
            "1/1 [==============================] - 0s 22ms/step\n",
            "1/1 [==============================] - 0s 23ms/step\n",
            "1/1 [==============================] - 0s 22ms/step\n",
            "1/1 [==============================] - 0s 21ms/step\n",
            "예측 요약 :  facebook to launch in india\n",
            "\n",
            "\n",
            "원문 : actor sushant singh rajput said nothing take excitement acting away somebody takes films disappointed day fine make short films act theatre added sushant said passion excitement acting changed years \n",
            "실제 요약 : nothing can take of acting away from me sushant \n",
            "1/1 [==============================] - 0s 20ms/step\n",
            "1/1 [==============================] - 0s 21ms/step\n",
            "1/1 [==============================] - 0s 22ms/step\n",
            "1/1 [==============================] - 0s 21ms/step\n",
            "1/1 [==============================] - 0s 22ms/step\n",
            "1/1 [==============================] - 0s 23ms/step\n",
            "1/1 [==============================] - 0s 21ms/step\n",
            "1/1 [==============================] - 0s 22ms/step\n",
            "예측 요약 :  we are the the the on\n",
            "\n",
            "\n",
            "원문 : ranveer singh took instagram share picture seen recreating british rock singer mercury front statue switzerland ranveer also shared video seen performing song want break free captioned video aai thai \n",
            "실제 요약 : ranveer singh rock singer look \n",
            "1/1 [==============================] - 0s 20ms/step\n",
            "1/1 [==============================] - 0s 21ms/step\n",
            "1/1 [==============================] - 0s 20ms/step\n",
            "1/1 [==============================] - 0s 22ms/step\n",
            "1/1 [==============================] - 0s 23ms/step\n",
            "1/1 [==============================] - 0s 21ms/step\n",
            "1/1 [==============================] - 0s 20ms/step\n",
            "1/1 [==============================] - 0s 21ms/step\n",
            "1/1 [==============================] - 0s 22ms/step\n",
            "1/1 [==============================] - 0s 21ms/step\n",
            "예측 요약 :  video shows pic of her picture of the birthday\n",
            "\n",
            "\n",
            "원문 : former dera devotee revealed gurmeet ram rahim singh used lure devotees donating children given followers kids gave away two half month old child faith ram rahim told us devotee said \n",
            "실제 요약 : ram rahim devotees into their children \n",
            "1/1 [==============================] - 0s 19ms/step\n",
            "1/1 [==============================] - 0s 20ms/step\n",
            "1/1 [==============================] - 0s 20ms/step\n",
            "1/1 [==============================] - 0s 21ms/step\n",
            "1/1 [==============================] - 0s 21ms/step\n",
            "1/1 [==============================] - 0s 21ms/step\n",
            "1/1 [==============================] - 0s 22ms/step\n",
            "1/1 [==============================] - 0s 22ms/step\n",
            "1/1 [==============================] - 0s 21ms/step\n",
            "1/1 [==============================] - 0s 22ms/step\n",
            "예측 요약 :  pak court accused of hindu rape in pakistan\n",
            "\n",
            "\n",
            "원문 : ahmedabad based startup crop technologies delhi based data intelligence startup selected among world promising technology world economic forum founded driven village development schemes crop founded helps farmers previous winners title include google twitter airbnb \n",
            "실제 요약 : two indian startups among most promising tech \n",
            "1/1 [==============================] - 0s 22ms/step\n",
            "1/1 [==============================] - 0s 21ms/step\n",
            "1/1 [==============================] - 0s 21ms/step\n",
            "1/1 [==============================] - 0s 20ms/step\n",
            "1/1 [==============================] - 0s 20ms/step\n",
            "1/1 [==============================] - 0s 21ms/step\n",
            "1/1 [==============================] - 0s 20ms/step\n",
            "1/1 [==============================] - 0s 20ms/step\n",
            "예측 요약 :  us startup plans to sell in\n",
            "\n",
            "\n"
          ]
        }
      ]
    },
    {
      "cell_type": "markdown",
      "source": [
        "## 추출적 요약 해보기"
      ],
      "metadata": {
        "id": "wev_aQ8XBAM7"
      }
    },
    {
      "cell_type": "code",
      "source": [
        "!pip list | grep summa"
      ],
      "metadata": {
        "colab": {
          "base_uri": "https://localhost:8080/"
        },
        "id": "xaYsb_cnBGd_",
        "outputId": "1ada6959-fd35-43f3-b690-f09ef32a92ad"
      },
      "execution_count": null,
      "outputs": [
        {
          "output_type": "stream",
          "name": "stdout",
          "text": [
            "summa                            1.2.0\n",
            "torchsummary                     1.5.1\n"
          ]
        }
      ]
    },
    {
      "cell_type": "code",
      "source": [
        "import requests\n",
        "from summa.summarizer import summarize"
      ],
      "metadata": {
        "id": "RmUQNlanBHS9"
      },
      "execution_count": null,
      "outputs": []
    },
    {
      "cell_type": "code",
      "source": [
        "text = requests.get('http://rare-technologies.com/the_matrix_synopsis.txt').text"
      ],
      "metadata": {
        "id": "G34bgUv1BOCa"
      },
      "execution_count": null,
      "outputs": []
    },
    {
      "cell_type": "code",
      "source": [
        "print(text[:1500])"
      ],
      "metadata": {
        "colab": {
          "base_uri": "https://localhost:8080/"
        },
        "id": "k1KB-SA1BO0Z",
        "outputId": "a90677cd-0710-4226-ea63-7c739ead38ef"
      },
      "execution_count": null,
      "outputs": [
        {
          "output_type": "stream",
          "name": "stdout",
          "text": [
            "The screen is filled with green, cascading code which gives way to the title, The Matrix.\r\n",
            "\r\n",
            "A phone rings and text appears on the screen: \"Call trans opt: received. 2-19-98 13:24:18 REC: Log>\" As a conversation takes place between Trinity (Carrie-Anne Moss) and Cypher (Joe Pantoliano), two free humans, a table of random green numbers are being scanned and individual numbers selected, creating a series of digits not unlike an ordinary phone number, as if a code is being deciphered or a call is being traced.\r\n",
            "\r\n",
            "Trinity discusses some unknown person. Cypher taunts Trinity, suggesting she enjoys watching him. Trinity counters that \"Morpheus (Laurence Fishburne) says he may be 'the One',\" just as the sound of a number being selected alerts Trinity that someone may be tracing their call. She ends the call.\r\n",
            "\r\n",
            "Armed policemen move down a darkened, decrepit hallway in the Heart O' the City Hotel, their flashlight beam bouncing just ahead of them. They come to room 303, kick down the door and find a woman dressed in black, facing away from them. It's Trinity. She brings her hands up from the laptop she's working on at their command.\r\n",
            "\r\n",
            "Outside the hotel a car drives up and three agents appear in neatly pressed black suits. They are Agent Smith (Hugo Weaving), Agent Brown (Paul Goddard), and Agent Jones (Robert Taylor). Agent Smith and the presiding police lieutenant argue. Agent Smith admonishes the policeman that they were given specific orders to contact the agents first, for their\n"
          ]
        }
      ]
    },
    {
      "cell_type": "code",
      "source": [
        "print('Summary:')\n",
        "print(summarize(text, ratio=0.005))"
      ],
      "metadata": {
        "colab": {
          "base_uri": "https://localhost:8080/"
        },
        "id": "4UxBFnvxBQk4",
        "outputId": "805c01db-0b3e-4877-cfbf-906c8aadc812"
      },
      "execution_count": null,
      "outputs": [
        {
          "output_type": "stream",
          "name": "stdout",
          "text": [
            "Summary:\n",
            "Morpheus, Trinity, Neo, Apoc, Switch, Mouse and Cypher are jacked into the Matrix.\n",
            "Trinity brings the helicopter down to the floor that Morpheus is on and Neo opens fire on the three Agents.\n"
          ]
        }
      ]
    },
    {
      "cell_type": "code",
      "source": [
        "print('Summary:')\n",
        "print(summarize(text, ratio=0.005, split=True))"
      ],
      "metadata": {
        "colab": {
          "base_uri": "https://localhost:8080/"
        },
        "id": "R2rkt2xbBUgn",
        "outputId": "4f435395-175a-4c9b-dea9-b1a22d0d8aa9"
      },
      "execution_count": null,
      "outputs": [
        {
          "output_type": "stream",
          "name": "stdout",
          "text": [
            "Summary:\n",
            "['Morpheus, Trinity, Neo, Apoc, Switch, Mouse and Cypher are jacked into the Matrix.', 'Trinity brings the helicopter down to the floor that Morpheus is on and Neo opens fire on the three Agents.']\n"
          ]
        }
      ]
    },
    {
      "cell_type": "code",
      "source": [
        "print('Summary:')\n",
        "print(summarize(text, words=50))"
      ],
      "metadata": {
        "colab": {
          "base_uri": "https://localhost:8080/"
        },
        "id": "5GdbtF4gBWIq",
        "outputId": "e59bb541-8596-4058-fa07-d720a77a164b"
      },
      "execution_count": null,
      "outputs": [
        {
          "output_type": "stream",
          "name": "stdout",
          "text": [
            "Summary:\n",
            "Trinity takes Neo to Morpheus.\n",
            "Morpheus, Trinity, Neo, Apoc, Switch, Mouse and Cypher are jacked into the Matrix.\n",
            "Trinity brings the helicopter down to the floor that Morpheus is on and Neo opens fire on the three Agents.\n"
          ]
        }
      ]
    }
  ]
}