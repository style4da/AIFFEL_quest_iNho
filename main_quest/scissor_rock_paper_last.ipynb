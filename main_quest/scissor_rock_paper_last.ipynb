{
 "cells": [
  {
   "cell_type": "markdown",
   "metadata": {},
   "source": [
    "# 미니 프로젝트 : 가위바위보 분류기를 만들자\n",
    "\n",
    "<ol>\n",
    "<li>데이터 로드</li>\n",
    "<li>이미지 전처리(리사이즈,픽셀별 정규화 ...)</li>\n",
    "<li>모델 설계/빌드</li>\n",
    "<li>모델 컴파일(하이퍼파라미터...설정)</li>\n",
    "<li>모델 학습</li>\n",
    "<li>모델 평가(정확도 ... )</li>\n",
    "<li>예측 수행</li>\n",
    "</ol>\n",
    "\n",
    "\n",
    "\n",
    "## 프로젝트 목표와 계획\n",
    "\n",
    "<ol>\n",
    "<li>모델학습 결과를 시각화 한다. train acc/loss, val acc/loss</li>\n",
    "<li>Overfiting 극복을 위한 DataSet의 다양성을 위해 Laurence Moroney의 rock-paper-scissors-dataset을 활용하며 전처리 정규화 과정을 진행한다.\n",
    "\n",
    "    lms에서 가이드하고 있는 가위바위보 각각 100장의 이미지 데이터만으로는 학습결과/Test accuracy 결과가 10~최상50% 넘지 못하였다.\n",
    "    그래서 데이터셋의 중요성을 인지하고 1500장의 데이터셋을 구하고 테스트 해 본 결과 88%의 결과를 이룰 수 있었다. \n",
    "    하지만 이 결과는 정확도 85% 달성은 이루었지만 범용성면에서 신뢰가 떨어질 수 있다 생각했다.(예: 세 손가락으로 만든 가위 등)\n",
    "    그래서 좀 더 확장된 데이터셋을 찾았고 이것을 최종 프로젝트 데이터셋으로 활용하기로 했다.\n",
    "\n",
    "    Introducing Rock Paper Scissors – A multi class learning dataset\n",
    "    It has Creative Commons CC BY 2.0 Licence. Free use with declareation of the producer.\n",
    "    http://www.laurencemoroney.com/rock-paper-scissors-dataset/\n",
    "    Laurence Moroney (lmoroney@gmail.com / laurencemoroney.com)\n",
    "\n",
    "    테스트 데이터셋은 lms 노드에서 제공하고 있는 테스트 데이트셋을 활용하기로 했다.\n",
    "</li>\n",
    "<li>test acc 85% 이상을 목표로 한다.</li>\n",
    "\n",
    "</ol>\n"
   ]
  },
  {
   "cell_type": "markdown",
   "metadata": {},
   "source": [
    "#### Q. 다운로드 받은 이미지는 크기는 무엇일까요? \"nxn\"(n은 정수)의 형태로 나타내 보세요.\n",
    "224x224"
   ]
  },
  {
   "cell_type": "markdown",
   "metadata": {},
   "source": [
    "### 라이브러리 버전 확인"
   ]
  },
  {
   "cell_type": "code",
   "execution_count": 37,
   "metadata": {},
   "outputs": [
    {
     "name": "stdout",
     "output_type": "stream",
     "text": [
      "2.12.0\n",
      "1.23.5\n"
     ]
    }
   ],
   "source": [
    "import tensorflow as tf\n",
    "from tensorflow import keras\n",
    "import numpy as np\n",
    "\n",
    "\n",
    "print(tf.__version__)\n",
    "print(np.__version__)"
   ]
  },
  {
   "cell_type": "markdown",
   "metadata": {},
   "source": [
    "## 1. 데이터 로드 - 리사이즈,픽셀 정규화"
   ]
  },
  {
   "cell_type": "code",
   "execution_count": 39,
   "metadata": {},
   "outputs": [
    {
     "name": "stdout",
     "output_type": "stream",
     "text": [
      "-----------------------------\n",
      "2564  images to be resized.\n",
      "2564  images resized.\n",
      "가위 이미지 resize 완료!\n",
      "-----------------------------\n",
      "2564  images to be resized.\n",
      "2564  images resized.\n",
      "보 이미지 resize 완료!\n",
      "-----------------------------\n",
      "2564  images to be resized.\n",
      "2564  images resized.\n",
      "바위 이미지 resize 완료!\n"
     ]
    }
   ],
   "source": [
    "\n",
    "from PIL import Image\n",
    "import glob\n",
    "\n",
    "def resize_images(img_path):\n",
    "\timages=glob.glob(img_path + \"/*.jpg\")\n",
    "\n",
    "\tprint(len(images), \" images to be resized.\")\n",
    "\n",
    "    # 파일마다 모두 28x28 사이즈로 바꾸어 저장합니다.\n",
    "\ttarget_size=(28,28)\n",
    "\tfor img in images:\n",
    "\t\told_img=Image.open(img)\n",
    "\t\t# new_img=old_img.resize(target_size,Image.ANTIALIAS)\n",
    "\t\tnew_img=old_img.resize(target_size,Image.LANCZOS) #Pillow 라이브러리 업데이트로 인한 문제를 예방\n",
    "\t\tnew_img.save(img, \"JPEG\")\n",
    "\t\t# new_img=old_img.resize(target_size,Image.ANTIALIAS)\n",
    "        #/var/folders/pr/61td1y8x20gbmv2fk3q0zlyc0000gn/T/ipykernel_85361/4242410451.py:13: \n",
    "        # DeprecationWarning: ANTIALIAS is deprecated and will be removed in Pillow 10 (2023-07-01). \n",
    "        # Use LANCZOS or Resampling.LANCZOS instead.\n",
    "\tprint(len(images), \" images resized.\")\n",
    "\n",
    "print(\"-----------------------------\")\n",
    "# 가위 이미지가 저장된 디렉토리 아래의 모든 jpg 파일을 읽어들여서\n",
    "image_dir_path = \"/Users/inho/study/github/aiffel/personal/AIFFEL_quest_iNho/main_quest/rock_scissor_paper/scissors\"\n",
    "resize_images(image_dir_path)\n",
    "print(\"가위 이미지 resize 완료!\")\n",
    "print(\"-----------------------------\")\n",
    "# 보 이미지가 저장된 디렉토리 아래의 모든 jpg 파일을 읽어들여서 사이즈를 변경합니다.\n",
    "image_dir_path = \"/Users/inho/study/github/aiffel/personal/AIFFEL_quest_iNho/main_quest/rock_scissor_paper/paper\"\n",
    "resize_images(image_dir_path)\n",
    "print(\"보 이미지 resize 완료!\")\n",
    "print(\"-----------------------------\")\n",
    "\n",
    "# 바위 이미지가 저장된 디렉토리 아래의 모든 jpg 파일을 읽어들여서 사이즈를 변경합니다.\n",
    "image_dir_path = \"/Users/inho/study/github/aiffel/personal/AIFFEL_quest_iNho/main_quest/rock_scissor_paper/rock\"\n",
    "resize_images(image_dir_path)\n",
    "print(\"바위 이미지 resize 완료!\")"
   ]
  },
  {
   "cell_type": "markdown",
   "metadata": {},
   "source": [
    "## 2. 이미지 파일 load /  전처리 (x_train_norm = x_train/255.0)"
   ]
  },
  {
   "cell_type": "code",
   "execution_count": 40,
   "metadata": {},
   "outputs": [
    {
     "name": "stdout",
     "output_type": "stream",
     "text": [
      "학습데이터(x_train)의 이미지 개수는 5128 입니다.\n",
      "x_train shape: (6153, 28, 28, 3)\n",
      "y_train shape: (6153,)\n"
     ]
    }
   ],
   "source": [
    "import numpy as np\n",
    "from sklearn.model_selection import train_test_split # scikit-learn 패키지에는 데이터셋을 훈련 세트와 테스트 세트로 나누는 \n",
    "                                                     #train_test_split이라는 함수가 있다. 이것을 이용해 훈련/테스트 셋을 나누자.\n",
    "\n",
    "def load_data(img_path, number_of_data=7692):  # 가위바위보 이미지 개수 총합에 주의하세요.\n",
    "    # 가위 : 0, 바위 : 1, 보 : 2\n",
    "    img_size=28\n",
    "    color=3\n",
    "    #이미지 데이터와 라벨(가위 : 0, 바위 : 1, 보 : 2) 데이터를 담을 행렬(matrix) 영역을 생성합니다.\n",
    "    imgs=np.zeros(number_of_data*img_size*img_size*color,dtype=np.int32).reshape(number_of_data,img_size,img_size,color)\n",
    "    labels=np.zeros(number_of_data,dtype=np.int32)\n",
    "\n",
    "    idx=0\n",
    "    for file in glob.iglob(img_path+'/scissor/*.jpg'):\n",
    "        img = np.array(Image.open(file),dtype=np.int32)\n",
    "        imgs[idx,:,:,:]=img    # 데이터 영역에 이미지 행렬을 복사\n",
    "        labels[idx]=0   # 가위 : 0\n",
    "        idx=idx+1\n",
    "\n",
    "    for file in glob.iglob(img_path+'/rock/*.jpg'):\n",
    "        img = np.array(Image.open(file),dtype=np.int32)\n",
    "        imgs[idx,:,:,:]=img    # 데이터 영역에 이미지 행렬을 복사\n",
    "        labels[idx]=1   # 바위 : 1\n",
    "        idx=idx+1\n",
    "\n",
    "    for file in glob.iglob(img_path+'/paper/*.jpg'):\n",
    "        img = np.array(Image.open(file),dtype=np.int32)\n",
    "        imgs[idx,:,:,:]=img    # 데이터 영역에 이미지 행렬을 복사\n",
    "        labels[idx]=2   # 보 : 2\n",
    "        idx=idx+1\n",
    "\n",
    "    print(\"학습데이터(x_train)의 이미지 개수는\", idx,\"입니다.\")\n",
    "    return imgs, labels\n",
    "\n",
    "image_dir_path = \"/Users/inho/study/github/aiffel/personal/AIFFEL_quest_iNho/main_quest/rock_scissor_paper\"\n",
    "x_train, y_train =load_data(image_dir_path)\n",
    "x_train, x_val, y_train, y_val = train_test_split(x_train, y_train, test_size=0.2, random_state=2025) #train_test_split 함수를 사용하여 훈련 데이터를 훈련 세트와 검증 세트로 나누고 있습니다. \n",
    "                                                                                                          #test_size=0.2는 전체 데이터 중 20%를 검증 세트로 사용하겠다는 것을 의미\n",
    "                                                                                                          #random_state는 난수 생성에 사용되는 시드(seed) 값.\n",
    "                                                                                                          #시드 값을 지정하면 난수 발생 시 초기 상태가 동일해지므로, 같은 시드 값을 사용하면 랜덤한 결과를 얻을 수 있다. \n",
    "                                                                                                          # 따라서 random_state=20231029은 20231029이라는 임의의 정수를 시드 값으로 사용한다는 의미이다.\n",
    "                                                                                                          # 만약 같은 데이터셋과 같은 모델을 사용하여 실험을 재현하고 싶다면, 같은 시드 값을 사용하는 것이 좋다.\n",
    "x_train_norm, x_val_norm = x_train/255.0, x_val /255.0   # 입력은 0~1 사이의 값으로 정규화\n",
    "\n",
    "print(\"x_train shape: {}\".format(x_train.shape))\n",
    "print(\"y_train shape: {}\".format(y_train.shape))\n"
   ]
  },
  {
   "cell_type": "code",
   "execution_count": 15,
   "metadata": {},
   "outputs": [
    {
     "name": "stdout",
     "output_type": "stream",
     "text": [
      "라벨 :  1\n"
     ]
    },
    {
     "data": {
      "image/png": "[encoded data removed]",
      "text/plain": [
       "<Figure size 640x480 with 1 Axes>"
      ]
     },
     "metadata": {},
     "output_type": "display_data"
    }
   ],
   "source": [
    "import matplotlib.pyplot as plt\n",
    "plt.imshow(x_train[0])\n",
    "print('라벨 : ', y_train[0])"
   ]
  },
  {
   "cell_type": "markdown",
   "metadata": {},
   "source": [
    "## 3.4. 모델 빌드 - 딥러닝 네트워크 설계/컴파일\n",
    "\n",
    "#### Q. 모델의 입력/출력부에 특히 유의하여 모델을 직접 만들어 보세요. 가위바위보 데이터셋은 MNIST 데이터셋과 어떤 점이 달라졌나요?\n",
    "\n",
    "MNIST 데이터셋의 최종 분류 class 수는 10, 가위바위보 데이터셋의 최종 분류 class 수는 3"
   ]
  },
  {
   "cell_type": "code",
   "execution_count": 41,
   "metadata": {},
   "outputs": [
    {
     "name": "stdout",
     "output_type": "stream",
     "text": [
      "Model에 추가된 Layer 개수:  7\n",
      "Model: \"sequential_1\"\n",
      "_________________________________________________________________\n",
      " Layer (type)                Output Shape              Param #   \n",
      "=================================================================\n",
      " conv2d_2 (Conv2D)           (None, 26, 26, 32)        896       \n",
      "                                                                 \n",
      " max_pooling2d_2 (MaxPooling  (None, 13, 13, 32)       0         \n",
      " 2D)                                                             \n",
      "                                                                 \n",
      " conv2d_3 (Conv2D)           (None, 11, 11, 64)        18496     \n",
      "                                                                 \n",
      " max_pooling2d_3 (MaxPooling  (None, 5, 5, 64)         0         \n",
      " 2D)                                                             \n",
      "                                                                 \n",
      " flatten_1 (Flatten)         (None, 1600)              0         \n",
      "                                                                 \n",
      " dense_2 (Dense)             (None, 128)               204928    \n",
      "                                                                 \n",
      " dense_3 (Dense)             (None, 3)                 387       \n",
      "                                                                 \n",
      "=================================================================\n",
      "Total params: 224,707\n",
      "Trainable params: 224,707\n",
      "Non-trainable params: 0\n",
      "_________________________________________________________________\n"
     ]
    }
   ],
   "source": [
    "# tf.keras의 Sequential API를 이용하여 LeNet이라는 딥러닝 네트워크를 설계\n",
    "\n",
    "import tensorflow as tf\n",
    "from tensorflow import keras\n",
    "import numpy as np\n",
    "\n",
    "# model을 직접 만들어 보세요.\n",
    "# Hint! model의 입력/출력부에 특히 유의해 주세요.\n",
    "model = keras.Sequential([\n",
    "    keras.layers.Conv2D(32, (3, 3), activation='relu', input_shape=(28, 28, 3)),\n",
    "    keras.layers.MaxPooling2D(2, 2),\n",
    "    keras.layers.Conv2D(64, (3, 3), activation='relu'),\n",
    "    keras.layers.MaxPooling2D(2, 2),\n",
    "    keras.layers.Flatten(),\n",
    "    keras.layers.Dense(128, activation='relu'),\n",
    "    keras.layers.Dense(3, activation='softmax')\n",
    "])\n",
    "\n",
    "print('Model에 추가된 Layer 개수: ', len(model.layers))\n",
    "\n",
    "model.summary()"
   ]
  },
  {
   "cell_type": "markdown",
   "metadata": {},
   "source": [
    "## 5. 모델 학습\n",
    "\n",
    "#### Q. model.compile()과 model.fit()을 사용"
   ]
  },
  {
   "cell_type": "code",
   "execution_count": 48,
   "metadata": {},
   "outputs": [
    {
     "name": "stdout",
     "output_type": "stream",
     "text": [
      "Before Reshape - x_train_norm shape: (6153, 28, 28, 3)\n",
      "Epoch 1/10\n",
      "193/193 [==============================] - 1s 5ms/step - loss: 0.2704 - accuracy: 0.8942 - val_loss: 0.1512 - val_accuracy: 0.9519\n",
      "Epoch 2/10\n",
      "193/193 [==============================] - 1s 5ms/step - loss: 0.0442 - accuracy: 0.9867 - val_loss: 0.0200 - val_accuracy: 0.9942\n",
      "Epoch 3/10\n",
      "193/193 [==============================] - 1s 5ms/step - loss: 0.0125 - accuracy: 0.9976 - val_loss: 0.0049 - val_accuracy: 0.9994\n",
      "Epoch 4/10\n",
      "193/193 [==============================] - 1s 5ms/step - loss: 0.0037 - accuracy: 0.9997 - val_loss: 0.0035 - val_accuracy: 0.9987\n",
      "Epoch 5/10\n",
      "193/193 [==============================] - 1s 5ms/step - loss: 0.0074 - accuracy: 0.9984 - val_loss: 0.0025 - val_accuracy: 1.0000\n",
      "Epoch 6/10\n",
      "193/193 [==============================] - 1s 5ms/step - loss: 0.0010 - accuracy: 1.0000 - val_loss: 0.0013 - val_accuracy: 0.9994\n",
      "Epoch 7/10\n",
      "193/193 [==============================] - 1s 5ms/step - loss: 4.9230e-04 - accuracy: 1.0000 - val_loss: 4.4516e-04 - val_accuracy: 1.0000\n",
      "Epoch 8/10\n",
      "193/193 [==============================] - 1s 5ms/step - loss: 3.0189e-04 - accuracy: 1.0000 - val_loss: 3.6947e-04 - val_accuracy: 1.0000\n",
      "Epoch 9/10\n",
      "193/193 [==============================] - 1s 5ms/step - loss: 2.3556e-04 - accuracy: 1.0000 - val_loss: 3.7439e-04 - val_accuracy: 1.0000\n",
      "Epoch 10/10\n",
      "193/193 [==============================] - 1s 5ms/step - loss: 1.6905e-04 - accuracy: 1.0000 - val_loss: 3.6441e-04 - val_accuracy: 1.0000\n"
     ]
    }
   ],
   "source": [
    "# model을 학습시키는 코드를 직접 작성해 보세요.\n",
    "# Hint! model.compile()과 model.fit()을 사용해 봅시다.\n",
    "# 입력이미지의 크기에 채널 추가\n",
    "print(f\"Before Reshape - x_train_norm shape: {x_train_norm.shape}\")\n",
    "x_train_reshaped=x_train_norm.reshape( -1, 28, 28, 3)  # 데이터갯수에 -1을 쓰면 reshape시 자동계산됩니다.\n",
    "\n",
    "model.compile(optimizer='Adam',\n",
    "              loss='sparse_categorical_crossentropy',\n",
    "              metrics=['accuracy'])\n",
    "\n",
    "history = model.fit(x_train_reshaped, y_train, epochs=10, validation_data=(x_val_norm, y_val))\n",
    "     "
   ]
  },
  {
   "cell_type": "code",
   "execution_count": 49,
   "metadata": {},
   "outputs": [
    {
     "data": {
      "image/png": "[encoded data removed]",
      "text/plain": [
       "<Figure size 800x800 with 1 Axes>"
      ]
     },
     "metadata": {},
     "output_type": "display_data"
    },
    {
     "data": {
      "image/png": "[encoded data removed]",
      "text/plain": [
       "<Figure size 800x800 with 1 Axes>"
      ]
     },
     "metadata": {},
     "output_type": "display_data"
    }
   ],
   "source": [
    "\n",
    "train_history = history.history[\"loss\"]\n",
    "validation_history = history.history[\"val_loss\"]\n",
    "fig = plt.figure(figsize=(8, 8))\n",
    "plt.title(\"Loss History\")\n",
    "plt.xlabel(\"EPOCH\")\n",
    "plt.ylabel(\"LOSS Function\")\n",
    "plt.plot(train_history, \"red\")\n",
    "plt.plot(validation_history, 'blue')\n",
    "fig.savefig(\"train_history.png\")\n",
    "plt.show()\n",
    "\n",
    "train_history = history.history[\"accuracy\"]\n",
    "validation_history = history.history[\"val_accuracy\"]\n",
    "fig = plt.figure(figsize=(8, 8))\n",
    "plt.title(\"Accuracy History\")\n",
    "plt.xlabel(\"EPOCH\")\n",
    "plt.ylabel(\"Accuracy\")\n",
    "plt.plot(train_history, \"red\")\n",
    "plt.plot(validation_history, 'blue')\n",
    "fig.savefig(\"accuracy_history.png\")\n",
    "plt.show()"
   ]
  },
  {
   "cell_type": "markdown",
   "metadata": {},
   "source": [
    "## 6. 테스트 데이터 "
   ]
  },
  {
   "cell_type": "code",
   "execution_count": 50,
   "metadata": {},
   "outputs": [
    {
     "name": "stdout",
     "output_type": "stream",
     "text": [
      "100  images to be resized.\n",
      "100  images resized.\n",
      "test - 가위 이미지 resize 완료!\n",
      "-----------------------------\n",
      "100  images to be resized.\n",
      "100  images resized.\n",
      "test - 바위 이미지 resize 완료!\n",
      "-----------------------------\n",
      "100  images to be resized.\n",
      "100  images resized.\n",
      "test - 보 이미지 resize 완료!\n",
      "-----------------------------\n",
      "학습데이터(x_train)의 이미지 개수는 200 입니다.\n",
      "x_test shape: (7692, 28, 28, 3)\n",
      "y_test shape: (7692,)\n"
     ]
    }
   ],
   "source": [
    "# x_test, y_test를 만드는 방법은 x_train, y_train을 만드는 방법과 아주 유사합니다.\n",
    "# scissor\n",
    "test_image_dir_path = \"/Users/inho/study/github/aiffel/personal/AIFFEL_quest_iNho/main_quest/rock_scissor_paper/test/scissors\"\n",
    "resize_images(test_image_dir_path)\n",
    "print(\"test - 가위 이미지 resize 완료!\")\n",
    "print(\"-----------------------------\")\n",
    "\n",
    "# rock\n",
    "test_image_dir_path = \"/Users/inho/study/github/aiffel/personal/AIFFEL_quest_iNho/main_quest/rock_scissor_paper/test/rock\"\n",
    "resize_images(test_image_dir_path)\n",
    "print(\"test - 바위 이미지 resize 완료!\")\n",
    "print(\"-----------------------------\")\n",
    "# paper\n",
    "test_image_dir_path = \"/Users/inho/study/github/aiffel/personal/AIFFEL_quest_iNho/main_quest/rock_scissor_paper/test/paper\"\n",
    "resize_images(test_image_dir_path)\n",
    "print(\"test - 보 이미지 resize 완료!\")\n",
    "print(\"-----------------------------\")\n",
    "# 우선 테스트용 데이터인 x_test, y_test를 만들어 봅시다.\n",
    "test_image_dir_path = \"/Users/inho/study/github/aiffel/personal/AIFFEL_quest_iNho/main_quest/rock_scissor_paper/test\"\n",
    "x_test, y_test = load_data(test_image_dir_path)\n",
    "x_test_norm = x_test/255.0   # 입력은 0~1 사이의 값으로 정규화\n",
    "\n",
    "print(\"x_test shape: {}\".format(x_test.shape))\n",
    "print(\"y_test shape: {}\".format(y_test.shape))"
   ]
  },
  {
   "cell_type": "markdown",
   "metadata": {},
   "source": [
    "### 테스트용 데이터 x_test, y_test"
   ]
  },
  {
   "cell_type": "code",
   "execution_count": 47,
   "metadata": {},
   "outputs": [
    {
     "name": "stdout",
     "output_type": "stream",
     "text": [
      "시험데이터(x_test)의 이미지 개수는 300 입니다.\n",
      "-----------------------------\n",
      "x_test shape: (300, 28, 28, 3)\n",
      "y_test shape: (300,)\n",
      "-----------------------------\n",
      "Before Reshape - x_test_norm shape: (300, 28, 28, 3)\n",
      "After Reshape - x_test_reshaped shape: (300, 28, 28, 3)\n",
      "-----------------------------\n",
      "(6153, 28, 28, 3)\n",
      "(300, 28, 28, 3)\n"
     ]
    }
   ],
   "source": [
    "\n",
    "# 가위, 바위, 보 데이터를 읽을 수 있는 load_data() 함수\n",
    "\n",
    "import numpy as np\n",
    "import matplotlib.pyplot as plt\n",
    "img_path = \"/Users/inho/study/github/aiffel/personal/AIFFEL_quest_iNho/main_quest/rock_scissor_paper/test\"\n",
    "def load_test_data(img_path, number_of_data=300):  # 가위바위보 이미지 개수 총합에 주의하세요.\n",
    "    # 가위 : 0, 바위 : 1, 보 : 2\n",
    "    img_size=28\n",
    "    color=3\n",
    "    #이미지 데이터와 라벨(가위 : 0, 바위 : 1, 보 : 2) 데이터를 담을 행렬(matrix) 영역을 생성합니다.\n",
    "    imgs=np.zeros(number_of_data*img_size*img_size*color,dtype=np.int32).reshape(number_of_data,img_size,img_size,color)\n",
    "    labels=np.zeros(number_of_data,dtype=np.int32)\n",
    "\n",
    "    idx=0\n",
    "    for file in glob.iglob(img_path+'/scissors/*.jpg'):\n",
    "        img = np.array(Image.open(file),dtype=np.int32)\n",
    "        imgs[idx,:,:,:]=img    # 데이터 영역에 이미지 행렬을 복사\n",
    "        labels[idx]=0   # 가위 : 0\n",
    "        idx=idx+1\n",
    "\n",
    "    for file in glob.iglob(img_path+'/rock/*.jpg'):\n",
    "        img = np.array(Image.open(file),dtype=np.int32)\n",
    "        imgs[idx,:,:,:]=img    # 데이터 영역에 이미지 행렬을 복사\n",
    "        labels[idx]=1   # 바위 : 1\n",
    "        idx=idx+1\n",
    "\n",
    "    for file in glob.iglob(img_path+'/paper/*.jpg'):\n",
    "        img = np.array(Image.open(file),dtype=np.int32)\n",
    "        imgs[idx,:,:,:]=img    # 데이터 영역에 이미지 행렬을 복사\n",
    "        labels[idx]=2   # 보 : 2\n",
    "        idx=idx+1\n",
    "\n",
    "    print(\"시험데이터(x_test)의 이미지 개수는\", idx,\"입니다.\")\n",
    "    return imgs, labels\n",
    "\n",
    "(x_test, y_test)=load_test_data(test_image_dir_path)\n",
    "x_test_norm = x_test/255.0   # 전처리 정규화: 입력은 0~1 사이의 값으로 정규화\n",
    "\n",
    "print(\"-----------------------------\")\n",
    "print(\"x_test shape: {}\".format(x_test.shape))\n",
    "print(\"y_test shape: {}\".format(y_test.shape))\n",
    "print(\"-----------------------------\")\n",
    "\n",
    "print(f\"Before Reshape - x_test_norm shape: {x_test_norm.shape}\")\n",
    "x_test_reshaped=x_test_norm.reshape( -1, 28, 28, 3)  # 데이터갯수에 -1을 쓰면 reshape시 자동계산\n",
    "print(f\"After Reshape - x_test_reshaped shape: {x_test_reshaped.shape}\")\n",
    "\n",
    "print(\"-----------------------------\")\n",
    "print(x_train.shape)\n",
    "print(x_test.shape)\n",
    "\n",
    "# lms 다시 복기 ------------------\n",
    "# 우리가 만든 네트워크의 입력은 (데이터갯수, 이미지 크기 x, 이미지 크기 y, 채널수) 와 같은 형태를 가집니다. \n",
    "# 이전 스텝에서 첫 번째 레이어에 input_shape=(28,28,1)로 지정했던 것을 기억하시나요?\n",
    "# 그런데 print(x_train.shape) 을 해보면, (60000, 28, 28) 로 채널수에 대한 정보가 없습니다. \n",
    "# 따라서 (60000, 28, 28, 1) 로 만들어 주어야 합니다 (여기서 채널수 1은 흑백 이미지를 의미합니다. \n",
    "# 컬러 이미지라면 R, G, B 세 가지 값이 있기 때문에 3이겠죠?)."
   ]
  },
  {
   "cell_type": "markdown",
   "metadata": {},
   "source": [
    "## Test Data 모델성능평가"
   ]
  },
  {
   "cell_type": "markdown",
   "metadata": {},
   "source": [
    "## 모델 평가 : model.evaluate(x_test_reshaped,y_test, verbose=2)"
   ]
  },
  {
   "cell_type": "code",
   "execution_count": 51,
   "metadata": {},
   "outputs": [
    {
     "name": "stdout",
     "output_type": "stream",
     "text": [
      "241/241 - 0s - loss: 0.0410 - accuracy: 0.9878 - 362ms/epoch - 2ms/step\n",
      "test_loss: 0.041009385138750076\n",
      "테스트 정확도: 0.9878\n"
     ]
    }
   ],
   "source": [
    "# Hint! model.evaluate()을 사용해 봅시다.\n",
    "test_loss, test_accuracy = model.evaluate(x_test_norm ,y_test, verbose=2)\n",
    "print(f\"test_loss: {test_loss}\")\n",
    "print(\"테스트 정확도: {:.4f}\".format(test_accuracy))\n"
   ]
  },
  {
   "cell_type": "code",
   "execution_count": 60,
   "metadata": {},
   "outputs": [
    {
     "name": "stdout",
     "output_type": "stream",
     "text": [
      "241/241 [==============================] - 0s 2ms/step\n",
      "model.predict() 결과 :  [0.7068254  0.15461446 0.13856004]\n",
      "model이 추론한 가장 가능성이 높은 결과 :  0\n",
      "실제 데이터의 라벨 :  1\n"
     ]
    },
    {
     "data": {
      "image/png": "[encoded data removed]",
      "text/plain": [
       "<Figure size 640x480 with 1 Axes>"
      ]
     },
     "metadata": {},
     "output_type": "display_data"
    }
   ],
   "source": [
    "predicted_result = model.predict(x_test_norm)\n",
    "predicted_labels = np.argmax(predicted_result, axis=1)\n",
    "\n",
    "idx=0\n",
    "print('model.predict() 결과 : ', predicted_result[idx])\n",
    "print('model이 추론한 가장 가능성이 높은 결과 : ', predicted_labels[idx])\n",
    "print('실제 데이터의 라벨 : ', y_test[idx])\n",
    "plt.imshow(x_test[idx],cmap=plt.cm.binary)\n",
    "plt.show()"
   ]
  },
  {
   "cell_type": "markdown",
   "metadata": {},
   "source": [
    "## 더 좋은 네트워크 만들어보기"
   ]
  },
  {
   "cell_type": "code",
   "execution_count": 59,
   "metadata": {},
   "outputs": [
    {
     "name": "stdout",
     "output_type": "stream",
     "text": [
      "Model: \"sequential_4\"\n",
      "_________________________________________________________________\n",
      " Layer (type)                Output Shape              Param #   \n",
      "=================================================================\n",
      " conv2d_8 (Conv2D)           (None, 26, 26, 32)        896       \n",
      "                                                                 \n",
      " max_pooling2d_8 (MaxPooling  (None, 13, 13, 32)       0         \n",
      " 2D)                                                             \n",
      "                                                                 \n",
      " conv2d_9 (Conv2D)           (None, 11, 11, 64)        18496     \n",
      "                                                                 \n",
      " max_pooling2d_9 (MaxPooling  (None, 5, 5, 64)         0         \n",
      " 2D)                                                             \n",
      "                                                                 \n",
      " flatten_4 (Flatten)         (None, 1600)              0         \n",
      "                                                                 \n",
      " dense_8 (Dense)             (None, 64)                102464    \n",
      "                                                                 \n",
      " dense_9 (Dense)             (None, 3)                 195       \n",
      "                                                                 \n",
      "=================================================================\n",
      "Total params: 122,051\n",
      "Trainable params: 122,051\n",
      "Non-trainable params: 0\n",
      "_________________________________________________________________\n",
      "Epoch 1/20\n",
      "193/193 [==============================] - 1s 4ms/step - loss: 1.7046 - accuracy: 0.9287\n",
      "Epoch 2/20\n",
      "193/193 [==============================] - 1s 4ms/step - loss: 0.0886 - accuracy: 0.9751\n",
      "Epoch 3/20\n",
      "193/193 [==============================] - 1s 4ms/step - loss: 0.0042 - accuracy: 0.9987\n",
      "Epoch 4/20\n",
      "193/193 [==============================] - 1s 4ms/step - loss: 0.0035 - accuracy: 0.9989\n",
      "Epoch 5/20\n",
      "193/193 [==============================] - 1s 4ms/step - loss: 9.5202e-04 - accuracy: 1.0000\n",
      "Epoch 6/20\n",
      "193/193 [==============================] - 1s 4ms/step - loss: 2.3579e-04 - accuracy: 1.0000\n",
      "Epoch 7/20\n",
      "193/193 [==============================] - 1s 4ms/step - loss: 1.7494e-04 - accuracy: 1.0000\n",
      "Epoch 8/20\n",
      "193/193 [==============================] - 1s 4ms/step - loss: 1.1355e-04 - accuracy: 1.0000\n",
      "Epoch 9/20\n",
      "193/193 [==============================] - 1s 4ms/step - loss: 9.8126e-05 - accuracy: 1.0000\n",
      "Epoch 10/20\n",
      "193/193 [==============================] - 1s 4ms/step - loss: 7.7094e-05 - accuracy: 1.0000\n",
      "Epoch 11/20\n",
      "193/193 [==============================] - 1s 4ms/step - loss: 6.5482e-05 - accuracy: 1.0000\n",
      "Epoch 12/20\n",
      "193/193 [==============================] - 1s 4ms/step - loss: 5.7210e-05 - accuracy: 1.0000\n",
      "Epoch 13/20\n",
      "193/193 [==============================] - 1s 4ms/step - loss: 4.9015e-05 - accuracy: 1.0000\n",
      "Epoch 14/20\n",
      "193/193 [==============================] - 1s 4ms/step - loss: 4.1790e-05 - accuracy: 1.0000\n",
      "Epoch 15/20\n",
      "193/193 [==============================] - 1s 4ms/step - loss: 3.7493e-05 - accuracy: 1.0000\n",
      "Epoch 16/20\n",
      "193/193 [==============================] - 1s 4ms/step - loss: 3.1042e-05 - accuracy: 1.0000\n",
      "Epoch 17/20\n",
      "193/193 [==============================] - 1s 4ms/step - loss: 3.0622e-05 - accuracy: 1.0000\n",
      "Epoch 18/20\n",
      "193/193 [==============================] - 1s 4ms/step - loss: 2.5659e-05 - accuracy: 1.0000\n",
      "Epoch 19/20\n",
      "193/193 [==============================] - 1s 4ms/step - loss: 2.2534e-05 - accuracy: 1.0000\n",
      "Epoch 20/20\n",
      "193/193 [==============================] - 1s 4ms/step - loss: 2.0766e-05 - accuracy: 1.0000\n",
      "241/241 - 0s - loss: 0.0404 - accuracy: 0.9740 - 390ms/epoch - 2ms/step\n",
      "test_loss: 0.0404270738363266\n",
      "테스트 정확도: 0.9740\n"
     ]
    }
   ],
   "source": [
    "# 성능 올리기: 하이퍼파라미터 조정하기\n",
    "\n",
    "import tensorflow as tf\n",
    "from tensorflow import keras\n",
    "\n",
    "conv_channel_1 = 32\n",
    "conv_channel_2 = 64\n",
    "fc_dense = 64\n",
    "scissor_rock_paper_train_epoch = 20\n",
    "\n",
    "model = keras.models.Sequential()\n",
    "model.add(keras.layers.Conv2D(conv_channel_1, (3, 3), activation='relu', input_shape=(28, 28, 3)))\n",
    "model.add(keras.layers.MaxPool2D(2, 2))\n",
    "model.add(keras.layers.Conv2D(conv_channel_2, (3, 3), activation='relu'))\n",
    "model.add(keras.layers.MaxPooling2D((2, 2)))\n",
    "model.add(keras.layers.Flatten())\n",
    "model.add(keras.layers.Dense(fc_dense, activation='relu'))\n",
    "# model.add(keras.layers.Dropout(0.5)) #드롭아웃test_accuracy: 0.8333333134651184\n",
    "model.add(keras.layers.Dense(3, activation='softmax'))\n",
    "\n",
    "model.summary()\n",
    "\n",
    "# datagen = keras.preprocessing.image.ImageDataGenerator(\n",
    "#     rotation_range=10,\n",
    "#     width_shift_range=0.1,\n",
    "#     height_shift_range=0.1,\n",
    "#     shear_range=0.1,\n",
    "#     zoom_range=0.1,\n",
    "#     horizontal_flip=True,\n",
    "#     vertical_flip=False\n",
    "# )\n",
    "#학습률 스케줄링 설정 \n",
    "# lr_schedule = keras.optimizers.schedules.ExponentialDecay(initial_learning_rate=1e-2,\n",
    "#                                                           decay_steps=10000,\n",
    "#                                                           decay_rate=0.9)\n",
    "# optimizer = keras.optimizers.Adam(learning_rate=lr_schedule)\n",
    "\n",
    "# model.compile(optimizer=optimizer,\n",
    "#              loss='sparse_categorical_crossentropy',\n",
    "#              metrics=['accuracy'])\n",
    "# WARNING:absl:At this time, the v2.11+ optimizer `tf.keras.optimizers.Adam` runs slowly on M1/M2 Macs,\n",
    "# please use the legacy Keras optimizer instead, located at `tf.keras.optimizers.legacy.Adam`.\n",
    "#WARNING:absl:There is a known slowdown when using v2.11+ Keras optimizers on M1/M2 Macs. \n",
    "# Falling back to the legacy Keras optimizer, i.e., `tf.keras.optimizers.legacy.Adam`.\n",
    "\n",
    "# optimizer = tf.keras.optimizers.legacy.Adam()  # 레거시 Adam 옵티마이저 사용\n",
    "# model.compile(optimizer=optimizer,\n",
    "#              loss='sparse_categorical_crossentropy',\n",
    "#              metrics=['accuracy'])\n",
    "\n",
    "\n",
    "\n",
    "# # 모델 컴파일\n",
    "# model.compile(optimizer=optimizer,\n",
    "#              loss='sparse_categorical_crossentropy',\n",
    "#              metrics=['accuracy'])\n",
    "#WARNING:absl:At this time, the v2.11+ optimizer `tf.keras.optimizers.Adam` runs slowly on M1/M2 Macs, \n",
    "# please use the legacy Keras optimizer instead, located at `tf.keras.optimizers.legacy.Adam`.\n",
    "#WARNING:absl:At this time, the v2.11+ optimizer `tf.keras.optimizers.SGD` runs slowly on M1/M2 Macs,\n",
    "# please use the legacy Keras optimizer instead, located at `tf.keras.optimizers.legacy.SGD`.\n",
    "#WARNING:absl:There is a known slowdown when using v2.11+ Keras optimizers on M1/M2 Macs. \n",
    "# Falling back to the legacy Keras optimizer, i.e., `tf.keras.optimizers.legacy.SGD`.\n",
    "\n",
    "#레거시 Adam 옵티마이저 사용\n",
    "optimizer = tf.keras.optimizers.legacy.Adam()\n",
    "\n",
    "# 레거시 SGD 옵티마이저 사용\n",
    "# optimizer = tf.keras.optimizers.legacy.SGD(learning_rate=0.01)\n",
    "\n",
    "# 모델 컴파일\n",
    "model.compile(optimizer=optimizer,\n",
    "             loss='sparse_categorical_crossentropy',\n",
    "             metrics=['accuracy'])\n",
    "\n",
    "# 모델 훈련\n",
    "model.fit(x_train, y_train, epochs=scissor_rock_paper_train_epoch)\n",
    "\n",
    "\n",
    "# 모델 시험\n",
    "test_loss, test_accuracy = model.evaluate(x_test_norm ,y_test, verbose=2)\n",
    "print(f\"test_loss: {test_loss}\")\n",
    "print(\"테스트 정확도: {:.4f}\".format(test_accuracy))"
   ]
  },
  {
   "cell_type": "markdown",
   "metadata": {},
   "source": [
    "# 소감\n",
    "---\n",
    "<ol>\n",
    "<li>Model Test Accuracy 높이기 : 데이터 확보가 관건이었다.\n",
    "\n",
    "    - LMS의 가이드대로 가위바위보 각각 100장, 총 300장의 데이터셋으로 모델학습을 하고 나서 Validation 과 Test accuracy 의 너무 큰 차이로 다소 당황스러웠다. 이후 구루분들의 데이터셋 각각 500장, 총 1500장의 데이터셋에 더하여 http://www.laurencemoroney.com/rock-paper-scissors-dataset/ Laurence Moroney의 rock-paper-scissors-dataset과 더하여 총 7692의 학습 데이터셋을 마련하고 이중 20%을 validation으로 분할하여 본격적인 모델학습을 하였고 마침내 최종 Test Accuracy 98% 에 이르렀다. \n",
    "    - 일요일 이른 아침부터 이 시각 월요일 새벽 1시, 총 15시간의 긴 시간동안 수없는 시행착오를 거치며 얻은 결론은 결국 Data! 수집과 전처리, 운용과 관리가 얼마나 중요한지 뼈아프게 실감하는 하루였다. \n",
    "    - 딥러닝과의 떨리는 첫 Date는 한 글자 바꾼 Data 이 단어로 마무리지어야겠다.\n",
    "\n",
    "</li>\n",
    "<li> 다양한 접근과 방법들을 발견하다 : rock-paper-scissors model\n",
    "\n",
    "     부족한 데이터셋도 문제였지만 Model Test를 내가 잘하고 있나? 하는 의구심이 차츰 들기 시작했다. 그래서 github에서 rock-paper-scissors model을 뒤져보는데 정말 다양한 방식과 접근을 구경할 수 있었다. VGG 로 접근한 분도 계셨고 tensorflow.js로 브라우저로 모델을 선보이는 분도 계셨다. 시간되면 꼭 한번 시도해 보려 한다. https://github.com/search?q=rock-paper-scissors+model&type=repositories&s=stars&o=desc\n",
    "</li>\n",
    "<li>마침내 내 노트북에서 DL모델학습을 시켜 보다.\n",
    "\n",
    "    - 금요일 정규시간에는 colab에서 작업을 했었는데 데이터셋 용량이 많아지다 보니 업로드하는게 힘들어져 이렇게 된 이상, 노트북에서 작업하기로 했다. 그래서 토요일 하루를 셋팅하는데 바쳤다. 아나콘다의 입에 필요한 라이브러리 프레임워크를 마구마구 넣고 vscode까지 셋팅하니 일요일이었다. 그러나 Apple M2 Max(12코어 CPU, 38코어 GPU, 16코어 Neural Engine)96GB 통합 메모리의 퍼포먼스를 만끽해보는 시간들이었다.\n",
    "    - 보안상 인터넷을 쓸 수 없는 공간에 들어가 노트북만으로 작업을 해야 한다는 가정하에 꼭 아니 반드시 한번은 했어야 할 노트북 셋팅작업이었다. 그래서 토요일 하루가 아깝지 않았다. \n",
    "\n",
    "</li>\n",
    "\n",
    "</ol>\n"
   ]
  }
 ],
 "metadata": {
  "kernelspec": {
   "display_name": "aiffel",
   "language": "python",
   "name": "python3"
  },
  "language_info": {
   "codemirror_mode": {
    "name": "ipython",
    "version": 3
   },
   "file_extension": ".py",
   "mimetype": "text/x-python",
   "name": "python",
   "nbconvert_exporter": "python",
   "pygments_lexer": "ipython3",
   "version": "3.11.5"
  }
 },
 "nbformat": 4,
 "nbformat_minor": 2
}
